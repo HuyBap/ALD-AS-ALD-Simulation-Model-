{
 "cells": [
  {
   "cell_type": "markdown",
   "id": "d3e8cba8",
   "metadata": {},
   "source": [
    "# Import Libraries"
   ]
  },
  {
   "cell_type": "code",
   "execution_count": 1,
   "id": "fe346ece",
   "metadata": {},
   "outputs": [
    {
     "data": {
      "application/vnd.jupyter.widget-view+json": {
       "model_id": "bb306d69128c46dc8acc1e480d86fd07",
       "version_major": 2,
       "version_minor": 0
      },
      "text/plain": []
     },
     "metadata": {},
     "output_type": "display_data"
    },
    {
     "name": "stderr",
     "output_type": "stream",
     "text": [
      "c:\\Users\\dangh\\AppData\\Local\\Programs\\Python\\Python313\\Lib\\site-packages\\nglview\\__init__.py:12: UserWarning: pkg_resources is deprecated as an API. See https://setuptools.pypa.io/en/latest/pkg_resources.html. The pkg_resources package is slated for removal as early as 2025-11-30. Refrain from using this package or pin to Setuptools<81.\n",
      "  import pkg_resources\n"
     ]
    }
   ],
   "source": [
    "from ase.visualize import view\n",
    "from ase.io import read\n",
    "from ase.data import atomic_numbers, vdw_radii\n",
    "from ase.build import surface\n",
    "from ase.build import add_adsorbate\n",
    "from ase import Atoms\n",
    "import numpy as np\n",
    "from typing import List, Tuple, Optional\n",
    "from scipy.spatial import KDTree\n",
    "from itertools import combinations\n",
    "import nglview\n",
    "from tqdm import tqdm\n",
    "from scipy.spatial import cKDTree"
   ]
  },
  {
   "cell_type": "markdown",
   "id": "b12e1058",
   "metadata": {},
   "source": [
    "# Supporting Functions"
   ]
  },
  {
   "cell_type": "code",
   "execution_count": 2,
   "id": "a7854d87",
   "metadata": {},
   "outputs": [],
   "source": [
    "def atomic_radii(structure_path):\n",
    "    \"\"\"\n",
    "    Trích xuất bán kính nguyên tử từ structure file .\n",
    "    \n",
    "    Parameters:\n",
    "    -----------\n",
    "    structure_path : str\n",
    "        Đường dẫn đến file .\n",
    "    \n",
    "    Returns:\n",
    "    --------\n",
    "    radii_dict : dict\n",
    "        Từ điển chứa tên nguyên tố và bán kính van der Waals.\n",
    "    \"\"\"\n",
    "    try:\n",
    "        atoms = read(structure_path)\n",
    "    except Exception as e:\n",
    "        raise ValueError(f\"Không thể đọc file : {e}\")\n",
    "    \n",
    "    elements = set(atoms.get_chemical_symbols())\n",
    "    radii_dict = {}\n",
    "    for element in elements:\n",
    "        atomic_number = atomic_numbers[element]\n",
    "        radius = vdw_radii[atomic_number] if vdw_radii[atomic_number] != 0 else 1.0\n",
    "        radii_dict[element] = radius\n",
    "        print(f\"{element} radius: {radius}\")\n",
    "    \n",
    "    return radii_dict\n",
    "\n",
    "def molecule_surface_area(atoms, atom_radii, num_points=100000):\n",
    "    \"\"\"\n",
    "    Tính diện tích bề mặt của phân tử theo góc nhìn từ trên xuống (mặt phẳng xy) bằng phương pháp Monte Carlo.\n",
    "\n",
    "    Parameters:\n",
    "    - atoms: ASE Atoms object, chứa thông tin vị trí và ký hiệu hóa học của các nguyên tử\n",
    "    - atom_radii: dict, chứa bán kính nguyên tử (ví dụ: {'Al': 1.43, 'C': 1.7, 'H': 1.0})\n",
    "    - num_points: int, số điểm ngẫu nhiên cho ước lượng Monte Carlo\n",
    "\n",
    "    Returns:\n",
    "    - area_angstrom2: float, diện tích bề mặt ước lượng (Å²)\n",
    "    - area_nm2: float, diện tích bề mặt ước lượng (nm²)\n",
    "    \"\"\"\n",
    "    # Lấy tọa độ x, y (bỏ qua z) từ đối tượng Atoms\n",
    "    coords_xy = np.array([atom.position[:2] for atom in atoms])  # Shape (n_atoms, 2)\n",
    "\n",
    "    # Lấy bán kính dựa trên ký hiệu hóa học\n",
    "    radii = np.array([atom_radii[atom.symbol] for atom in atoms])  # Shape (n_atoms,)\n",
    "\n",
    "    # Tìm hộp giới hạn (bounding box)\n",
    "    min_x = np.min(coords_xy[:, 0] - radii)\n",
    "    max_x = np.max(coords_xy[:, 0] + radii)\n",
    "    min_y = np.min(coords_xy[:, 1] - radii)\n",
    "    max_y = np.max(coords_xy[:, 1] + radii)\n",
    "\n",
    "    # Tính diện tích hộp giới hạn\n",
    "    box_area = (max_x - min_x) * (max_y - min_y)\n",
    "\n",
    "    # Tạo điểm ngẫu nhiên trong hộp giới hạn\n",
    "    points_x = np.random.uniform(min_x, max_x, num_points)\n",
    "    points_y = np.random.uniform(min_y, max_y, num_points)\n",
    "    points = np.vstack((points_x, points_y)).T  # Shape (num_points, 2)\n",
    "\n",
    "    # Kiểm tra xem các điểm có nằm trong hình tròn của nguyên tử nào không\n",
    "    inside_count = 0\n",
    "    for i in range(num_points):\n",
    "        for j, center in enumerate(coords_xy):\n",
    "            distance = np.sqrt(np.sum((points[i] - center) ** 2))\n",
    "            if distance <= radii[j]:\n",
    "                inside_count += 1\n",
    "                break  # Điểm nằm trong ít nhất một hình tròn, không cần kiểm tra tiếp\n",
    "\n",
    "    # Tính diện tích\n",
    "    area_angstrom2 = (inside_count / num_points) * box_area\n",
    "    area_nm2 = area_angstrom2 / 100  # Chuyển từ Å² sang nm²\n",
    "    print(f\"Diện tích bề mặt phân tử (Top view): {area_angstrom2:.2f} Å², {area_nm2:.4f} nm²\")\n",
    "    return area_angstrom2, area_nm2\n",
    "\n",
    "# Hàm tính khoảng cách vector hóa\n",
    "def compute_distances_vectorized(coords1, coords2):\n",
    "    # Hàm dùng để kiểm tra sự chồng chéo của các điểm trên bề mặt - Steric Hindrance\n",
    "    diff = coords1[:, np.newaxis] - coords2  # Shape (n1, n2, 3)\n",
    "    distances = np.sqrt(np.sum(diff**2, axis=2))  # Shape (n1, n2)\n",
    "    return distances\n",
    "\n",
    "# Hàm xoay phân tử ngẫu nhiên theo trục Z\n",
    "def rotate_molecule_z_axis(adsorbate):\n",
    "    \"\"\"\n",
    "    Rotate an ASE Atoms object around the Z-axis passing through the main atom (index 0)\n",
    "    by a random angle in [0, 360) degrees.\n",
    "    \n",
    "    Parameters:\n",
    "    adsorbate : ASE Atoms\n",
    "        The molecule to rotate, containing atomic positions.\n",
    "    \n",
    "    Returns:\n",
    "    rotated_adsorbate : ASE Atoms\n",
    "        A copy of the input molecule with all atoms rotated around the Z-axis through the main atom.\n",
    "    \"\"\"\n",
    "    # Create a copy to avoid modifying the original\n",
    "    rotated_adsorbate = adsorbate.copy()\n",
    "    \n",
    "    # Get the position of the main atom (index 0) as pivot\n",
    "    pivot = rotated_adsorbate[0].position.copy()\n",
    "    \n",
    "    # Generate random angle in degrees\n",
    "    theta = np.random.uniform(0, 360)\n",
    "    \n",
    "    # Convert angle to radians\n",
    "    theta_rad = np.radians(theta)\n",
    "    \n",
    "    # Rotation matrix for Z-axis\n",
    "    rotation_matrix = np.array([\n",
    "        [np.cos(theta_rad), -np.sin(theta_rad), 0],\n",
    "        [np.sin(theta_rad), np.cos(theta_rad), 0],\n",
    "        [0, 0, 1]\n",
    "    ])\n",
    "    \n",
    "    # Translate all atoms so that pivot is at origin\n",
    "    rotated_adsorbate.positions -= pivot\n",
    "    \n",
    "    # Apply rotation\n",
    "    rotated_adsorbate.positions = np.dot(rotated_adsorbate.positions, rotation_matrix.T)\n",
    "    \n",
    "    # Translate back to restore pivot position\n",
    "    rotated_adsorbate.positions += pivot\n",
    "    \n",
    "    return rotated_adsorbate"
   ]
  },
  {
   "cell_type": "markdown",
   "id": "9db37d5b",
   "metadata": {},
   "source": [
    "# Precursor/Inhibitor Configuration"
   ]
  },
  {
   "cell_type": "code",
   "execution_count": 3,
   "id": "f4250898",
   "metadata": {},
   "outputs": [],
   "source": [
    "def atomic_positions(structure_path):\n",
    "    \"\"\"\n",
    "    Đọc file cấu trúc (.xyz, .cif, ...) và in ký hiệu cùng tọa độ các nguyên tử.\n",
    "    \"\"\"\n",
    "    atoms = read(structure_path)\n",
    "    radius = atomic_radii(structure_path)\n",
    "    #view(atoms)\n",
    "    print(\"Atomic symbols:\", atoms.get_chemical_symbols())\n",
    "    print(\"Atomic positions (Å):\")\n",
    "    print(atoms.positions)\n",
    "    # In từng nguyên tử\n",
    "    for symbol, pos in zip(atoms.get_chemical_symbols(), atoms.positions):\n",
    "        print(f\"{symbol}: x={pos[0]:.4f}, y={pos[1]:.4f}, z={pos[2]:.4f}\")\n",
    "    return atoms, radius\n",
    "\n",
    "def atomic_remove_indices(atoms, remove_indices=None):\n",
    "    \"\"\"\n",
    "    Xóa các nguyên tử theo chỉ số index, rồi in ra cấu trúc còn lại.\n",
    "    \"\"\"\n",
    "\n",
    "    if remove_indices:\n",
    "        # Tạo danh sách các index cần giữ lại\n",
    "        keep_mask = [i not in remove_indices for i in range(len(atoms))]\n",
    "        atoms = atoms[keep_mask]\n",
    "\n",
    "    # Hiển thị và in thông tin\n",
    "    #view(atoms)\n",
    "    print(f\"Sau khi loại bỏ nguyên tử thứ {remove_indices}, cấu trúc phân tử mới là:\")\n",
    "    for i, (s, p) in enumerate(zip(atoms.get_chemical_symbols(), atoms.positions)):\n",
    "        print(f\"{i}: {s} - x={p[0]:.8f}, y={p[1]:.8f}, z={p[2]:.8f}\")\n",
    "\n",
    "    return atoms\n",
    "\n",
    "\n",
    "# Hàm random coords cho phân tử\n",
    "def generate_random_position_and_rotation(slab, adsorption_sites, z_offset=2.0, angle_range=(1, 360)):\n",
    "    \"\"\"\n",
    "    Generate a random position strictly within the 2D surface of the slab (including non-rectangular cells),\n",
    "    and rotation matrices.\n",
    "\n",
    "    Parameters:\n",
    "    - slab: ASE Atoms object\n",
    "    - z_offset: float, distance above the top surface\n",
    "    - angle_range: tuple, rotation angle range in degrees\n",
    "\n",
    "    Returns:\n",
    "    - position: (1, 3) np.ndarray, absolute cartesian coordinates [x, y, z]\n",
    "    - rotx, roty, rotz: rotation matrices\n",
    "    \"\"\"\n",
    "    import numpy as np\n",
    "\n",
    "    # Get cell vectors\n",
    "    cell = slab.get_cell()  # shape (3, 3)\n",
    "    a1, a2 = cell[0], cell[1]  # Only surface plane\n",
    "    #adsorption_sites[0][2]\n",
    "    z_ads_max = np.max(np.array(adsorption_sites)[:, 2])\n",
    "    z_value = z_ads_max + z_offset\n",
    "\n",
    "    # Random fractional coords in 2D unit cell\n",
    "    r1 = np.random.rand()\n",
    "    r2 = np.random.rand()\n",
    "\n",
    "    # Compute cartesian xy from lattice vectors\n",
    "    xy = r1 * a1 + r2 * a2\n",
    "    position = np.array([[xy[0], xy[1], z_value]])\n",
    "\n",
    "    # Rotation angles\n",
    "    alpha = np.radians(np.random.uniform(*angle_range))\n",
    "    beta  = np.radians(np.random.uniform(*angle_range))\n",
    "    gamma = np.radians(np.random.uniform(*angle_range))\n",
    "\n",
    "    # Rotation matrices\n",
    "    rotx = np.array([\n",
    "        [1, 0, 0],\n",
    "        [0, np.cos(alpha), -np.sin(alpha)],\n",
    "        [0, np.sin(alpha), np.cos(alpha)]\n",
    "    ])\n",
    "    roty = np.array([\n",
    "        [np.cos(beta), 0, np.sin(beta)],\n",
    "        [0, 1, 0],\n",
    "        [-np.sin(beta), 0, np.cos(beta)]\n",
    "    ])\n",
    "    rotz = np.array([\n",
    "        [np.cos(gamma), -np.sin(gamma), 0],\n",
    "        [np.sin(gamma), np.cos(gamma), 0],\n",
    "        [0, 0, 1]\n",
    "    ])\n",
    "\n",
    "    return position, rotx, roty, rotz\n",
    "\n",
    "\n",
    "\n",
    "def rotate_adsorbate_flexible(adsorbate, ads_site, v1_type='two_atoms', indices=None):\n",
    "    \"\"\"\n",
    "    Quay phân tử tiền chất để căn chỉnh vector từ main atom với ontop_site, linh hoạt giữa hai nguyên tử hoặc centroid/midpoint.\n",
    "    \n",
    "    Parameters:\n",
    "    -----------\n",
    "    adsorbate : ASE Atoms\n",
    "        Đối tượng phân tử tiền chất (từ atomic_remove_indices).\n",
    "    ontop_site : list\n",
    "        Tọa độ (x, y, z) của site hấp phụ trên bề mặt.\n",
    "    v1_type : str, optional\n",
    "        Loại vector v1: 'two_atoms' (vector giữa 2 nguyên tử) hoặc 'centroid' (midpoint cho 2 nguyên tử, centroid cho 3+). Mặc định là 'two_atoms'.\n",
    "    indices : list, optional\n",
    "        Danh sách index của nguyên tử:\n",
    "        - Với 'two_atoms': 2 index (thứ hai phải khác 0).\n",
    "        - Với 'centroid': 2 hoặc nhiều index (khác 0) để tính midpoint/centroid.\n",
    "        Nếu None, mặc định là [0, 1] cho 'two_atoms' hoặc [1, 2] cho 'centroid'.\n",
    "    \n",
    "    Returns:\n",
    "    --------\n",
    "    rotated_adsorbate : ASE Atoms\n",
    "        Đối tượng phân tử đã xoay với main atom tại vị trí ban đầu, cần dịch thủ công đến ontop_site.\n",
    "    angle : float\n",
    "        Góc quay (radian) được áp dụng.\n",
    "    axis : list\n",
    "        Trục quay (x, y, z) được sử dụng.\n",
    "    \"\"\"\n",
    "    from scipy.spatial.transform import Rotation as R\n",
    "    import numpy as np\n",
    "    \n",
    "    # Sao chép adsorbate để xử lý\n",
    "    rotated_adsorbate = adsorbate.copy()\n",
    "    \n",
    "    # Pivot là main atom (nguyên tử đầu tiên, index 0)\n",
    "    pivot = rotated_adsorbate[0].position.copy()\n",
    "    \n",
    "    # Xử lý indices mặc định\n",
    "    if indices is None:\n",
    "        indices = [1] if v1_type == 'two_atoms' else [1, 2]\n",
    "    if v1_type == 'two_atoms' and len(indices) != 2:\n",
    "        indices = [1]  # Mặc định lấy nguyên tử thứ hai nếu không đủ 2 index\n",
    "    \n",
    "    # Tính vector v1\n",
    "    if v1_type == 'two_atoms':\n",
    "        if len(indices) < 2:\n",
    "            raise ValueError(\"Cần ít nhất 2 index cho v1_type 'two_atoms'.\")\n",
    "        v1_start = pivot\n",
    "        v1_end = rotated_adsorbate.positions[indices[1]]\n",
    "        v1 = v1_end - v1_start\n",
    "    elif v1_type == 'centroid':\n",
    "        if len(indices) < 2:\n",
    "            raise ValueError(\"Cần ít nhất 2 index cho v1_type 'centroid'.\")\n",
    "        other_atoms_positions = [rotated_adsorbate.positions[i] for i in indices]\n",
    "        if len(indices) == 2:\n",
    "            # Trung điểm của 2 nguyên tử\n",
    "            midpoint = np.mean(other_atoms_positions, axis=0)\n",
    "            v1 = midpoint - pivot\n",
    "        else:\n",
    "            # Centroid của 3 hoặc nhiều nguyên tử\n",
    "            centroid = np.mean(other_atoms_positions, axis=0)\n",
    "            v1 = centroid - pivot\n",
    "    else:\n",
    "        raise ValueError(\"v1_type phải là 'two_atoms' hoặc 'centroid'.\")\n",
    "    \n",
    "    # Vector mục tiêu: từ main atom đến ads_site\n",
    "    v2 = ads_site - pivot\n",
    "    \n",
    "    # Chuẩn hóa vector\n",
    "    v1 /= np.linalg.norm(v1)\n",
    "    v2 /= np.linalg.norm(v2)\n",
    "    \n",
    "    # Tính toán góc quay\n",
    "    cross = np.cross(v1, v2)\n",
    "    dot = np.dot(v1, v2)\n",
    "    if np.linalg.norm(cross) < 1e-8:  # Vector thẳng hàng hoặc ngược chiều\n",
    "        if dot < 0:\n",
    "            axis = np.array([1, 0, 0]) if not np.allclose(v1, [1, 0, 0]) else np.array([0, 1, 0])\n",
    "            angle = np.pi\n",
    "        else:\n",
    "            axis = np.array([0, 0, 1])  # Không cần quay\n",
    "            angle = 0.0\n",
    "    else:\n",
    "        axis = cross / np.linalg.norm(cross)\n",
    "        angle = np.arccos(np.clip(dot, -1.0, 1.0))\n",
    "    \n",
    "    # Tạo đối tượng Rotation\n",
    "    rotation = R.from_rotvec(angle * axis)\n",
    "    \n",
    "    # Áp dụng quay quanh pivot\n",
    "    rotated_adsorbate.translate(-pivot)  # Dịch pivot về gốc\n",
    "    rotated_adsorbate.positions = rotation.apply(rotated_adsorbate.positions)\n",
    "    rotated_adsorbate.translate(pivot)   # Dịch lại về vị trí ban đầu\n",
    "    \n",
    "    # Dịch main atom đến ads_site (không thêm vào slab)\n",
    "    #offset = ads_site - rotated_adsorbate[0].position\n",
    "    #rotated_adsorbate.translate(offset)\n",
    "    view(rotated_adsorbate)\n",
    "    print(f\"\\nApplied rotation - Angle: {np.degrees(angle):.1f}°, Axis: [{axis[0]:.2f}, {axis[1]:.2f}, {axis[2]:.2f}]\")\n",
    "    print(f\"v1_type: {v1_type}, Indices used: {indices}\")\n",
    "\n",
    "    \n",
    "    return rotated_adsorbate, angle, axis\n"
   ]
  },
  {
   "cell_type": "markdown",
   "id": "e513dd4c",
   "metadata": {},
   "source": [
    "# Substrate Surface Configuration"
   ]
  },
  {
   "cell_type": "code",
   "execution_count": 4,
   "id": "e4a3f8d0",
   "metadata": {},
   "outputs": [],
   "source": [
    "def generate_slab_from_cif(cif_path, miller_indices=(1, 0, 0), layers=4, vacuum=10.0, size=(1, 1, 1), repeat=(4, 4, 1)):\n",
    "    \"\"\"\n",
    "    Tạo một bề mặt slab từ file CIF với chỉ số Miller tùy chỉnh, tính diện tích bề mặt và giới hạn.\n",
    "\n",
    "    Parameters:\n",
    "    -----------\n",
    "    cif_path : str\n",
    "        Đường dẫn đến file CIF chứa cấu trúc tinh thể.\n",
    "    miller_indices : tuple, optional\n",
    "        Chỉ số Miller (h, k, l) để xác định mặt phẳng bề mặt. Mặc định là (1, 0, 0).\n",
    "    layers : int, optional\n",
    "        Số lớp nguyên tử trong slab. Mặc định là 4.\n",
    "    vacuum : float, optional\n",
    "        Khoảng chân không (Å) dọc theo trục z. Mặc định là 10.0.\n",
    "    size : tuple, optional\n",
    "        Kích thước ban đầu của cấu trúc (nx, ny, nz) trước khi lặp lại. Mặc định là (1, 1, 1).\n",
    "    repeat : tuple, optional\n",
    "        Số lần lặp lại theo x, y, z để mở rộng slab. Mặc định là (4, 4, 1).\n",
    "\n",
    "    Returns:\n",
    "    --------\n",
    "    result : tuple\n",
    "        (slab, surface_area, x_min, x_max, y_min, y_max)\n",
    "        - slab: ASE Atoms object, đối tượng slab đã được tạo\n",
    "        - surface_area: float, diện tích bề mặt (nm²) tính từ hộp giới hạn xy\n",
    "        - x_min, x_max, y_min, y_max: float, giới hạn tọa độ trong mặt phẳng xy (Å)\n",
    "    \"\"\"\n",
    "    # Đọc cấu trúc từ file CIF\n",
    "    structure = read(cif_path)\n",
    "\n",
    "    # Tạo bề mặt dựa trên chỉ số Miller\n",
    "    slab = surface(structure, miller_indices, layers=layers, vacuum=vacuum)\n",
    "\n",
    "    # Lặp lại slab để tăng kích thước\n",
    "    slab = slab.repeat(repeat)\n",
    "\n",
    "    # Bật PBC cho cả ba hướng\n",
    "    slab.pbc = [True, True, True]\n",
    "\n",
    "    # Tính diện tích bề mặt chính xác theo cell vectors (Å²)\n",
    "    a1 = slab.cell[0]  # Vector theo x\n",
    "    a2 = slab.cell[1]  # Vector theo y\n",
    "    surface_area_angstrom2 = np.linalg.norm(np.cross(a1, a2))\n",
    "    surface_area_nm2 = surface_area_angstrom2 / 100  # 1 nm² = 100 Å²\n",
    "\n",
    "    # In thông tin slab\n",
    "    print(f\"Slab created with Miller indices {miller_indices} and {len(slab)} atoms:\")\n",
    "    print(f\"Cell: {slab.cell}\")\n",
    "    print(f\"Surface area: {surface_area_nm2:.4f} nm²\")\n",
    "    '''\n",
    "    print(\"Atomic positions with symbols:\")\n",
    "    for i, (symbol, pos) in enumerate(zip(slab.get_chemical_symbols(), slab.positions)):\n",
    "        print(f\"Atom {i}: {symbol} - x={pos[0]:.4f}, y={pos[1]:.4f}, z={pos[2]:.4f}\")\n",
    "    '''\n",
    "\n",
    "    return slab, surface_area_nm2\n",
    "\n",
    "\n",
    "def adsorption_sites(slab: Atoms, nx: int = 3, ny: int = 2, distance: Optional[float] = None, site_type: str = \"ontop\", atom1_idx: Optional[int] = None, atom2_idx: Optional[int] = None) -> Tuple[Atoms, np.ndarray, List[np.ndarray]]:\n",
    "    \"\"\"\n",
    "    Determine adsorption sites on the top layer of a flat slab surface by selecting atoms with\n",
    "    x-coordinates <= the nth smallest x-value and y-coordinates <= the nth smallest y-value,\n",
    "    and calculate specific adsorption sites (ontop, bridge, hollow3, hollow4) based on distance.\n",
    "    Visualize all top layer atoms with filtered atoms highlighted. selected_positions is used\n",
    "    only to calculate distance if atom1_idx and atom2_idx are provided.\n",
    "\n",
    "    Parameters:\n",
    "    -----------\n",
    "    slab : ASE Atoms\n",
    "        The slab structure from generate_slab_from_cif.\n",
    "    nx : int, optional\n",
    "        Number of smallest x-coordinates to define the upper x-limit. Default is 3.\n",
    "    ny : int, optional\n",
    "        Number of smallest y-coordinates to define the upper y-limit. Default is 2.\n",
    "    distance : float, optional\n",
    "        Distance between neighboring atoms to determine adsorption sites. If None, calculated from atom1_idx and atom2_idx.\n",
    "    site_type : str, optional\n",
    "        Type of adsorption site to calculate ('ontop', 'bridge', 'hollow3', 'hollow4'). Default is 'ontop'.\n",
    "    atom1_idx : int, optional\n",
    "        Index of the first atom to calculate distance. Default is None.\n",
    "    atom2_idx : int, optional\n",
    "        Index of the second atom to calculate distance. Default is None.\n",
    "\n",
    "    Returns:\n",
    "    --------\n",
    "    combined_atoms : ASE Atoms\n",
    "        Combined Atoms object containing all top layer atoms (original colors) plus filtered atoms highlighted in red.\n",
    "    selected_positions : np.ndarray\n",
    "        Array of selected atom positions within the defined region (used only for distance calculation).\n",
    "    adsorption_sites : List[np.ndarray]\n",
    "        List of calculated adsorption site coordinates (x, y, z) based on top_layer_positions.\n",
    "    \"\"\"\n",
    "    # Step 1: Identify atoms in the top layer (exact Z maximum)\n",
    "    positions = slab.get_positions()\n",
    "    z_coords = positions[:, 2]\n",
    "    z_max = np.max(z_coords)\n",
    "    top_layer_mask = z_coords == z_max\n",
    "    top_layer_positions = positions[top_layer_mask]\n",
    "    top_layer_symbols = np.array(slab.get_chemical_symbols())[top_layer_mask]\n",
    "    \n",
    "    if len(top_layer_positions) == 0:\n",
    "        raise ValueError(\"No atoms found in the top layer of the slab.\")\n",
    "    \n",
    "    # Print number of atoms in the top layer\n",
    "    print(f\"Number of atoms in top layer at Z={z_max:.4f} Å: {len(top_layer_positions)}\")\n",
    "    \n",
    "    # Step 2: Select nx smallest x-coordinates and ny smallest y-coordinates\n",
    "    nth_x = nx\n",
    "    nth_y = ny\n",
    "    sorted_values_x = np.sort(np.unique(np.round(top_layer_positions[:, 0], decimals=10)))  # Sort x values\n",
    "    sorted_values_y = np.sort(np.unique(np.round(top_layer_positions[:, 1], decimals=10)))  # Sort y values\n",
    "    x_target = sorted_values_x[nth_x - 1]\n",
    "    y_target = sorted_values_y[nth_y - 1]\n",
    "    print(f\"Giá trị X thứ {nth_x} nhỏ nhất: {x_target}\")\n",
    "    print(f\"Giá trị Y thứ {nth_y} nhỏ nhất: {y_target}\")\n",
    "\n",
    "    mask = ((top_layer_positions[:, 0] <= x_target) & (top_layer_positions[:, 1] <= y_target))\n",
    "\n",
    "    selected_positions = top_layer_positions[mask]\n",
    "    selected_symbols = top_layer_symbols[mask]\n",
    "\n",
    "    print(f\"Các nguyên tử trong top layer với x <= {x_target} và y <= {y_target}:\")\n",
    "    for pos, sym in zip(selected_positions, selected_symbols):\n",
    "        print(f\"{sym}: {pos}\")\n",
    "    \n",
    "    # Step 3: Calculate distance if not provided\n",
    "    if distance is not None:\n",
    "        print(f\"Using provided distance: {distance:.8f} Å\")\n",
    "    elif atom1_idx is not None and atom2_idx is not None and 0 <= atom1_idx < len(selected_positions) and 0 <= atom2_idx < len(selected_positions):\n",
    "        pos1 = selected_positions[atom1_idx][:2]  # First atom's x, y\n",
    "        pos2 = selected_positions[atom2_idx][:2]  # Second atom's x, y\n",
    "        distance = np.linalg.norm(pos1 - pos2)\n",
    "        print(f\"Khoảng cách XY giữa 2 nguyên tử {pos1} và {pos2}: {distance:.8f} Å (calculated from indices {atom1_idx} and {atom2_idx})\")\n",
    "    else:\n",
    "        print(\"Warning: Distance not provided and not enough valid atom indices to calculate. Using default distance of 0.0 Å.\")\n",
    "        distance = 0.0\n",
    "    '''\n",
    "    print(f\"Number of filtered atoms: {len(selected_positions)}\")\n",
    "    print(\"Filtered positions:\")\n",
    "    for i, pos in enumerate(selected_positions):\n",
    "        print(f\"  Atom {i}: ({pos[0]:.8f}, {pos[1]:.8f}, {pos[2]:.8f}) - {selected_symbols[i]}\")\n",
    "    '''\n",
    "    \n",
    "    if len(selected_positions) == 0:\n",
    "        print(\"No atoms found with the selected x and y coordinate constraints.\")\n",
    "        return Atoms(), selected_positions, []\n",
    "\n",
    "    # Step 4: Calculate adsorption sites\n",
    "    adsorption_sites_list = calculate_adsorption_sites(top_layer_positions, distance, site_type)\n",
    "    \n",
    "    print(f\"Number of calculated {site_type} adsorption sites: {len(adsorption_sites_list)}\")\n",
    "    print(\"Adsorption site positions:\")\n",
    "    for i, site in enumerate(adsorption_sites_list):\n",
    "        print(f\"  Site {i}: ({site[0]:.8f}, {site[1]:.8f}, {site[2]:.8f})\")\n",
    "\n",
    "    \n",
    "    # Step 5: Create Atoms objects for visualization\n",
    "    # All top layer atoms (original symbols and colors)\n",
    "    top_layer_atoms = Atoms(\n",
    "        symbols=top_layer_symbols,\n",
    "        positions=top_layer_positions,\n",
    "        cell=slab.get_cell(),\n",
    "        pbc=slab.get_pbc()\n",
    "    )\n",
    "    \n",
    "    # Filtered atoms (highlighted with 'X' symbol for red color)\n",
    "    filtered_highlight_atoms = Atoms(\n",
    "        symbols=['X'] * len(selected_positions),\n",
    "        positions=selected_positions,\n",
    "        cell=slab.get_cell(),\n",
    "        pbc=slab.get_pbc()\n",
    "    )\n",
    "    \n",
    "    # Combine both for visualization\n",
    "    combined_atoms = top_layer_atoms + filtered_highlight_atoms\n",
    "    \n",
    "    # Visualize the combined structure\n",
    "    print(\"Visualizing top layer atoms (original colors) with filtered atoms highlighted using ASE view...\")\n",
    "    \n",
    "    # Return combined atoms, selected positions, and calculated adsorption sites\n",
    "    return combined_atoms, selected_positions, adsorption_sites_list\n",
    "\n",
    "def calculate_adsorption_sites(top_layer_positions: np.ndarray, distance: float, site_type: str) -> List[np.ndarray]:\n",
    "    \"\"\"\n",
    "    Calculate adsorption sites (ontop, bridge, hollow3, hollow4) based on top layer positions and distance.\n",
    "\n",
    "    Parameters:\n",
    "    -----------\n",
    "    top_layer_positions : np.ndarray\n",
    "        Array of all atom positions in the top layer (Z_max).\n",
    "    distance : float\n",
    "        Distance between neighboring atoms to determine adsorption sites.\n",
    "    site_type : str\n",
    "        Type of adsorption site to calculate ('ontop', 'bridge', 'hollow3', 'hollow4').\n",
    "    z_max : float\n",
    "        Z-coordinate of the top layer.\n",
    "\n",
    "    Returns:\n",
    "    --------\n",
    "    adsorption_sites : List[np.ndarray]\n",
    "        List of calculated adsorption site coordinates (x, y, z).\n",
    "    \"\"\"\n",
    "    adsorption_sites_list = []\n",
    "    tolerance = 1e-5  # Tolerance for distance comparison\n",
    "\n",
    "    if site_type == \"ontop\":\n",
    "        # For ontop, use all top layer positions directly\n",
    "        adsorption_sites_list = [pos for pos in top_layer_positions]\n",
    "    else:\n",
    "        for i, pos1 in enumerate(top_layer_positions):\n",
    "            for j, pos2 in enumerate(top_layer_positions):\n",
    "                if i < j:  # Avoid self-comparison and duplicate pairs\n",
    "                    dist = np.linalg.norm(pos1[:2] - pos2[:2])\n",
    "                    if np.isclose(dist, distance, rtol=tolerance, atol=tolerance):\n",
    "                        # Bridge: Midpoint between two atoms\n",
    "                        if site_type == \"bridge\":\n",
    "                            bridge_site = (pos1 + pos2) / 2\n",
    "                            #bridge_site = np.append(bridge_site, z_max)  # Add z-coordinate\n",
    "                            # Check for duplicates using np.allclose\n",
    "                            is_duplicate = False\n",
    "                            for existing_site in adsorption_sites_list:\n",
    "                                if np.allclose(bridge_site, existing_site, rtol=tolerance, atol=tolerance):\n",
    "                                    is_duplicate = True\n",
    "                                    break\n",
    "                            if not is_duplicate:\n",
    "                                adsorption_sites_list.append(bridge_site)\n",
    "                        \n",
    "                        # Hollow3: Center of a triangle (requires 3 atoms)\n",
    "                        elif site_type == \"hollow3\":\n",
    "                            for k, pos3 in enumerate(top_layer_positions):\n",
    "                                if k > j:\n",
    "                                    dist2 = np.linalg.norm(pos2[:2] - pos3[:2])\n",
    "                                    dist3 = np.linalg.norm(pos1[:2] - pos3[:2])\n",
    "                                    if (np.isclose(dist2, distance, rtol=tolerance, atol=tolerance) and\n",
    "                                        np.isclose(dist3, distance, rtol=tolerance, atol=tolerance)):\n",
    "                                        hollow3_site = (pos1 + pos2 + pos3) / 3\n",
    "                                        #hollow3_site = np.append(hollow3_site, z_max)\n",
    "                                        # Check for duplicates using np.allclose\n",
    "                                        is_duplicate = False\n",
    "                                        for existing_site in adsorption_sites_list:\n",
    "                                            if np.allclose(hollow3_site, existing_site, rtol=tolerance, atol=tolerance):\n",
    "                                                is_duplicate = True\n",
    "                                                break\n",
    "                                        if not is_duplicate:\n",
    "                                            adsorption_sites_list.append(hollow3_site)\n",
    "                        \n",
    "                        # Hollow4: Center of a square (requires 4 atoms)\n",
    "                        elif site_type == \"hollow4\":\n",
    "                            for k, pos3 in enumerate(top_layer_positions):\n",
    "                                if k > j:\n",
    "                                    dist2 = np.linalg.norm(pos2[:2] - pos3[:2])\n",
    "                                    if np.isclose(dist2, distance, rtol=tolerance, atol=tolerance):\n",
    "                                        for l, pos4 in enumerate(top_layer_positions):\n",
    "                                            if l > k:\n",
    "                                                dist3 = np.linalg.norm(pos3[:2] - pos4[:2])\n",
    "                                                dist4 = np.linalg.norm(pos1[:2] - pos4[:2])\n",
    "                                                if (np.isclose(dist3, distance, rtol=tolerance, atol=tolerance) and\n",
    "                                                    np.isclose(dist4, distance, rtol=tolerance, atol=tolerance)):\n",
    "                                                    # Check if atoms form a square (approximate)\n",
    "                                                    if np.allclose(np.abs(dist - dist2), 0, atol=tolerance) and \\\n",
    "                                                       np.allclose(np.abs(dist - dist3), 0, atol=tolerance) and \\\n",
    "                                                       np.allclose(np.abs(dist - dist4), 0, atol=tolerance):\n",
    "                                                        hollow4_site = (pos1 + pos2 + pos3 + pos4) / 4\n",
    "                                                        #hollow4_site = np.append(hollow4_site, z_max)\n",
    "                                                        # Check for duplicates using np.allclose\n",
    "                                                        is_duplicate = False\n",
    "                                                        for existing_site in adsorption_sites_list:\n",
    "                                                            if np.allclose(hollow4_site, existing_site, rtol=tolerance, atol=tolerance):\n",
    "                                                                is_duplicate = True\n",
    "                                                                break\n",
    "                                                        if not is_duplicate:\n",
    "                                                            adsorption_sites_list.append(hollow4_site)\n",
    "\n",
    "    return adsorption_sites_list\n",
    "\n",
    "\n"
   ]
  },
  {
   "cell_type": "markdown",
   "id": "36206973",
   "metadata": {},
   "source": [
    "# Run Simulation"
   ]
  },
  {
   "cell_type": "code",
   "execution_count": 5,
   "id": "4fadbf83",
   "metadata": {},
   "outputs": [],
   "source": [
    "N = 3                      # Số vòng lặp mô phỏng / Số cycle\n",
    "N_gas = 10000              # Số phân tử trong mỗi lần mô phỏng (precursors or inhibitors)\n",
    "\n",
    "# Số điểm hấp phụ trên bề mặt gần nhất với precursors/ inhibitors đang xét\n",
    "MAX_SITES = 20\n",
    "\n",
    "# Inhibitor và Precursor \n",
    "# Khởi tạo mảng với precursors\n",
    "#number_gas_precursor = np.array([0])  # 1D, Shape (1,) Lưu lại số lượng phân tử khí trong gas phase với Precursors\n",
    "#number_ads_precursor = np.array([0])  # 1D, Shape (1,) Lưu lại số lượng phân tử khí đã hấp phụ trên bề mặt với Precursors\n",
    "#Sn_ads_phase_t = np.array([[-10, -10, -10]])  # 2D, Shape (1, 3) Lưu giá trị nguyên tử trong tiền chất TMA ở pha hấp phụ\n",
    "#Cl_ads_phase_t = np.array([[-10, -10, -10]])   # 2D, Shape (1, 3) Lưu giá trị nguyên tử trong tiền chất TMA ở pha hấp phụ\n",
    "\n",
    "# Khởi tạo mảng với inhibitors\n",
    "#number_gas_inhibitor = np.array([0])  # 1D, Shape (1,) Lưu lại số lượng phân tử khí trong gas phase với Inhibitors\n",
    "#number_ads_inhibitor = np.array([0])  # 1D, Shape (1,) Lưu lại số lượng phân tử khí đã hấp phụ trên bề mặt với Inhibitors\n",
    "#S_ads_phase_t_ET = np.array([[-10, -10, -10]])  # Shape (1, 3) Lưu giá trị nguyên tử S trong inhibitor ET ở pha hấp phụ\n",
    "#C_ads_phase_t_ET = np.array([[-10, -10, -10]])  # Shape (1, 3) Lưu giá trị nguyên tử C trong inhibitor ET ở pha hấp phụ\n",
    "#H_ads_phase_t_ET = np.array([[-10, -10, -10]])  # Shape (1, 3) Lưu giá trị nguyên tử H trong inhibitor ET ở pha hấp phụ\n",
    "\n",
    "\n"
   ]
  },
  {
   "cell_type": "code",
   "execution_count": 6,
   "id": "e8c203d9",
   "metadata": {},
   "outputs": [
    {
     "name": "stdout",
     "output_type": "stream",
     "text": [
      "Slab created with Miller indices (1, 1, 1) and 9600 atoms:\n",
      "Cell: Cell([[105.51260719999999, 0.0, 0.0], [52.75630359999998, 91.37659825472883, 0.0], [0.0, 0.0, 35.6148112980221]])\n",
      "Surface area: 96.4138 nm²\n"
     ]
    },
    {
     "data": {
      "application/vnd.jupyter.widget-view+json": {
       "model_id": "5b56df5dd9b2412d899711784cc27f81",
       "version_major": 2,
       "version_minor": 0
      },
      "text/plain": [
       "HBox(children=(NGLWidget(), VBox(children=(Dropdown(description='Show', options=('All', 'O', 'Si'), value='All…"
      ]
     },
     "execution_count": 6,
     "metadata": {},
     "output_type": "execute_result"
    }
   ],
   "source": [
    "\n",
    "slab, surface_area_nm2 = generate_slab_from_cif(r\"C:\\Users\\dangh\\Documents\\TaiLieu\\ThS Phenikaa\\AS-ALD Simulation\\CIF Files\\SiO2_mp-8352_computed.cif\",\n",
    "                              miller_indices=(1, 1, 1), layers=4, vacuum=10.0, size=(1, 1, 1), repeat=(20, 20, 1))\n",
    "\n",
    "view(slab, viewer='ngl')"
   ]
  },
  {
   "cell_type": "code",
   "execution_count": 7,
   "id": "af31c402",
   "metadata": {},
   "outputs": [
    {
     "name": "stdout",
     "output_type": "stream",
     "text": [
      "Sn radius: 2.17\n",
      "Cl radius: 1.75\n",
      "Atomic symbols: ['Sn', 'Cl', 'Cl', 'Cl', 'Cl']\n",
      "Atomic positions (Å):\n",
      "[[3.16851134 1.83746502 2.3883634 ]\n",
      " [0.82791464 1.83786156 2.38816274]\n",
      " [3.94971036 4.04376269 2.38816274]\n",
      " [3.94811464 0.73466495 4.2998625 ]\n",
      " [3.94881217 0.73386231 0.4777625 ]]\n",
      "Sn: x=3.1685, y=1.8375, z=2.3884\n",
      "Cl: x=0.8279, y=1.8379, z=2.3882\n",
      "Cl: x=3.9497, y=4.0438, z=2.3882\n",
      "Cl: x=3.9481, y=0.7347, z=4.2999\n",
      "Cl: x=3.9488, y=0.7339, z=0.4778\n",
      "Sau khi loại bỏ nguyên tử thứ [1], cấu trúc phân tử mới là:\n",
      "0: Sn - x=3.16851134, y=1.83746502, z=2.38836340\n",
      "1: Cl - x=3.94971036, y=4.04376269, z=2.38816274\n",
      "2: Cl - x=3.94811464, y=0.73466495, z=4.29986250\n",
      "3: Cl - x=3.94881217, y=0.73386231, z=0.47776250\n",
      "Number of atoms in top layer at Z=25.6148 Å: 400\n",
      "Giá trị X thứ 3 nhỏ nhất: 7.91344554\n",
      "Giá trị Y thứ 2 nhỏ nhất: 6.091773217\n",
      "Các nguyên tử trong top layer với x <= 7.91344554 và y <= 6.091773217:\n",
      "O: [ 2.63781518  1.5229433  25.6148113 ]\n",
      "O: [ 5.27563036  6.09177322 25.6148113 ]\n",
      "Khoảng cách XY giữa 2 nguyên tử [2.63781518 1.5229433 ] và [5.27563036 6.09177322]: 5.27563036 Å (calculated from indices 0 and 1)\n",
      "Number of calculated hollow3 adsorption sites: 722\n",
      "Adsorption site positions:\n",
      "  Site 0: (5.27563036, 3.04588661, 25.61481130)\n",
      "  Site 1: (7.91344554, 7.61471652, 25.61481130)\n",
      "  Site 2: (7.91344554, 4.56882991, 25.61481130)\n",
      "  Site 3: (10.55126072, 12.18354643, 25.61481130)\n",
      "  Site 4: (10.55126072, 9.13765983, 25.61481130)\n",
      "  Site 5: (13.18907590, 16.75237635, 25.61481130)\n",
      "  Site 6: (13.18907590, 13.70648974, 25.61481130)\n",
      "  Site 7: (15.82689108, 21.32120626, 25.61481130)\n",
      "  Site 8: (15.82689108, 18.27531965, 25.61481130)\n",
      "  Site 9: (18.46470626, 25.89003617, 25.61481130)\n",
      "  Site 10: (18.46470626, 22.84414956, 25.61481130)\n",
      "  Site 11: (21.10252144, 30.45886608, 25.61481130)\n",
      "  Site 12: (21.10252144, 27.41297948, 25.61481130)\n",
      "  Site 13: (23.74033662, 35.02769600, 25.61481130)\n",
      "  Site 14: (23.74033662, 31.98180939, 25.61481130)\n",
      "  Site 15: (26.37815180, 39.59652591, 25.61481130)\n",
      "  Site 16: (26.37815180, 36.55063930, 25.61481130)\n",
      "  Site 17: (29.01596698, 44.16535582, 25.61481130)\n",
      "  Site 18: (29.01596698, 41.11946921, 25.61481130)\n",
      "  Site 19: (31.65378216, 48.73418574, 25.61481130)\n",
      "  Site 20: (31.65378216, 45.68829913, 25.61481130)\n",
      "  Site 21: (34.29159734, 53.30301565, 25.61481130)\n",
      "  Site 22: (34.29159734, 50.25712904, 25.61481130)\n",
      "  Site 23: (36.92941252, 57.87184556, 25.61481130)\n",
      "  Site 24: (36.92941252, 54.82595895, 25.61481130)\n",
      "  Site 25: (39.56722770, 62.44067547, 25.61481130)\n",
      "  Site 26: (39.56722770, 59.39478887, 25.61481130)\n",
      "  Site 27: (42.20504288, 67.00950539, 25.61481130)\n",
      "  Site 28: (42.20504288, 63.96361878, 25.61481130)\n",
      "  Site 29: (44.84285806, 71.57833530, 25.61481130)\n",
      "  Site 30: (44.84285806, 68.53244869, 25.61481130)\n",
      "  Site 31: (47.48067324, 76.14716521, 25.61481130)\n",
      "  Site 32: (47.48067324, 73.10127860, 25.61481130)\n",
      "  Site 33: (50.11848842, 80.71599513, 25.61481130)\n",
      "  Site 34: (50.11848842, 77.67010852, 25.61481130)\n",
      "  Site 35: (52.75630360, 85.28482504, 25.61481130)\n",
      "  Site 36: (52.75630360, 82.23893843, 25.61481130)\n",
      "  Site 37: (55.39411878, 86.80776834, 25.61481130)\n",
      "  Site 38: (10.55126072, 3.04588661, 25.61481130)\n",
      "  Site 39: (13.18907590, 7.61471652, 25.61481130)\n",
      "  Site 40: (13.18907590, 4.56882991, 25.61481130)\n",
      "  Site 41: (15.82689108, 12.18354643, 25.61481130)\n",
      "  Site 42: (15.82689108, 9.13765983, 25.61481130)\n",
      "  Site 43: (18.46470626, 16.75237635, 25.61481130)\n",
      "  Site 44: (18.46470626, 13.70648974, 25.61481130)\n",
      "  Site 45: (21.10252144, 21.32120626, 25.61481130)\n",
      "  Site 46: (21.10252144, 18.27531965, 25.61481130)\n",
      "  Site 47: (23.74033662, 25.89003617, 25.61481130)\n",
      "  Site 48: (23.74033662, 22.84414956, 25.61481130)\n",
      "  Site 49: (26.37815180, 30.45886608, 25.61481130)\n",
      "  Site 50: (26.37815180, 27.41297948, 25.61481130)\n",
      "  Site 51: (29.01596698, 35.02769600, 25.61481130)\n",
      "  Site 52: (29.01596698, 31.98180939, 25.61481130)\n",
      "  Site 53: (31.65378216, 39.59652591, 25.61481130)\n",
      "  Site 54: (31.65378216, 36.55063930, 25.61481130)\n",
      "  Site 55: (34.29159734, 44.16535582, 25.61481130)\n",
      "  Site 56: (34.29159734, 41.11946921, 25.61481130)\n",
      "  Site 57: (36.92941252, 48.73418574, 25.61481130)\n",
      "  Site 58: (36.92941252, 45.68829913, 25.61481130)\n",
      "  Site 59: (39.56722770, 53.30301565, 25.61481130)\n",
      "  Site 60: (39.56722770, 50.25712904, 25.61481130)\n",
      "  Site 61: (42.20504288, 57.87184556, 25.61481130)\n",
      "  Site 62: (42.20504288, 54.82595895, 25.61481130)\n",
      "  Site 63: (44.84285806, 62.44067547, 25.61481130)\n",
      "  Site 64: (44.84285806, 59.39478887, 25.61481130)\n",
      "  Site 65: (47.48067324, 67.00950539, 25.61481130)\n",
      "  Site 66: (47.48067324, 63.96361878, 25.61481130)\n",
      "  Site 67: (50.11848842, 71.57833530, 25.61481130)\n",
      "  Site 68: (50.11848842, 68.53244869, 25.61481130)\n",
      "  Site 69: (52.75630360, 76.14716521, 25.61481130)\n",
      "  Site 70: (52.75630360, 73.10127860, 25.61481130)\n",
      "  Site 71: (55.39411878, 80.71599513, 25.61481130)\n",
      "  Site 72: (55.39411878, 77.67010852, 25.61481130)\n",
      "  Site 73: (58.03193396, 85.28482504, 25.61481130)\n",
      "  Site 74: (58.03193396, 82.23893843, 25.61481130)\n",
      "  Site 75: (60.66974914, 86.80776834, 25.61481130)\n",
      "  Site 76: (15.82689108, 3.04588661, 25.61481130)\n",
      "  Site 77: (18.46470626, 7.61471652, 25.61481130)\n",
      "  Site 78: (18.46470626, 4.56882991, 25.61481130)\n",
      "  Site 79: (21.10252144, 12.18354643, 25.61481130)\n",
      "  Site 80: (21.10252144, 9.13765983, 25.61481130)\n",
      "  Site 81: (23.74033662, 16.75237635, 25.61481130)\n",
      "  Site 82: (23.74033662, 13.70648974, 25.61481130)\n",
      "  Site 83: (26.37815180, 21.32120626, 25.61481130)\n",
      "  Site 84: (26.37815180, 18.27531965, 25.61481130)\n",
      "  Site 85: (29.01596698, 25.89003617, 25.61481130)\n",
      "  Site 86: (29.01596698, 22.84414956, 25.61481130)\n",
      "  Site 87: (31.65378216, 30.45886608, 25.61481130)\n",
      "  Site 88: (31.65378216, 27.41297948, 25.61481130)\n",
      "  Site 89: (34.29159734, 35.02769600, 25.61481130)\n",
      "  Site 90: (34.29159734, 31.98180939, 25.61481130)\n",
      "  Site 91: (36.92941252, 39.59652591, 25.61481130)\n",
      "  Site 92: (36.92941252, 36.55063930, 25.61481130)\n",
      "  Site 93: (39.56722770, 44.16535582, 25.61481130)\n",
      "  Site 94: (39.56722770, 41.11946921, 25.61481130)\n",
      "  Site 95: (42.20504288, 48.73418574, 25.61481130)\n",
      "  Site 96: (42.20504288, 45.68829913, 25.61481130)\n",
      "  Site 97: (44.84285806, 53.30301565, 25.61481130)\n",
      "  Site 98: (44.84285806, 50.25712904, 25.61481130)\n",
      "  Site 99: (47.48067324, 57.87184556, 25.61481130)\n",
      "  Site 100: (47.48067324, 54.82595895, 25.61481130)\n",
      "  Site 101: (50.11848842, 62.44067547, 25.61481130)\n",
      "  Site 102: (50.11848842, 59.39478887, 25.61481130)\n",
      "  Site 103: (52.75630360, 67.00950539, 25.61481130)\n",
      "  Site 104: (52.75630360, 63.96361878, 25.61481130)\n",
      "  Site 105: (55.39411878, 71.57833530, 25.61481130)\n",
      "  Site 106: (55.39411878, 68.53244869, 25.61481130)\n",
      "  Site 107: (58.03193396, 76.14716521, 25.61481130)\n",
      "  Site 108: (58.03193396, 73.10127860, 25.61481130)\n",
      "  Site 109: (60.66974914, 80.71599513, 25.61481130)\n",
      "  Site 110: (60.66974914, 77.67010852, 25.61481130)\n",
      "  Site 111: (63.30756432, 85.28482504, 25.61481130)\n",
      "  Site 112: (63.30756432, 82.23893843, 25.61481130)\n",
      "  Site 113: (65.94537950, 86.80776834, 25.61481130)\n",
      "  Site 114: (21.10252144, 3.04588661, 25.61481130)\n",
      "  Site 115: (23.74033662, 7.61471652, 25.61481130)\n",
      "  Site 116: (23.74033662, 4.56882991, 25.61481130)\n",
      "  Site 117: (26.37815180, 12.18354643, 25.61481130)\n",
      "  Site 118: (26.37815180, 9.13765983, 25.61481130)\n",
      "  Site 119: (29.01596698, 16.75237635, 25.61481130)\n",
      "  Site 120: (29.01596698, 13.70648974, 25.61481130)\n",
      "  Site 121: (31.65378216, 21.32120626, 25.61481130)\n",
      "  Site 122: (31.65378216, 18.27531965, 25.61481130)\n",
      "  Site 123: (34.29159734, 25.89003617, 25.61481130)\n",
      "  Site 124: (34.29159734, 22.84414956, 25.61481130)\n",
      "  Site 125: (36.92941252, 30.45886608, 25.61481130)\n",
      "  Site 126: (36.92941252, 27.41297948, 25.61481130)\n",
      "  Site 127: (39.56722770, 35.02769600, 25.61481130)\n",
      "  Site 128: (39.56722770, 31.98180939, 25.61481130)\n",
      "  Site 129: (42.20504288, 39.59652591, 25.61481130)\n",
      "  Site 130: (42.20504288, 36.55063930, 25.61481130)\n",
      "  Site 131: (44.84285806, 44.16535582, 25.61481130)\n",
      "  Site 132: (44.84285806, 41.11946921, 25.61481130)\n",
      "  Site 133: (47.48067324, 48.73418574, 25.61481130)\n",
      "  Site 134: (47.48067324, 45.68829913, 25.61481130)\n",
      "  Site 135: (50.11848842, 53.30301565, 25.61481130)\n",
      "  Site 136: (50.11848842, 50.25712904, 25.61481130)\n",
      "  Site 137: (52.75630360, 57.87184556, 25.61481130)\n",
      "  Site 138: (52.75630360, 54.82595895, 25.61481130)\n",
      "  Site 139: (55.39411878, 62.44067547, 25.61481130)\n",
      "  Site 140: (55.39411878, 59.39478887, 25.61481130)\n",
      "  Site 141: (58.03193396, 67.00950539, 25.61481130)\n",
      "  Site 142: (58.03193396, 63.96361878, 25.61481130)\n",
      "  Site 143: (60.66974914, 71.57833530, 25.61481130)\n",
      "  Site 144: (60.66974914, 68.53244869, 25.61481130)\n",
      "  Site 145: (63.30756432, 76.14716521, 25.61481130)\n",
      "  Site 146: (63.30756432, 73.10127860, 25.61481130)\n",
      "  Site 147: (65.94537950, 80.71599513, 25.61481130)\n",
      "  Site 148: (65.94537950, 77.67010852, 25.61481130)\n",
      "  Site 149: (68.58319468, 85.28482504, 25.61481130)\n",
      "  Site 150: (68.58319468, 82.23893843, 25.61481130)\n",
      "  Site 151: (71.22100986, 86.80776834, 25.61481130)\n",
      "  Site 152: (26.37815180, 3.04588661, 25.61481130)\n",
      "  Site 153: (29.01596698, 7.61471652, 25.61481130)\n",
      "  Site 154: (29.01596698, 4.56882991, 25.61481130)\n",
      "  Site 155: (31.65378216, 12.18354643, 25.61481130)\n",
      "  Site 156: (31.65378216, 9.13765983, 25.61481130)\n",
      "  Site 157: (34.29159734, 16.75237635, 25.61481130)\n",
      "  Site 158: (34.29159734, 13.70648974, 25.61481130)\n",
      "  Site 159: (36.92941252, 21.32120626, 25.61481130)\n",
      "  Site 160: (36.92941252, 18.27531965, 25.61481130)\n",
      "  Site 161: (39.56722770, 25.89003617, 25.61481130)\n",
      "  Site 162: (39.56722770, 22.84414956, 25.61481130)\n",
      "  Site 163: (42.20504288, 30.45886608, 25.61481130)\n",
      "  Site 164: (42.20504288, 27.41297948, 25.61481130)\n",
      "  Site 165: (44.84285806, 35.02769600, 25.61481130)\n",
      "  Site 166: (44.84285806, 31.98180939, 25.61481130)\n",
      "  Site 167: (47.48067324, 39.59652591, 25.61481130)\n",
      "  Site 168: (47.48067324, 36.55063930, 25.61481130)\n",
      "  Site 169: (50.11848842, 44.16535582, 25.61481130)\n",
      "  Site 170: (50.11848842, 41.11946921, 25.61481130)\n",
      "  Site 171: (52.75630360, 48.73418574, 25.61481130)\n",
      "  Site 172: (52.75630360, 45.68829913, 25.61481130)\n",
      "  Site 173: (55.39411878, 53.30301565, 25.61481130)\n",
      "  Site 174: (55.39411878, 50.25712904, 25.61481130)\n",
      "  Site 175: (58.03193396, 57.87184556, 25.61481130)\n",
      "  Site 176: (58.03193396, 54.82595895, 25.61481130)\n",
      "  Site 177: (60.66974914, 62.44067547, 25.61481130)\n",
      "  Site 178: (60.66974914, 59.39478887, 25.61481130)\n",
      "  Site 179: (63.30756432, 67.00950539, 25.61481130)\n",
      "  Site 180: (63.30756432, 63.96361878, 25.61481130)\n",
      "  Site 181: (65.94537950, 71.57833530, 25.61481130)\n",
      "  Site 182: (65.94537950, 68.53244869, 25.61481130)\n",
      "  Site 183: (68.58319468, 76.14716521, 25.61481130)\n",
      "  Site 184: (68.58319468, 73.10127860, 25.61481130)\n",
      "  Site 185: (71.22100986, 80.71599513, 25.61481130)\n",
      "  Site 186: (71.22100986, 77.67010852, 25.61481130)\n",
      "  Site 187: (73.85882504, 85.28482504, 25.61481130)\n",
      "  Site 188: (73.85882504, 82.23893843, 25.61481130)\n",
      "  Site 189: (76.49664022, 86.80776834, 25.61481130)\n",
      "  Site 190: (31.65378216, 3.04588661, 25.61481130)\n",
      "  Site 191: (34.29159734, 7.61471652, 25.61481130)\n",
      "  Site 192: (34.29159734, 4.56882991, 25.61481130)\n",
      "  Site 193: (36.92941252, 12.18354643, 25.61481130)\n",
      "  Site 194: (36.92941252, 9.13765983, 25.61481130)\n",
      "  Site 195: (39.56722770, 16.75237635, 25.61481130)\n",
      "  Site 196: (39.56722770, 13.70648974, 25.61481130)\n",
      "  Site 197: (42.20504288, 21.32120626, 25.61481130)\n",
      "  Site 198: (42.20504288, 18.27531965, 25.61481130)\n",
      "  Site 199: (44.84285806, 25.89003617, 25.61481130)\n",
      "  Site 200: (44.84285806, 22.84414956, 25.61481130)\n",
      "  Site 201: (47.48067324, 30.45886608, 25.61481130)\n",
      "  Site 202: (47.48067324, 27.41297948, 25.61481130)\n",
      "  Site 203: (50.11848842, 35.02769600, 25.61481130)\n",
      "  Site 204: (50.11848842, 31.98180939, 25.61481130)\n",
      "  Site 205: (52.75630360, 39.59652591, 25.61481130)\n",
      "  Site 206: (52.75630360, 36.55063930, 25.61481130)\n",
      "  Site 207: (55.39411878, 44.16535582, 25.61481130)\n",
      "  Site 208: (55.39411878, 41.11946921, 25.61481130)\n",
      "  Site 209: (58.03193396, 48.73418574, 25.61481130)\n",
      "  Site 210: (58.03193396, 45.68829913, 25.61481130)\n",
      "  Site 211: (60.66974914, 53.30301565, 25.61481130)\n",
      "  Site 212: (60.66974914, 50.25712904, 25.61481130)\n",
      "  Site 213: (63.30756432, 57.87184556, 25.61481130)\n",
      "  Site 214: (63.30756432, 54.82595895, 25.61481130)\n",
      "  Site 215: (65.94537950, 62.44067547, 25.61481130)\n",
      "  Site 216: (65.94537950, 59.39478887, 25.61481130)\n",
      "  Site 217: (68.58319468, 67.00950539, 25.61481130)\n",
      "  Site 218: (68.58319468, 63.96361878, 25.61481130)\n",
      "  Site 219: (71.22100986, 71.57833530, 25.61481130)\n",
      "  Site 220: (71.22100986, 68.53244869, 25.61481130)\n",
      "  Site 221: (73.85882504, 76.14716521, 25.61481130)\n",
      "  Site 222: (73.85882504, 73.10127860, 25.61481130)\n",
      "  Site 223: (76.49664022, 80.71599513, 25.61481130)\n",
      "  Site 224: (76.49664022, 77.67010852, 25.61481130)\n",
      "  Site 225: (79.13445540, 85.28482504, 25.61481130)\n",
      "  Site 226: (79.13445540, 82.23893843, 25.61481130)\n",
      "  Site 227: (81.77227058, 86.80776834, 25.61481130)\n",
      "  Site 228: (36.92941252, 3.04588661, 25.61481130)\n",
      "  Site 229: (39.56722770, 7.61471652, 25.61481130)\n",
      "  Site 230: (39.56722770, 4.56882991, 25.61481130)\n",
      "  Site 231: (42.20504288, 12.18354643, 25.61481130)\n",
      "  Site 232: (42.20504288, 9.13765983, 25.61481130)\n",
      "  Site 233: (44.84285806, 16.75237635, 25.61481130)\n",
      "  Site 234: (44.84285806, 13.70648974, 25.61481130)\n",
      "  Site 235: (47.48067324, 21.32120626, 25.61481130)\n",
      "  Site 236: (47.48067324, 18.27531965, 25.61481130)\n",
      "  Site 237: (50.11848842, 25.89003617, 25.61481130)\n",
      "  Site 238: (50.11848842, 22.84414956, 25.61481130)\n",
      "  Site 239: (52.75630360, 30.45886608, 25.61481130)\n",
      "  Site 240: (52.75630360, 27.41297948, 25.61481130)\n",
      "  Site 241: (55.39411878, 35.02769600, 25.61481130)\n",
      "  Site 242: (55.39411878, 31.98180939, 25.61481130)\n",
      "  Site 243: (58.03193396, 39.59652591, 25.61481130)\n",
      "  Site 244: (58.03193396, 36.55063930, 25.61481130)\n",
      "  Site 245: (60.66974914, 44.16535582, 25.61481130)\n",
      "  Site 246: (60.66974914, 41.11946921, 25.61481130)\n",
      "  Site 247: (63.30756432, 48.73418574, 25.61481130)\n",
      "  Site 248: (63.30756432, 45.68829913, 25.61481130)\n",
      "  Site 249: (65.94537950, 53.30301565, 25.61481130)\n",
      "  Site 250: (65.94537950, 50.25712904, 25.61481130)\n",
      "  Site 251: (68.58319468, 57.87184556, 25.61481130)\n",
      "  Site 252: (68.58319468, 54.82595895, 25.61481130)\n",
      "  Site 253: (71.22100986, 62.44067547, 25.61481130)\n",
      "  Site 254: (71.22100986, 59.39478887, 25.61481130)\n",
      "  Site 255: (73.85882504, 67.00950539, 25.61481130)\n",
      "  Site 256: (73.85882504, 63.96361878, 25.61481130)\n",
      "  Site 257: (76.49664022, 71.57833530, 25.61481130)\n",
      "  Site 258: (76.49664022, 68.53244869, 25.61481130)\n",
      "  Site 259: (79.13445540, 76.14716521, 25.61481130)\n",
      "  Site 260: (79.13445540, 73.10127860, 25.61481130)\n",
      "  Site 261: (81.77227058, 80.71599513, 25.61481130)\n",
      "  Site 262: (81.77227058, 77.67010852, 25.61481130)\n",
      "  Site 263: (84.41008576, 85.28482504, 25.61481130)\n",
      "  Site 264: (84.41008576, 82.23893843, 25.61481130)\n",
      "  Site 265: (87.04790094, 86.80776834, 25.61481130)\n",
      "  Site 266: (42.20504288, 3.04588661, 25.61481130)\n",
      "  Site 267: (44.84285806, 7.61471652, 25.61481130)\n",
      "  Site 268: (44.84285806, 4.56882991, 25.61481130)\n",
      "  Site 269: (47.48067324, 12.18354643, 25.61481130)\n",
      "  Site 270: (47.48067324, 9.13765983, 25.61481130)\n",
      "  Site 271: (50.11848842, 16.75237635, 25.61481130)\n",
      "  Site 272: (50.11848842, 13.70648974, 25.61481130)\n",
      "  Site 273: (52.75630360, 21.32120626, 25.61481130)\n",
      "  Site 274: (52.75630360, 18.27531965, 25.61481130)\n",
      "  Site 275: (55.39411878, 25.89003617, 25.61481130)\n",
      "  Site 276: (55.39411878, 22.84414956, 25.61481130)\n",
      "  Site 277: (58.03193396, 30.45886608, 25.61481130)\n",
      "  Site 278: (58.03193396, 27.41297948, 25.61481130)\n",
      "  Site 279: (60.66974914, 35.02769600, 25.61481130)\n",
      "  Site 280: (60.66974914, 31.98180939, 25.61481130)\n",
      "  Site 281: (63.30756432, 39.59652591, 25.61481130)\n",
      "  Site 282: (63.30756432, 36.55063930, 25.61481130)\n",
      "  Site 283: (65.94537950, 44.16535582, 25.61481130)\n",
      "  Site 284: (65.94537950, 41.11946921, 25.61481130)\n",
      "  Site 285: (68.58319468, 48.73418574, 25.61481130)\n",
      "  Site 286: (68.58319468, 45.68829913, 25.61481130)\n",
      "  Site 287: (71.22100986, 53.30301565, 25.61481130)\n",
      "  Site 288: (71.22100986, 50.25712904, 25.61481130)\n",
      "  Site 289: (73.85882504, 57.87184556, 25.61481130)\n",
      "  Site 290: (73.85882504, 54.82595895, 25.61481130)\n",
      "  Site 291: (76.49664022, 62.44067547, 25.61481130)\n",
      "  Site 292: (76.49664022, 59.39478887, 25.61481130)\n",
      "  Site 293: (79.13445540, 67.00950539, 25.61481130)\n",
      "  Site 294: (79.13445540, 63.96361878, 25.61481130)\n",
      "  Site 295: (81.77227058, 71.57833530, 25.61481130)\n",
      "  Site 296: (81.77227058, 68.53244869, 25.61481130)\n",
      "  Site 297: (84.41008576, 76.14716521, 25.61481130)\n",
      "  Site 298: (84.41008576, 73.10127860, 25.61481130)\n",
      "  Site 299: (87.04790094, 80.71599513, 25.61481130)\n",
      "  Site 300: (87.04790094, 77.67010852, 25.61481130)\n",
      "  Site 301: (89.68571612, 85.28482504, 25.61481130)\n",
      "  Site 302: (89.68571612, 82.23893843, 25.61481130)\n",
      "  Site 303: (92.32353130, 86.80776834, 25.61481130)\n",
      "  Site 304: (47.48067324, 3.04588661, 25.61481130)\n",
      "  Site 305: (50.11848842, 7.61471652, 25.61481130)\n",
      "  Site 306: (50.11848842, 4.56882991, 25.61481130)\n",
      "  Site 307: (52.75630360, 12.18354643, 25.61481130)\n",
      "  Site 308: (52.75630360, 9.13765983, 25.61481130)\n",
      "  Site 309: (55.39411878, 16.75237635, 25.61481130)\n",
      "  Site 310: (55.39411878, 13.70648974, 25.61481130)\n",
      "  Site 311: (58.03193396, 21.32120626, 25.61481130)\n",
      "  Site 312: (58.03193396, 18.27531965, 25.61481130)\n",
      "  Site 313: (60.66974914, 25.89003617, 25.61481130)\n",
      "  Site 314: (60.66974914, 22.84414956, 25.61481130)\n",
      "  Site 315: (63.30756432, 30.45886608, 25.61481130)\n",
      "  Site 316: (63.30756432, 27.41297948, 25.61481130)\n",
      "  Site 317: (65.94537950, 35.02769600, 25.61481130)\n",
      "  Site 318: (65.94537950, 31.98180939, 25.61481130)\n",
      "  Site 319: (68.58319468, 39.59652591, 25.61481130)\n",
      "  Site 320: (68.58319468, 36.55063930, 25.61481130)\n",
      "  Site 321: (71.22100986, 44.16535582, 25.61481130)\n",
      "  Site 322: (71.22100986, 41.11946921, 25.61481130)\n",
      "  Site 323: (73.85882504, 48.73418574, 25.61481130)\n",
      "  Site 324: (73.85882504, 45.68829913, 25.61481130)\n",
      "  Site 325: (76.49664022, 53.30301565, 25.61481130)\n",
      "  Site 326: (76.49664022, 50.25712904, 25.61481130)\n",
      "  Site 327: (79.13445540, 57.87184556, 25.61481130)\n",
      "  Site 328: (79.13445540, 54.82595895, 25.61481130)\n",
      "  Site 329: (81.77227058, 62.44067547, 25.61481130)\n",
      "  Site 330: (81.77227058, 59.39478887, 25.61481130)\n",
      "  Site 331: (84.41008576, 67.00950539, 25.61481130)\n",
      "  Site 332: (84.41008576, 63.96361878, 25.61481130)\n",
      "  Site 333: (87.04790094, 71.57833530, 25.61481130)\n",
      "  Site 334: (87.04790094, 68.53244869, 25.61481130)\n",
      "  Site 335: (89.68571612, 76.14716521, 25.61481130)\n",
      "  Site 336: (89.68571612, 73.10127860, 25.61481130)\n",
      "  Site 337: (92.32353130, 80.71599513, 25.61481130)\n",
      "  Site 338: (92.32353130, 77.67010852, 25.61481130)\n",
      "  Site 339: (94.96134648, 85.28482504, 25.61481130)\n",
      "  Site 340: (94.96134648, 82.23893843, 25.61481130)\n",
      "  Site 341: (97.59916166, 86.80776834, 25.61481130)\n",
      "  Site 342: (52.75630360, 3.04588661, 25.61481130)\n",
      "  Site 343: (55.39411878, 7.61471652, 25.61481130)\n",
      "  Site 344: (55.39411878, 4.56882991, 25.61481130)\n",
      "  Site 345: (58.03193396, 12.18354643, 25.61481130)\n",
      "  Site 346: (58.03193396, 9.13765983, 25.61481130)\n",
      "  Site 347: (60.66974914, 16.75237635, 25.61481130)\n",
      "  Site 348: (60.66974914, 13.70648974, 25.61481130)\n",
      "  Site 349: (63.30756432, 21.32120626, 25.61481130)\n",
      "  Site 350: (63.30756432, 18.27531965, 25.61481130)\n",
      "  Site 351: (65.94537950, 25.89003617, 25.61481130)\n",
      "  Site 352: (65.94537950, 22.84414956, 25.61481130)\n",
      "  Site 353: (68.58319468, 30.45886608, 25.61481130)\n",
      "  Site 354: (68.58319468, 27.41297948, 25.61481130)\n",
      "  Site 355: (71.22100986, 35.02769600, 25.61481130)\n",
      "  Site 356: (71.22100986, 31.98180939, 25.61481130)\n",
      "  Site 357: (73.85882504, 39.59652591, 25.61481130)\n",
      "  Site 358: (73.85882504, 36.55063930, 25.61481130)\n",
      "  Site 359: (76.49664022, 44.16535582, 25.61481130)\n",
      "  Site 360: (76.49664022, 41.11946921, 25.61481130)\n",
      "  Site 361: (79.13445540, 48.73418574, 25.61481130)\n",
      "  Site 362: (79.13445540, 45.68829913, 25.61481130)\n",
      "  Site 363: (81.77227058, 53.30301565, 25.61481130)\n",
      "  Site 364: (81.77227058, 50.25712904, 25.61481130)\n",
      "  Site 365: (84.41008576, 57.87184556, 25.61481130)\n",
      "  Site 366: (84.41008576, 54.82595895, 25.61481130)\n",
      "  Site 367: (87.04790094, 62.44067547, 25.61481130)\n",
      "  Site 368: (87.04790094, 59.39478887, 25.61481130)\n",
      "  Site 369: (89.68571612, 67.00950539, 25.61481130)\n",
      "  Site 370: (89.68571612, 63.96361878, 25.61481130)\n",
      "  Site 371: (92.32353130, 71.57833530, 25.61481130)\n",
      "  Site 372: (92.32353130, 68.53244869, 25.61481130)\n",
      "  Site 373: (94.96134648, 76.14716521, 25.61481130)\n",
      "  Site 374: (94.96134648, 73.10127860, 25.61481130)\n",
      "  Site 375: (97.59916166, 80.71599513, 25.61481130)\n",
      "  Site 376: (97.59916166, 77.67010852, 25.61481130)\n",
      "  Site 377: (100.23697684, 85.28482504, 25.61481130)\n",
      "  Site 378: (100.23697684, 82.23893843, 25.61481130)\n",
      "  Site 379: (102.87479202, 86.80776834, 25.61481130)\n",
      "  Site 380: (58.03193396, 3.04588661, 25.61481130)\n",
      "  Site 381: (60.66974914, 7.61471652, 25.61481130)\n",
      "  Site 382: (60.66974914, 4.56882991, 25.61481130)\n",
      "  Site 383: (63.30756432, 12.18354643, 25.61481130)\n",
      "  Site 384: (63.30756432, 9.13765983, 25.61481130)\n",
      "  Site 385: (65.94537950, 16.75237635, 25.61481130)\n",
      "  Site 386: (65.94537950, 13.70648974, 25.61481130)\n",
      "  Site 387: (68.58319468, 21.32120626, 25.61481130)\n",
      "  Site 388: (68.58319468, 18.27531965, 25.61481130)\n",
      "  Site 389: (71.22100986, 25.89003617, 25.61481130)\n",
      "  Site 390: (71.22100986, 22.84414956, 25.61481130)\n",
      "  Site 391: (73.85882504, 30.45886608, 25.61481130)\n",
      "  Site 392: (73.85882504, 27.41297948, 25.61481130)\n",
      "  Site 393: (76.49664022, 35.02769600, 25.61481130)\n",
      "  Site 394: (76.49664022, 31.98180939, 25.61481130)\n",
      "  Site 395: (79.13445540, 39.59652591, 25.61481130)\n",
      "  Site 396: (79.13445540, 36.55063930, 25.61481130)\n",
      "  Site 397: (81.77227058, 44.16535582, 25.61481130)\n",
      "  Site 398: (81.77227058, 41.11946921, 25.61481130)\n",
      "  Site 399: (84.41008576, 48.73418574, 25.61481130)\n",
      "  Site 400: (84.41008576, 45.68829913, 25.61481130)\n",
      "  Site 401: (87.04790094, 53.30301565, 25.61481130)\n",
      "  Site 402: (87.04790094, 50.25712904, 25.61481130)\n",
      "  Site 403: (89.68571612, 57.87184556, 25.61481130)\n",
      "  Site 404: (89.68571612, 54.82595895, 25.61481130)\n",
      "  Site 405: (92.32353130, 62.44067547, 25.61481130)\n",
      "  Site 406: (92.32353130, 59.39478887, 25.61481130)\n",
      "  Site 407: (94.96134648, 67.00950539, 25.61481130)\n",
      "  Site 408: (94.96134648, 63.96361878, 25.61481130)\n",
      "  Site 409: (97.59916166, 71.57833530, 25.61481130)\n",
      "  Site 410: (97.59916166, 68.53244869, 25.61481130)\n",
      "  Site 411: (100.23697684, 76.14716521, 25.61481130)\n",
      "  Site 412: (100.23697684, 73.10127860, 25.61481130)\n",
      "  Site 413: (102.87479202, 80.71599513, 25.61481130)\n",
      "  Site 414: (102.87479202, 77.67010852, 25.61481130)\n",
      "  Site 415: (105.51260720, 85.28482504, 25.61481130)\n",
      "  Site 416: (105.51260720, 82.23893843, 25.61481130)\n",
      "  Site 417: (108.15042238, 86.80776834, 25.61481130)\n",
      "  Site 418: (63.30756432, 3.04588661, 25.61481130)\n",
      "  Site 419: (65.94537950, 7.61471652, 25.61481130)\n",
      "  Site 420: (65.94537950, 4.56882991, 25.61481130)\n",
      "  Site 421: (68.58319468, 12.18354643, 25.61481130)\n",
      "  Site 422: (68.58319468, 9.13765983, 25.61481130)\n",
      "  Site 423: (71.22100986, 16.75237635, 25.61481130)\n",
      "  Site 424: (71.22100986, 13.70648974, 25.61481130)\n",
      "  Site 425: (73.85882504, 21.32120626, 25.61481130)\n",
      "  Site 426: (73.85882504, 18.27531965, 25.61481130)\n",
      "  Site 427: (76.49664022, 25.89003617, 25.61481130)\n",
      "  Site 428: (76.49664022, 22.84414956, 25.61481130)\n",
      "  Site 429: (79.13445540, 30.45886608, 25.61481130)\n",
      "  Site 430: (79.13445540, 27.41297948, 25.61481130)\n",
      "  Site 431: (81.77227058, 35.02769600, 25.61481130)\n",
      "  Site 432: (81.77227058, 31.98180939, 25.61481130)\n",
      "  Site 433: (84.41008576, 39.59652591, 25.61481130)\n",
      "  Site 434: (84.41008576, 36.55063930, 25.61481130)\n",
      "  Site 435: (87.04790094, 44.16535582, 25.61481130)\n",
      "  Site 436: (87.04790094, 41.11946921, 25.61481130)\n",
      "  Site 437: (89.68571612, 48.73418574, 25.61481130)\n",
      "  Site 438: (89.68571612, 45.68829913, 25.61481130)\n",
      "  Site 439: (92.32353130, 53.30301565, 25.61481130)\n",
      "  Site 440: (92.32353130, 50.25712904, 25.61481130)\n",
      "  Site 441: (94.96134648, 57.87184556, 25.61481130)\n",
      "  Site 442: (94.96134648, 54.82595895, 25.61481130)\n",
      "  Site 443: (97.59916166, 62.44067547, 25.61481130)\n",
      "  Site 444: (97.59916166, 59.39478887, 25.61481130)\n",
      "  Site 445: (100.23697684, 67.00950539, 25.61481130)\n",
      "  Site 446: (100.23697684, 63.96361878, 25.61481130)\n",
      "  Site 447: (102.87479202, 71.57833530, 25.61481130)\n",
      "  Site 448: (102.87479202, 68.53244869, 25.61481130)\n",
      "  Site 449: (105.51260720, 76.14716521, 25.61481130)\n",
      "  Site 450: (105.51260720, 73.10127860, 25.61481130)\n",
      "  Site 451: (108.15042238, 80.71599513, 25.61481130)\n",
      "  Site 452: (108.15042238, 77.67010852, 25.61481130)\n",
      "  Site 453: (110.78823756, 85.28482504, 25.61481130)\n",
      "  Site 454: (110.78823756, 82.23893843, 25.61481130)\n",
      "  Site 455: (113.42605274, 86.80776834, 25.61481130)\n",
      "  Site 456: (68.58319468, 3.04588661, 25.61481130)\n",
      "  Site 457: (71.22100986, 7.61471652, 25.61481130)\n",
      "  Site 458: (71.22100986, 4.56882991, 25.61481130)\n",
      "  Site 459: (73.85882504, 12.18354643, 25.61481130)\n",
      "  Site 460: (73.85882504, 9.13765983, 25.61481130)\n",
      "  Site 461: (76.49664022, 16.75237635, 25.61481130)\n",
      "  Site 462: (76.49664022, 13.70648974, 25.61481130)\n",
      "  Site 463: (79.13445540, 21.32120626, 25.61481130)\n",
      "  Site 464: (79.13445540, 18.27531965, 25.61481130)\n",
      "  Site 465: (81.77227058, 25.89003617, 25.61481130)\n",
      "  Site 466: (81.77227058, 22.84414956, 25.61481130)\n",
      "  Site 467: (84.41008576, 30.45886608, 25.61481130)\n",
      "  Site 468: (84.41008576, 27.41297948, 25.61481130)\n",
      "  Site 469: (87.04790094, 35.02769600, 25.61481130)\n",
      "  Site 470: (87.04790094, 31.98180939, 25.61481130)\n",
      "  Site 471: (89.68571612, 39.59652591, 25.61481130)\n",
      "  Site 472: (89.68571612, 36.55063930, 25.61481130)\n",
      "  Site 473: (92.32353130, 44.16535582, 25.61481130)\n",
      "  Site 474: (92.32353130, 41.11946921, 25.61481130)\n",
      "  Site 475: (94.96134648, 48.73418574, 25.61481130)\n",
      "  Site 476: (94.96134648, 45.68829913, 25.61481130)\n",
      "  Site 477: (97.59916166, 53.30301565, 25.61481130)\n",
      "  Site 478: (97.59916166, 50.25712904, 25.61481130)\n",
      "  Site 479: (100.23697684, 57.87184556, 25.61481130)\n",
      "  Site 480: (100.23697684, 54.82595895, 25.61481130)\n",
      "  Site 481: (102.87479202, 62.44067547, 25.61481130)\n",
      "  Site 482: (102.87479202, 59.39478887, 25.61481130)\n",
      "  Site 483: (105.51260720, 67.00950539, 25.61481130)\n",
      "  Site 484: (105.51260720, 63.96361878, 25.61481130)\n",
      "  Site 485: (108.15042238, 71.57833530, 25.61481130)\n",
      "  Site 486: (108.15042238, 68.53244869, 25.61481130)\n",
      "  Site 487: (110.78823756, 76.14716521, 25.61481130)\n",
      "  Site 488: (110.78823756, 73.10127860, 25.61481130)\n",
      "  Site 489: (113.42605274, 80.71599513, 25.61481130)\n",
      "  Site 490: (113.42605274, 77.67010852, 25.61481130)\n",
      "  Site 491: (116.06386792, 85.28482504, 25.61481130)\n",
      "  Site 492: (116.06386792, 82.23893843, 25.61481130)\n",
      "  Site 493: (118.70168310, 86.80776834, 25.61481130)\n",
      "  Site 494: (73.85882504, 3.04588661, 25.61481130)\n",
      "  Site 495: (76.49664022, 7.61471652, 25.61481130)\n",
      "  Site 496: (76.49664022, 4.56882991, 25.61481130)\n",
      "  Site 497: (79.13445540, 12.18354643, 25.61481130)\n",
      "  Site 498: (79.13445540, 9.13765983, 25.61481130)\n",
      "  Site 499: (81.77227058, 16.75237635, 25.61481130)\n",
      "  Site 500: (81.77227058, 13.70648974, 25.61481130)\n",
      "  Site 501: (84.41008576, 21.32120626, 25.61481130)\n",
      "  Site 502: (84.41008576, 18.27531965, 25.61481130)\n",
      "  Site 503: (87.04790094, 25.89003617, 25.61481130)\n",
      "  Site 504: (87.04790094, 22.84414956, 25.61481130)\n",
      "  Site 505: (89.68571612, 30.45886608, 25.61481130)\n",
      "  Site 506: (89.68571612, 27.41297948, 25.61481130)\n",
      "  Site 507: (92.32353130, 35.02769600, 25.61481130)\n",
      "  Site 508: (92.32353130, 31.98180939, 25.61481130)\n",
      "  Site 509: (94.96134648, 39.59652591, 25.61481130)\n",
      "  Site 510: (94.96134648, 36.55063930, 25.61481130)\n",
      "  Site 511: (97.59916166, 44.16535582, 25.61481130)\n",
      "  Site 512: (97.59916166, 41.11946921, 25.61481130)\n",
      "  Site 513: (100.23697684, 48.73418574, 25.61481130)\n",
      "  Site 514: (100.23697684, 45.68829913, 25.61481130)\n",
      "  Site 515: (102.87479202, 53.30301565, 25.61481130)\n",
      "  Site 516: (102.87479202, 50.25712904, 25.61481130)\n",
      "  Site 517: (105.51260720, 57.87184556, 25.61481130)\n",
      "  Site 518: (105.51260720, 54.82595895, 25.61481130)\n",
      "  Site 519: (108.15042238, 62.44067547, 25.61481130)\n",
      "  Site 520: (108.15042238, 59.39478887, 25.61481130)\n",
      "  Site 521: (110.78823756, 67.00950539, 25.61481130)\n",
      "  Site 522: (110.78823756, 63.96361878, 25.61481130)\n",
      "  Site 523: (113.42605274, 71.57833530, 25.61481130)\n",
      "  Site 524: (113.42605274, 68.53244869, 25.61481130)\n",
      "  Site 525: (116.06386792, 76.14716521, 25.61481130)\n",
      "  Site 526: (116.06386792, 73.10127860, 25.61481130)\n",
      "  Site 527: (118.70168310, 80.71599513, 25.61481130)\n",
      "  Site 528: (118.70168310, 77.67010852, 25.61481130)\n",
      "  Site 529: (121.33949828, 85.28482504, 25.61481130)\n",
      "  Site 530: (121.33949828, 82.23893843, 25.61481130)\n",
      "  Site 531: (123.97731346, 86.80776834, 25.61481130)\n",
      "  Site 532: (79.13445540, 3.04588661, 25.61481130)\n",
      "  Site 533: (81.77227058, 7.61471652, 25.61481130)\n",
      "  Site 534: (81.77227058, 4.56882991, 25.61481130)\n",
      "  Site 535: (84.41008576, 12.18354643, 25.61481130)\n",
      "  Site 536: (84.41008576, 9.13765983, 25.61481130)\n",
      "  Site 537: (87.04790094, 16.75237635, 25.61481130)\n",
      "  Site 538: (87.04790094, 13.70648974, 25.61481130)\n",
      "  Site 539: (89.68571612, 21.32120626, 25.61481130)\n",
      "  Site 540: (89.68571612, 18.27531965, 25.61481130)\n",
      "  Site 541: (92.32353130, 25.89003617, 25.61481130)\n",
      "  Site 542: (92.32353130, 22.84414956, 25.61481130)\n",
      "  Site 543: (94.96134648, 30.45886608, 25.61481130)\n",
      "  Site 544: (94.96134648, 27.41297948, 25.61481130)\n",
      "  Site 545: (97.59916166, 35.02769600, 25.61481130)\n",
      "  Site 546: (97.59916166, 31.98180939, 25.61481130)\n",
      "  Site 547: (100.23697684, 39.59652591, 25.61481130)\n",
      "  Site 548: (100.23697684, 36.55063930, 25.61481130)\n",
      "  Site 549: (102.87479202, 44.16535582, 25.61481130)\n",
      "  Site 550: (102.87479202, 41.11946921, 25.61481130)\n",
      "  Site 551: (105.51260720, 48.73418574, 25.61481130)\n",
      "  Site 552: (105.51260720, 45.68829913, 25.61481130)\n",
      "  Site 553: (108.15042238, 53.30301565, 25.61481130)\n",
      "  Site 554: (108.15042238, 50.25712904, 25.61481130)\n",
      "  Site 555: (110.78823756, 57.87184556, 25.61481130)\n",
      "  Site 556: (110.78823756, 54.82595895, 25.61481130)\n",
      "  Site 557: (113.42605274, 62.44067547, 25.61481130)\n",
      "  Site 558: (113.42605274, 59.39478887, 25.61481130)\n",
      "  Site 559: (116.06386792, 67.00950539, 25.61481130)\n",
      "  Site 560: (116.06386792, 63.96361878, 25.61481130)\n",
      "  Site 561: (118.70168310, 71.57833530, 25.61481130)\n",
      "  Site 562: (118.70168310, 68.53244869, 25.61481130)\n",
      "  Site 563: (121.33949828, 76.14716521, 25.61481130)\n",
      "  Site 564: (121.33949828, 73.10127860, 25.61481130)\n",
      "  Site 565: (123.97731346, 80.71599513, 25.61481130)\n",
      "  Site 566: (123.97731346, 77.67010852, 25.61481130)\n",
      "  Site 567: (126.61512864, 85.28482504, 25.61481130)\n",
      "  Site 568: (126.61512864, 82.23893843, 25.61481130)\n",
      "  Site 569: (129.25294382, 86.80776834, 25.61481130)\n",
      "  Site 570: (84.41008576, 3.04588661, 25.61481130)\n",
      "  Site 571: (87.04790094, 7.61471652, 25.61481130)\n",
      "  Site 572: (87.04790094, 4.56882991, 25.61481130)\n",
      "  Site 573: (89.68571612, 12.18354643, 25.61481130)\n",
      "  Site 574: (89.68571612, 9.13765983, 25.61481130)\n",
      "  Site 575: (92.32353130, 16.75237635, 25.61481130)\n",
      "  Site 576: (92.32353130, 13.70648974, 25.61481130)\n",
      "  Site 577: (94.96134648, 21.32120626, 25.61481130)\n",
      "  Site 578: (94.96134648, 18.27531965, 25.61481130)\n",
      "  Site 579: (97.59916166, 25.89003617, 25.61481130)\n",
      "  Site 580: (97.59916166, 22.84414956, 25.61481130)\n",
      "  Site 581: (100.23697684, 30.45886608, 25.61481130)\n",
      "  Site 582: (100.23697684, 27.41297948, 25.61481130)\n",
      "  Site 583: (102.87479202, 35.02769600, 25.61481130)\n",
      "  Site 584: (102.87479202, 31.98180939, 25.61481130)\n",
      "  Site 585: (105.51260720, 39.59652591, 25.61481130)\n",
      "  Site 586: (105.51260720, 36.55063930, 25.61481130)\n",
      "  Site 587: (108.15042238, 44.16535582, 25.61481130)\n",
      "  Site 588: (108.15042238, 41.11946921, 25.61481130)\n",
      "  Site 589: (110.78823756, 48.73418574, 25.61481130)\n",
      "  Site 590: (110.78823756, 45.68829913, 25.61481130)\n",
      "  Site 591: (113.42605274, 53.30301565, 25.61481130)\n",
      "  Site 592: (113.42605274, 50.25712904, 25.61481130)\n",
      "  Site 593: (116.06386792, 57.87184556, 25.61481130)\n",
      "  Site 594: (116.06386792, 54.82595895, 25.61481130)\n",
      "  Site 595: (118.70168310, 62.44067547, 25.61481130)\n",
      "  Site 596: (118.70168310, 59.39478887, 25.61481130)\n",
      "  Site 597: (121.33949828, 67.00950539, 25.61481130)\n",
      "  Site 598: (121.33949828, 63.96361878, 25.61481130)\n",
      "  Site 599: (123.97731346, 71.57833530, 25.61481130)\n",
      "  Site 600: (123.97731346, 68.53244869, 25.61481130)\n",
      "  Site 601: (126.61512864, 76.14716521, 25.61481130)\n",
      "  Site 602: (126.61512864, 73.10127860, 25.61481130)\n",
      "  Site 603: (129.25294382, 80.71599513, 25.61481130)\n",
      "  Site 604: (129.25294382, 77.67010852, 25.61481130)\n",
      "  Site 605: (131.89075900, 85.28482504, 25.61481130)\n",
      "  Site 606: (131.89075900, 82.23893843, 25.61481130)\n",
      "  Site 607: (134.52857418, 86.80776834, 25.61481130)\n",
      "  Site 608: (89.68571612, 3.04588661, 25.61481130)\n",
      "  Site 609: (92.32353130, 7.61471652, 25.61481130)\n",
      "  Site 610: (92.32353130, 4.56882991, 25.61481130)\n",
      "  Site 611: (94.96134648, 12.18354643, 25.61481130)\n",
      "  Site 612: (94.96134648, 9.13765983, 25.61481130)\n",
      "  Site 613: (97.59916166, 16.75237635, 25.61481130)\n",
      "  Site 614: (97.59916166, 13.70648974, 25.61481130)\n",
      "  Site 615: (100.23697684, 21.32120626, 25.61481130)\n",
      "  Site 616: (100.23697684, 18.27531965, 25.61481130)\n",
      "  Site 617: (102.87479202, 25.89003617, 25.61481130)\n",
      "  Site 618: (102.87479202, 22.84414956, 25.61481130)\n",
      "  Site 619: (105.51260720, 30.45886608, 25.61481130)\n",
      "  Site 620: (105.51260720, 27.41297948, 25.61481130)\n",
      "  Site 621: (108.15042238, 35.02769600, 25.61481130)\n",
      "  Site 622: (108.15042238, 31.98180939, 25.61481130)\n",
      "  Site 623: (110.78823756, 39.59652591, 25.61481130)\n",
      "  Site 624: (110.78823756, 36.55063930, 25.61481130)\n",
      "  Site 625: (113.42605274, 44.16535582, 25.61481130)\n",
      "  Site 626: (113.42605274, 41.11946921, 25.61481130)\n",
      "  Site 627: (116.06386792, 48.73418574, 25.61481130)\n",
      "  Site 628: (116.06386792, 45.68829913, 25.61481130)\n",
      "  Site 629: (118.70168310, 53.30301565, 25.61481130)\n",
      "  Site 630: (118.70168310, 50.25712904, 25.61481130)\n",
      "  Site 631: (121.33949828, 57.87184556, 25.61481130)\n",
      "  Site 632: (121.33949828, 54.82595895, 25.61481130)\n",
      "  Site 633: (123.97731346, 62.44067547, 25.61481130)\n",
      "  Site 634: (123.97731346, 59.39478887, 25.61481130)\n",
      "  Site 635: (126.61512864, 67.00950539, 25.61481130)\n",
      "  Site 636: (126.61512864, 63.96361878, 25.61481130)\n",
      "  Site 637: (129.25294382, 71.57833530, 25.61481130)\n",
      "  Site 638: (129.25294382, 68.53244869, 25.61481130)\n",
      "  Site 639: (131.89075900, 76.14716521, 25.61481130)\n",
      "  Site 640: (131.89075900, 73.10127860, 25.61481130)\n",
      "  Site 641: (134.52857418, 80.71599513, 25.61481130)\n",
      "  Site 642: (134.52857418, 77.67010852, 25.61481130)\n",
      "  Site 643: (137.16638936, 85.28482504, 25.61481130)\n",
      "  Site 644: (137.16638936, 82.23893843, 25.61481130)\n",
      "  Site 645: (139.80420454, 86.80776834, 25.61481130)\n",
      "  Site 646: (94.96134648, 3.04588661, 25.61481130)\n",
      "  Site 647: (97.59916166, 7.61471652, 25.61481130)\n",
      "  Site 648: (97.59916166, 4.56882991, 25.61481130)\n",
      "  Site 649: (100.23697684, 12.18354643, 25.61481130)\n",
      "  Site 650: (100.23697684, 9.13765983, 25.61481130)\n",
      "  Site 651: (102.87479202, 16.75237635, 25.61481130)\n",
      "  Site 652: (102.87479202, 13.70648974, 25.61481130)\n",
      "  Site 653: (105.51260720, 21.32120626, 25.61481130)\n",
      "  Site 654: (105.51260720, 18.27531965, 25.61481130)\n",
      "  Site 655: (108.15042238, 25.89003617, 25.61481130)\n",
      "  Site 656: (108.15042238, 22.84414956, 25.61481130)\n",
      "  Site 657: (110.78823756, 30.45886608, 25.61481130)\n",
      "  Site 658: (110.78823756, 27.41297948, 25.61481130)\n",
      "  Site 659: (113.42605274, 35.02769600, 25.61481130)\n",
      "  Site 660: (113.42605274, 31.98180939, 25.61481130)\n",
      "  Site 661: (116.06386792, 39.59652591, 25.61481130)\n",
      "  Site 662: (116.06386792, 36.55063930, 25.61481130)\n",
      "  Site 663: (118.70168310, 44.16535582, 25.61481130)\n",
      "  Site 664: (118.70168310, 41.11946921, 25.61481130)\n",
      "  Site 665: (121.33949828, 48.73418574, 25.61481130)\n",
      "  Site 666: (121.33949828, 45.68829913, 25.61481130)\n",
      "  Site 667: (123.97731346, 53.30301565, 25.61481130)\n",
      "  Site 668: (123.97731346, 50.25712904, 25.61481130)\n",
      "  Site 669: (126.61512864, 57.87184556, 25.61481130)\n",
      "  Site 670: (126.61512864, 54.82595895, 25.61481130)\n",
      "  Site 671: (129.25294382, 62.44067547, 25.61481130)\n",
      "  Site 672: (129.25294382, 59.39478887, 25.61481130)\n",
      "  Site 673: (131.89075900, 67.00950539, 25.61481130)\n",
      "  Site 674: (131.89075900, 63.96361878, 25.61481130)\n",
      "  Site 675: (134.52857418, 71.57833530, 25.61481130)\n",
      "  Site 676: (134.52857418, 68.53244869, 25.61481130)\n",
      "  Site 677: (137.16638936, 76.14716521, 25.61481130)\n",
      "  Site 678: (137.16638936, 73.10127860, 25.61481130)\n",
      "  Site 679: (139.80420454, 80.71599513, 25.61481130)\n",
      "  Site 680: (139.80420454, 77.67010852, 25.61481130)\n",
      "  Site 681: (142.44201972, 85.28482504, 25.61481130)\n",
      "  Site 682: (142.44201972, 82.23893843, 25.61481130)\n",
      "  Site 683: (145.07983490, 86.80776834, 25.61481130)\n",
      "  Site 684: (100.23697684, 3.04588661, 25.61481130)\n",
      "  Site 685: (102.87479202, 7.61471652, 25.61481130)\n",
      "  Site 686: (102.87479202, 4.56882991, 25.61481130)\n",
      "  Site 687: (105.51260720, 12.18354643, 25.61481130)\n",
      "  Site 688: (105.51260720, 9.13765983, 25.61481130)\n",
      "  Site 689: (108.15042238, 16.75237635, 25.61481130)\n",
      "  Site 690: (108.15042238, 13.70648974, 25.61481130)\n",
      "  Site 691: (110.78823756, 21.32120626, 25.61481130)\n",
      "  Site 692: (110.78823756, 18.27531965, 25.61481130)\n",
      "  Site 693: (113.42605274, 25.89003617, 25.61481130)\n",
      "  Site 694: (113.42605274, 22.84414956, 25.61481130)\n",
      "  Site 695: (116.06386792, 30.45886608, 25.61481130)\n",
      "  Site 696: (116.06386792, 27.41297948, 25.61481130)\n",
      "  Site 697: (118.70168310, 35.02769600, 25.61481130)\n",
      "  Site 698: (118.70168310, 31.98180939, 25.61481130)\n",
      "  Site 699: (121.33949828, 39.59652591, 25.61481130)\n",
      "  Site 700: (121.33949828, 36.55063930, 25.61481130)\n",
      "  Site 701: (123.97731346, 44.16535582, 25.61481130)\n",
      "  Site 702: (123.97731346, 41.11946921, 25.61481130)\n",
      "  Site 703: (126.61512864, 48.73418574, 25.61481130)\n",
      "  Site 704: (126.61512864, 45.68829913, 25.61481130)\n",
      "  Site 705: (129.25294382, 53.30301565, 25.61481130)\n",
      "  Site 706: (129.25294382, 50.25712904, 25.61481130)\n",
      "  Site 707: (131.89075900, 57.87184556, 25.61481130)\n",
      "  Site 708: (131.89075900, 54.82595895, 25.61481130)\n",
      "  Site 709: (134.52857418, 62.44067547, 25.61481130)\n",
      "  Site 710: (134.52857418, 59.39478887, 25.61481130)\n",
      "  Site 711: (137.16638936, 67.00950539, 25.61481130)\n",
      "  Site 712: (137.16638936, 63.96361878, 25.61481130)\n",
      "  Site 713: (139.80420454, 71.57833530, 25.61481130)\n",
      "  Site 714: (139.80420454, 68.53244869, 25.61481130)\n",
      "  Site 715: (142.44201972, 76.14716521, 25.61481130)\n",
      "  Site 716: (142.44201972, 73.10127860, 25.61481130)\n",
      "  Site 717: (145.07983490, 80.71599513, 25.61481130)\n",
      "  Site 718: (145.07983490, 77.67010852, 25.61481130)\n",
      "  Site 719: (147.71765008, 85.28482504, 25.61481130)\n",
      "  Site 720: (147.71765008, 82.23893843, 25.61481130)\n",
      "  Site 721: (150.35546526, 86.80776834, 25.61481130)\n",
      "Visualizing top layer atoms (original colors) with filtered atoms highlighted using ASE view...\n",
      "\n",
      "Applied rotation - Angle: 84.8°, Axis: [-0.00, -1.00, 0.05]\n",
      "v1_type: centroid, Indices used: [1, 2, 3]\n",
      "Diện tích bề mặt phân tử (Top view): 31.95 Å², 0.3195 nm²\n"
     ]
    }
   ],
   "source": [
    "#print(radius[\"Sn\"])\n",
    "#print(molecules.positions)\n",
    "#print(molecules.positions[4,2])\n",
    "atoms, radius = atomic_positions(r\"C:\\Users\\dangh\\Documents\\TaiLieu\\ThS Phenikaa\\AS-ALD Simulation\\sn_cl_structure.cif\")\n",
    "# Xóa nguyên tử ở dòng 1 và 3 (tính từ 0)\n",
    "atoms_filtered = atomic_remove_indices(atoms, remove_indices=[1])\n",
    "_, _, adsorption_sites = adsorption_sites(slab, nx=3, ny=2, site_type=\"hollow3\", atom1_idx=0, atom2_idx=1)\n",
    "\n",
    "# Build k-d tree\n",
    "cu_tree = cKDTree(adsorption_sites)\n",
    "# Đánh số thứ tự cho các điểm\n",
    "order_sub = np.arange(1, len(adsorption_sites) + 1)  # Mảng 1D từ 1 đến số điểm hấp phụ\n",
    "\n",
    "# Chọn site đầu tiên để thử nghiệm\n",
    "selected_site = adsorption_sites[0]\n",
    "# Quay phân tử\n",
    "rotated_adsorbate, angle, axis = rotate_adsorbate_flexible(atoms_filtered, selected_site, v1_type='centroid', indices=[1, 2, 3])\n",
    "# Tính diện tích bề mặt\n",
    "molecule_area_angstrom2, molecule_area_nm2 = molecule_surface_area(rotated_adsorbate, atom_radii=radius)\n",
    "\n",
    "\n",
    "#add_adsorbate(slab, rotated_adsorbate, height=2, position=(selected_site[0], selected_site[1]), offset=(0, 0))"
   ]
  },
  {
   "cell_type": "code",
   "execution_count": 8,
   "id": "3bdc6bc5",
   "metadata": {},
   "outputs": [
    {
     "data": {
      "text/plain": [
       "<Popen: returncode: None args: ['c:\\\\Users\\\\dangh\\\\AppData\\\\Local\\\\Programs\\...>"
      ]
     },
     "execution_count": 8,
     "metadata": {},
     "output_type": "execute_result"
    }
   ],
   "source": [
    "view(atoms)"
   ]
  },
  {
   "cell_type": "code",
   "execution_count": 9,
   "id": "4c6d4101",
   "metadata": {},
   "outputs": [
    {
     "name": "stdout",
     "output_type": "stream",
     "text": [
      "H radius: 1.2\n",
      "C radius: 1.7\n",
      "S radius: 1.8\n",
      "Atomic symbols: ['S', 'C', 'C', 'H', 'H', 'H', 'H', 'H', 'H']\n",
      "Atomic positions (Å):\n",
      "[[ 1.4415 -0.2624  0.    ]\n",
      " [-0.142   0.6214  0.    ]\n",
      " [-1.2995 -0.359   0.    ]\n",
      " [-0.1882  1.2622  0.8857]\n",
      " [-0.1882  1.2622 -0.8857]\n",
      " [-1.2851 -0.9984 -0.8892]\n",
      " [-1.2851 -0.9984  0.8893]\n",
      " [-2.2492  0.1861  0.    ]\n",
      " [ 2.2236  0.8269  0.    ]]\n",
      "S: x=1.4415, y=-0.2624, z=0.0000\n",
      "C: x=-0.1420, y=0.6214, z=0.0000\n",
      "C: x=-1.2995, y=-0.3590, z=0.0000\n",
      "H: x=-0.1882, y=1.2622, z=0.8857\n",
      "H: x=-0.1882, y=1.2622, z=-0.8857\n",
      "H: x=-1.2851, y=-0.9984, z=-0.8892\n",
      "H: x=-1.2851, y=-0.9984, z=0.8893\n",
      "H: x=-2.2492, y=0.1861, z=0.0000\n",
      "H: x=2.2236, y=0.8269, z=0.0000\n",
      "Sau khi loại bỏ nguyên tử thứ [8], cấu trúc phân tử mới là:\n",
      "0: S - x=1.44150000, y=-0.26240000, z=0.00000000\n",
      "1: C - x=-0.14200000, y=0.62140000, z=0.00000000\n",
      "2: C - x=-1.29950000, y=-0.35900000, z=0.00000000\n",
      "3: H - x=-0.18820000, y=1.26220000, z=0.88570000\n",
      "4: H - x=-0.18820000, y=1.26220000, z=-0.88570000\n",
      "5: H - x=-1.28510000, y=-0.99840000, z=-0.88920000\n",
      "6: H - x=-1.28510000, y=-0.99840000, z=0.88930000\n",
      "7: H - x=-2.24920000, y=0.18610000, z=0.00000000\n",
      "\n",
      "Applied rotation - Angle: 93.8°, Axis: [0.48, 0.86, -0.18]\n",
      "v1_type: centroid, Indices used: [0, 1]\n",
      "Diện tích bề mặt phân tử (Top view): 18.03 Å², 0.1803 nm²\n"
     ]
    }
   ],
   "source": [
    "#print(radius[\"Sn\"])\n",
    "#print(molecules.positions)\n",
    "#print(molecules.positions[4,2])\n",
    "inhibitor_atoms, inhibitor_radius = atomic_positions(r\"C:\\Users\\dangh\\Documents\\TaiLieu\\ThS Phenikaa\\AS-ALD Simulation\\CIF Files\\Conformer3D_COMPOUND_CID_6343.sdf\")\n",
    "# Xóa nguyên tử (tính từ 0)\n",
    "atoms_filtered = atomic_remove_indices(inhibitor_atoms, remove_indices=[8])\n",
    "# Quay phân tử\n",
    "rotated_inhibitor, angle, axis = rotate_adsorbate_flexible(atoms_filtered, selected_site, v1_type='centroid', indices=[0,1])\n",
    "#view(atoms_filtered)\n",
    "inhibitor_area_angstrom2, inhibitor_area_nm2 = molecule_surface_area(rotated_inhibitor, atom_radii=inhibitor_radius)\n",
    "# Kết hợp các từ điển radius\n",
    "radius = radius.copy()  # Bắt đầu với radius của precursor\n",
    "radius.update(inhibitor_radius)   # Cập nhật với radius của inhibitor, giữ các giá trị không trùng lặp"
   ]
  },
  {
   "cell_type": "markdown",
   "id": "835ad063",
   "metadata": {},
   "source": [
    "# TEST 2"
   ]
  },
  {
   "cell_type": "code",
   "execution_count": 10,
   "id": "2585d091",
   "metadata": {},
   "outputs": [
    {
     "name": "stdout",
     "output_type": "stream",
     "text": [
      "\n",
      "==================================================\n",
      "CYCLE 1\n",
      "==================================================\n",
      "\n",
      "1. INHIBITORS PHASE\n",
      "   Iteration 1/5\n"
     ]
    },
    {
     "name": "stderr",
     "output_type": "stream",
     "text": [
      "Generating gas layer: 100%|████████████████| 7500/7500 [00:25<00:00, 292.75it/s]\n"
     ]
    },
    {
     "name": "stdout",
     "output_type": "stream",
     "text": [
      "   Generated 204 gas inhibitors in this iteration.\n"
     ]
    },
    {
     "name": "stderr",
     "output_type": "stream",
     "text": [
      "Iter 1 Inhibitors: 100%|█████████████████████| 204/204 [00:01<00:00, 156.68it/s]\n"
     ]
    },
    {
     "name": "stdout",
     "output_type": "stream",
     "text": [
      "   Iteration 1 complete: 197 adsorbed\n",
      "   Iteration 2/5\n"
     ]
    },
    {
     "name": "stderr",
     "output_type": "stream",
     "text": [
      "Generating gas layer: 100%|████████████████| 7500/7500 [00:26<00:00, 287.06it/s]\n"
     ]
    },
    {
     "name": "stdout",
     "output_type": "stream",
     "text": [
      "   Generated 203 gas inhibitors in this iteration.\n"
     ]
    },
    {
     "name": "stderr",
     "output_type": "stream",
     "text": [
      "Iter 2 Inhibitors: 100%|██████████████████████| 203/203 [00:11<00:00, 17.15it/s]\n"
     ]
    },
    {
     "name": "stdout",
     "output_type": "stream",
     "text": [
      "   Iteration 2 complete: 262 adsorbed\n",
      "   Iteration 3/5\n"
     ]
    },
    {
     "name": "stderr",
     "output_type": "stream",
     "text": [
      "Generating gas layer: 100%|████████████████| 7500/7500 [00:25<00:00, 294.89it/s]\n"
     ]
    },
    {
     "name": "stdout",
     "output_type": "stream",
     "text": [
      "   Generated 205 gas inhibitors in this iteration.\n"
     ]
    },
    {
     "name": "stderr",
     "output_type": "stream",
     "text": [
      "Iter 3 Inhibitors: 100%|██████████████████████| 205/205 [00:15<00:00, 13.10it/s]\n"
     ]
    },
    {
     "name": "stdout",
     "output_type": "stream",
     "text": [
      "   Iteration 3 complete: 264 adsorbed\n",
      "   Iteration 4/5\n"
     ]
    },
    {
     "name": "stderr",
     "output_type": "stream",
     "text": [
      "Generating gas layer: 100%|████████████████| 7500/7500 [00:25<00:00, 298.33it/s]\n"
     ]
    },
    {
     "name": "stdout",
     "output_type": "stream",
     "text": [
      "   Generated 196 gas inhibitors in this iteration.\n"
     ]
    },
    {
     "name": "stderr",
     "output_type": "stream",
     "text": [
      "Iter 4 Inhibitors: 100%|██████████████████████| 196/196 [00:15<00:00, 12.52it/s]\n"
     ]
    },
    {
     "name": "stdout",
     "output_type": "stream",
     "text": [
      "   Iteration 4 complete: 267 adsorbed\n",
      "   Iteration 5/5\n"
     ]
    },
    {
     "name": "stderr",
     "output_type": "stream",
     "text": [
      "Generating gas layer: 100%|████████████████| 7500/7500 [00:28<00:00, 264.38it/s]\n"
     ]
    },
    {
     "name": "stdout",
     "output_type": "stream",
     "text": [
      "   Generated 211 gas inhibitors in this iteration.\n"
     ]
    },
    {
     "name": "stderr",
     "output_type": "stream",
     "text": [
      "Iter 5 Inhibitors: 100%|██████████████████████| 211/211 [00:16<00:00, 12.41it/s]\n"
     ]
    },
    {
     "name": "stdout",
     "output_type": "stream",
     "text": [
      "   Iteration 5 complete: 269 adsorbed\n",
      "   Total: 1019 gas → 269 adsorbed\n",
      "\n",
      "2. PRECURSORS PHASE\n",
      "   Iteration 1/5\n"
     ]
    },
    {
     "name": "stderr",
     "output_type": "stream",
     "text": [
      "Generating gas layer: 100%|████████████████| 7500/7500 [00:15<00:00, 476.44it/s]\n"
     ]
    },
    {
     "name": "stdout",
     "output_type": "stream",
     "text": [
      "   Generated 162 gas precursors in this iteration.\n"
     ]
    },
    {
     "name": "stderr",
     "output_type": "stream",
     "text": [
      "Iter 1 Precursors: 100%|█████████████████████| 162/162 [00:01<00:00, 127.85it/s]\n"
     ]
    },
    {
     "name": "stdout",
     "output_type": "stream",
     "text": [
      "   Iteration 1 complete: 113 adsorbed\n",
      "   Iteration 2/5\n"
     ]
    },
    {
     "name": "stderr",
     "output_type": "stream",
     "text": [
      "Generating gas layer: 100%|████████████████| 7500/7500 [00:15<00:00, 498.76it/s]\n"
     ]
    },
    {
     "name": "stdout",
     "output_type": "stream",
     "text": [
      "   Generated 159 gas precursors in this iteration.\n"
     ]
    },
    {
     "name": "stderr",
     "output_type": "stream",
     "text": [
      "Iter 2 Precursors: 100%|██████████████████████| 159/159 [00:03<00:00, 42.11it/s]\n"
     ]
    },
    {
     "name": "stdout",
     "output_type": "stream",
     "text": [
      "   Iteration 2 complete: 117 adsorbed\n",
      "   Iteration 3/5\n"
     ]
    },
    {
     "name": "stderr",
     "output_type": "stream",
     "text": [
      "Generating gas layer: 100%|████████████████| 7500/7500 [00:14<00:00, 512.62it/s]\n"
     ]
    },
    {
     "name": "stdout",
     "output_type": "stream",
     "text": [
      "   Generated 158 gas precursors in this iteration.\n"
     ]
    },
    {
     "name": "stderr",
     "output_type": "stream",
     "text": [
      "Iter 3 Precursors: 100%|██████████████████████| 158/158 [00:03<00:00, 42.56it/s]\n"
     ]
    },
    {
     "name": "stdout",
     "output_type": "stream",
     "text": [
      "   Iteration 3 complete: 120 adsorbed\n",
      "   Iteration 4/5\n"
     ]
    },
    {
     "name": "stderr",
     "output_type": "stream",
     "text": [
      "Generating gas layer: 100%|████████████████| 7500/7500 [00:15<00:00, 496.78it/s]\n"
     ]
    },
    {
     "name": "stdout",
     "output_type": "stream",
     "text": [
      "   Generated 161 gas precursors in this iteration.\n"
     ]
    },
    {
     "name": "stderr",
     "output_type": "stream",
     "text": [
      "Iter 4 Precursors: 100%|██████████████████████| 161/161 [00:03<00:00, 41.44it/s]\n"
     ]
    },
    {
     "name": "stdout",
     "output_type": "stream",
     "text": [
      "   Iteration 4 complete: 120 adsorbed\n",
      "   Iteration 5/5\n"
     ]
    },
    {
     "name": "stderr",
     "output_type": "stream",
     "text": [
      "Generating gas layer: 100%|████████████████| 7500/7500 [00:15<00:00, 499.47it/s]\n"
     ]
    },
    {
     "name": "stdout",
     "output_type": "stream",
     "text": [
      "   Generated 162 gas precursors in this iteration.\n"
     ]
    },
    {
     "name": "stderr",
     "output_type": "stream",
     "text": [
      "Iter 5 Precursors: 100%|██████████████████████| 162/162 [00:03<00:00, 41.28it/s]\n"
     ]
    },
    {
     "name": "stdout",
     "output_type": "stream",
     "text": [
      "   Iteration 5 complete: 120 adsorbed\n",
      "   Adsorbed: 120 precursors\n",
      "\n",
      "3. H2O REACTION PHASE\n"
     ]
    },
    {
     "name": "stderr",
     "output_type": "stream",
     "text": [
      "Processing H2O Reaction: 100%|█████████████| 120/120 [00:00<00:00, 43195.72it/s]\n"
     ]
    },
    {
     "name": "stdout",
     "output_type": "stream",
     "text": [
      "   Replaced: 360 Cl → O atoms\n",
      "\n",
      "--- CYCLE 1 SUMMARY ---\n",
      "Inhibitors adsorbed: 269\n",
      "Precursors adsorbed: 120\n",
      "Total molecules in system: 389\n",
      "\n",
      "==================================================\n",
      "CYCLE 2\n",
      "==================================================\n",
      "\n",
      "2. PRECURSORS PHASE\n",
      "   Iteration 1/5\n"
     ]
    },
    {
     "name": "stderr",
     "output_type": "stream",
     "text": [
      "Generating gas layer: 100%|████████████████| 7500/7500 [00:14<00:00, 504.14it/s]\n"
     ]
    },
    {
     "name": "stdout",
     "output_type": "stream",
     "text": [
      "   Generated 162 gas precursors in this iteration.\n"
     ]
    },
    {
     "name": "stderr",
     "output_type": "stream",
     "text": [
      "Iter 1 Precursors: 100%|█████████████████████| 162/162 [00:01<00:00, 119.16it/s]\n"
     ]
    },
    {
     "name": "stdout",
     "output_type": "stream",
     "text": [
      "   Iteration 1 complete: 112 adsorbed\n",
      "   Iteration 2/5\n"
     ]
    },
    {
     "name": "stderr",
     "output_type": "stream",
     "text": [
      "Generating gas layer: 100%|████████████████| 7500/7500 [00:15<00:00, 488.28it/s]\n"
     ]
    },
    {
     "name": "stdout",
     "output_type": "stream",
     "text": [
      "   Generated 168 gas precursors in this iteration.\n"
     ]
    },
    {
     "name": "stderr",
     "output_type": "stream",
     "text": [
      "Iter 2 Precursors: 100%|██████████████████████| 168/168 [00:03<00:00, 44.03it/s]\n"
     ]
    },
    {
     "name": "stdout",
     "output_type": "stream",
     "text": [
      "   Iteration 2 complete: 115 adsorbed\n",
      "   Iteration 3/5\n"
     ]
    },
    {
     "name": "stderr",
     "output_type": "stream",
     "text": [
      "Generating gas layer: 100%|████████████████| 7500/7500 [00:15<00:00, 494.84it/s]\n"
     ]
    },
    {
     "name": "stdout",
     "output_type": "stream",
     "text": [
      "   Generated 164 gas precursors in this iteration.\n"
     ]
    },
    {
     "name": "stderr",
     "output_type": "stream",
     "text": [
      "Iter 3 Precursors: 100%|██████████████████████| 164/164 [00:03<00:00, 43.93it/s]\n"
     ]
    },
    {
     "name": "stdout",
     "output_type": "stream",
     "text": [
      "   Iteration 3 complete: 115 adsorbed\n",
      "   Iteration 4/5\n"
     ]
    },
    {
     "name": "stderr",
     "output_type": "stream",
     "text": [
      "Generating gas layer: 100%|████████████████| 7500/7500 [00:15<00:00, 492.08it/s]\n"
     ]
    },
    {
     "name": "stdout",
     "output_type": "stream",
     "text": [
      "   Generated 161 gas precursors in this iteration.\n"
     ]
    },
    {
     "name": "stderr",
     "output_type": "stream",
     "text": [
      "Iter 4 Precursors: 100%|██████████████████████| 161/161 [00:03<00:00, 43.66it/s]\n"
     ]
    },
    {
     "name": "stdout",
     "output_type": "stream",
     "text": [
      "   Iteration 4 complete: 115 adsorbed\n",
      "   Iteration 5/5\n"
     ]
    },
    {
     "name": "stderr",
     "output_type": "stream",
     "text": [
      "Generating gas layer: 100%|████████████████| 7500/7500 [00:15<00:00, 497.40it/s]\n"
     ]
    },
    {
     "name": "stdout",
     "output_type": "stream",
     "text": [
      "   Generated 164 gas precursors in this iteration.\n"
     ]
    },
    {
     "name": "stderr",
     "output_type": "stream",
     "text": [
      "Iter 5 Precursors: 100%|██████████████████████| 164/164 [00:03<00:00, 43.64it/s]\n"
     ]
    },
    {
     "name": "stdout",
     "output_type": "stream",
     "text": [
      "   Iteration 5 complete: 115 adsorbed\n",
      "   Adsorbed: 115 precursors\n",
      "\n",
      "3. H2O REACTION PHASE\n"
     ]
    },
    {
     "name": "stderr",
     "output_type": "stream",
     "text": [
      "Processing H2O Reaction: 100%|█████████████| 115/115 [00:00<00:00, 60000.62it/s]\n"
     ]
    },
    {
     "name": "stdout",
     "output_type": "stream",
     "text": [
      "   Replaced: 345 Cl → O atoms\n",
      "\n",
      "--- CYCLE 2 SUMMARY ---\n",
      "Precursors adsorbed: 115\n",
      "Total molecules in system: 504\n",
      "\n",
      "==================================================\n",
      "CYCLE 3\n",
      "==================================================\n",
      "\n",
      "2. PRECURSORS PHASE\n",
      "   Iteration 1/5\n"
     ]
    },
    {
     "name": "stderr",
     "output_type": "stream",
     "text": [
      "Generating gas layer: 100%|████████████████| 7500/7500 [00:15<00:00, 473.50it/s]\n"
     ]
    },
    {
     "name": "stdout",
     "output_type": "stream",
     "text": [
      "   Generated 162 gas precursors in this iteration.\n"
     ]
    },
    {
     "name": "stderr",
     "output_type": "stream",
     "text": [
      "Iter 1 Precursors: 100%|██████████████████████| 162/162 [00:02<00:00, 72.43it/s]\n"
     ]
    },
    {
     "name": "stdout",
     "output_type": "stream",
     "text": [
      "   Iteration 1 complete: 105 adsorbed\n",
      "   Iteration 2/5\n"
     ]
    },
    {
     "name": "stderr",
     "output_type": "stream",
     "text": [
      "Generating gas layer: 100%|████████████████| 7500/7500 [00:15<00:00, 482.69it/s]\n"
     ]
    },
    {
     "name": "stdout",
     "output_type": "stream",
     "text": [
      "   Generated 167 gas precursors in this iteration.\n"
     ]
    },
    {
     "name": "stderr",
     "output_type": "stream",
     "text": [
      "Iter 2 Precursors: 100%|██████████████████████| 167/167 [00:03<00:00, 43.99it/s]\n"
     ]
    },
    {
     "name": "stdout",
     "output_type": "stream",
     "text": [
      "   Iteration 2 complete: 109 adsorbed\n",
      "   Iteration 3/5\n"
     ]
    },
    {
     "name": "stderr",
     "output_type": "stream",
     "text": [
      "Generating gas layer: 100%|████████████████| 7500/7500 [00:15<00:00, 481.50it/s]\n"
     ]
    },
    {
     "name": "stdout",
     "output_type": "stream",
     "text": [
      "   Generated 162 gas precursors in this iteration.\n"
     ]
    },
    {
     "name": "stderr",
     "output_type": "stream",
     "text": [
      "Iter 3 Precursors: 100%|██████████████████████| 162/162 [00:03<00:00, 44.16it/s]\n"
     ]
    },
    {
     "name": "stdout",
     "output_type": "stream",
     "text": [
      "   Iteration 3 complete: 110 adsorbed\n",
      "   Iteration 4/5\n"
     ]
    },
    {
     "name": "stderr",
     "output_type": "stream",
     "text": [
      "Generating gas layer: 100%|████████████████| 7500/7500 [00:14<00:00, 513.87it/s]\n"
     ]
    },
    {
     "name": "stdout",
     "output_type": "stream",
     "text": [
      "   Generated 157 gas precursors in this iteration.\n"
     ]
    },
    {
     "name": "stderr",
     "output_type": "stream",
     "text": [
      "Iter 4 Precursors: 100%|██████████████████████| 157/157 [00:03<00:00, 43.18it/s]\n"
     ]
    },
    {
     "name": "stdout",
     "output_type": "stream",
     "text": [
      "   Iteration 4 complete: 111 adsorbed\n",
      "   Iteration 5/5\n"
     ]
    },
    {
     "name": "stderr",
     "output_type": "stream",
     "text": [
      "Generating gas layer: 100%|████████████████| 7500/7500 [00:15<00:00, 499.94it/s]\n"
     ]
    },
    {
     "name": "stdout",
     "output_type": "stream",
     "text": [
      "   Generated 163 gas precursors in this iteration.\n"
     ]
    },
    {
     "name": "stderr",
     "output_type": "stream",
     "text": [
      "Iter 5 Precursors: 100%|██████████████████████| 163/163 [00:03<00:00, 43.98it/s]\n"
     ]
    },
    {
     "name": "stdout",
     "output_type": "stream",
     "text": [
      "   Iteration 5 complete: 111 adsorbed\n",
      "   Adsorbed: 111 precursors\n",
      "\n",
      "3. H2O REACTION PHASE\n"
     ]
    },
    {
     "name": "stderr",
     "output_type": "stream",
     "text": [
      "Processing H2O Reaction: 100%|█████████████| 111/111 [00:00<00:00, 65860.48it/s]\n"
     ]
    },
    {
     "name": "stdout",
     "output_type": "stream",
     "text": [
      "   Replaced: 333 Cl → O atoms\n",
      "\n",
      "--- CYCLE 3 SUMMARY ---\n",
      "Precursors adsorbed: 111\n",
      "Total molecules in system: 615\n",
      "\n",
      "==================================================\n",
      "CYCLE 4\n",
      "==================================================\n",
      "\n",
      "2. PRECURSORS PHASE\n",
      "   Iteration 1/5\n"
     ]
    },
    {
     "name": "stderr",
     "output_type": "stream",
     "text": [
      "Generating gas layer: 100%|████████████████| 7500/7500 [00:15<00:00, 499.82it/s]\n"
     ]
    },
    {
     "name": "stdout",
     "output_type": "stream",
     "text": [
      "   Generated 167 gas precursors in this iteration.\n"
     ]
    },
    {
     "name": "stderr",
     "output_type": "stream",
     "text": [
      "Iter 1 Precursors: 100%|██████████████████████| 167/167 [00:03<00:00, 44.64it/s]\n"
     ]
    },
    {
     "name": "stdout",
     "output_type": "stream",
     "text": [
      "   Iteration 1 complete: 9 adsorbed\n",
      "   Iteration 2/5\n"
     ]
    },
    {
     "name": "stderr",
     "output_type": "stream",
     "text": [
      "Generating gas layer: 100%|████████████████| 7500/7500 [00:15<00:00, 498.42it/s]\n"
     ]
    },
    {
     "name": "stdout",
     "output_type": "stream",
     "text": [
      "   Generated 160 gas precursors in this iteration.\n"
     ]
    },
    {
     "name": "stderr",
     "output_type": "stream",
     "text": [
      "Iter 2 Precursors: 100%|██████████████████████| 160/160 [00:03<00:00, 43.59it/s]\n"
     ]
    },
    {
     "name": "stdout",
     "output_type": "stream",
     "text": [
      "   Iteration 2 complete: 15 adsorbed\n",
      "   Iteration 3/5\n"
     ]
    },
    {
     "name": "stderr",
     "output_type": "stream",
     "text": [
      "Generating gas layer: 100%|████████████████| 7500/7500 [00:15<00:00, 479.53it/s]\n"
     ]
    },
    {
     "name": "stdout",
     "output_type": "stream",
     "text": [
      "   Generated 169 gas precursors in this iteration.\n"
     ]
    },
    {
     "name": "stderr",
     "output_type": "stream",
     "text": [
      "Iter 3 Precursors: 100%|██████████████████████| 169/169 [00:03<00:00, 44.46it/s]\n"
     ]
    },
    {
     "name": "stdout",
     "output_type": "stream",
     "text": [
      "   Iteration 3 complete: 18 adsorbed\n",
      "   Iteration 4/5\n"
     ]
    },
    {
     "name": "stderr",
     "output_type": "stream",
     "text": [
      "Generating gas layer: 100%|████████████████| 7500/7500 [00:14<00:00, 507.40it/s]\n"
     ]
    },
    {
     "name": "stdout",
     "output_type": "stream",
     "text": [
      "   Generated 160 gas precursors in this iteration.\n"
     ]
    },
    {
     "name": "stderr",
     "output_type": "stream",
     "text": [
      "Iter 4 Precursors: 100%|██████████████████████| 160/160 [00:03<00:00, 44.71it/s]\n"
     ]
    },
    {
     "name": "stdout",
     "output_type": "stream",
     "text": [
      "   Iteration 4 complete: 21 adsorbed\n",
      "   Iteration 5/5\n"
     ]
    },
    {
     "name": "stderr",
     "output_type": "stream",
     "text": [
      "Generating gas layer: 100%|████████████████| 7500/7500 [00:15<00:00, 492.56it/s]\n"
     ]
    },
    {
     "name": "stdout",
     "output_type": "stream",
     "text": [
      "   Generated 169 gas precursors in this iteration.\n"
     ]
    },
    {
     "name": "stderr",
     "output_type": "stream",
     "text": [
      "Iter 5 Precursors: 100%|██████████████████████| 169/169 [00:03<00:00, 43.17it/s]\n"
     ]
    },
    {
     "name": "stdout",
     "output_type": "stream",
     "text": [
      "   Iteration 5 complete: 22 adsorbed\n",
      "   Adsorbed: 22 precursors\n",
      "\n",
      "3. H2O REACTION PHASE\n"
     ]
    },
    {
     "name": "stderr",
     "output_type": "stream",
     "text": [
      "Processing H2O Reaction: 100%|███████████████| 22/22 [00:00<00:00, 37693.91it/s]\n"
     ]
    },
    {
     "name": "stdout",
     "output_type": "stream",
     "text": [
      "   Replaced: 66 Cl → O atoms\n",
      "\n",
      "--- CYCLE 4 SUMMARY ---\n",
      "Precursors adsorbed: 22\n",
      "Total molecules in system: 637\n",
      "\n",
      "==================================================\n",
      "CYCLE 5\n",
      "==================================================\n",
      "\n",
      "2. PRECURSORS PHASE\n",
      "   Iteration 1/5\n"
     ]
    },
    {
     "name": "stderr",
     "output_type": "stream",
     "text": [
      "Generating gas layer: 100%|████████████████| 7500/7500 [00:14<00:00, 505.52it/s]\n"
     ]
    },
    {
     "name": "stdout",
     "output_type": "stream",
     "text": [
      "   Generated 168 gas precursors in this iteration.\n"
     ]
    },
    {
     "name": "stderr",
     "output_type": "stream",
     "text": [
      "Iter 1 Precursors: 100%|██████████████████████| 168/168 [00:03<00:00, 44.80it/s]\n"
     ]
    },
    {
     "name": "stdout",
     "output_type": "stream",
     "text": [
      "   Iteration 1 complete: 1 adsorbed\n",
      "   Iteration 2/5\n"
     ]
    },
    {
     "name": "stderr",
     "output_type": "stream",
     "text": [
      "Generating gas layer: 100%|████████████████| 7500/7500 [00:14<00:00, 510.38it/s]\n"
     ]
    },
    {
     "name": "stdout",
     "output_type": "stream",
     "text": [
      "   Generated 165 gas precursors in this iteration.\n"
     ]
    },
    {
     "name": "stderr",
     "output_type": "stream",
     "text": [
      "Iter 2 Precursors: 100%|██████████████████████| 165/165 [00:03<00:00, 44.65it/s]\n"
     ]
    },
    {
     "name": "stdout",
     "output_type": "stream",
     "text": [
      "   Iteration 2 complete: 1 adsorbed\n",
      "   Iteration 3/5\n"
     ]
    },
    {
     "name": "stderr",
     "output_type": "stream",
     "text": [
      "Generating gas layer: 100%|████████████████| 7500/7500 [00:14<00:00, 504.38it/s]\n"
     ]
    },
    {
     "name": "stdout",
     "output_type": "stream",
     "text": [
      "   Generated 164 gas precursors in this iteration.\n"
     ]
    },
    {
     "name": "stderr",
     "output_type": "stream",
     "text": [
      "Iter 3 Precursors: 100%|██████████████████████| 164/164 [00:03<00:00, 44.63it/s]\n"
     ]
    },
    {
     "name": "stdout",
     "output_type": "stream",
     "text": [
      "   Iteration 3 complete: 2 adsorbed\n",
      "   Iteration 4/5\n"
     ]
    },
    {
     "name": "stderr",
     "output_type": "stream",
     "text": [
      "Generating gas layer: 100%|████████████████| 7500/7500 [00:15<00:00, 490.31it/s]\n"
     ]
    },
    {
     "name": "stdout",
     "output_type": "stream",
     "text": [
      "   Generated 167 gas precursors in this iteration.\n"
     ]
    },
    {
     "name": "stderr",
     "output_type": "stream",
     "text": [
      "Iter 4 Precursors: 100%|██████████████████████| 167/167 [00:03<00:00, 43.43it/s]\n"
     ]
    },
    {
     "name": "stdout",
     "output_type": "stream",
     "text": [
      "   Iteration 4 complete: 3 adsorbed\n",
      "   Iteration 5/5\n"
     ]
    },
    {
     "name": "stderr",
     "output_type": "stream",
     "text": [
      "Generating gas layer: 100%|████████████████| 7500/7500 [00:15<00:00, 491.06it/s]\n"
     ]
    },
    {
     "name": "stdout",
     "output_type": "stream",
     "text": [
      "   Generated 168 gas precursors in this iteration.\n"
     ]
    },
    {
     "name": "stderr",
     "output_type": "stream",
     "text": [
      "Iter 5 Precursors: 100%|██████████████████████| 168/168 [00:03<00:00, 43.02it/s]\n"
     ]
    },
    {
     "name": "stdout",
     "output_type": "stream",
     "text": [
      "   Iteration 5 complete: 3 adsorbed\n",
      "   Adsorbed: 3 precursors\n",
      "\n",
      "3. H2O REACTION PHASE\n"
     ]
    },
    {
     "name": "stderr",
     "output_type": "stream",
     "text": [
      "Processing H2O Reaction: 100%|██████████████████| 3/3 [00:00<00:00, 6323.07it/s]\n"
     ]
    },
    {
     "name": "stdout",
     "output_type": "stream",
     "text": [
      "   Replaced: 9 Cl → O atoms\n",
      "\n",
      "--- CYCLE 5 SUMMARY ---\n",
      "Precursors adsorbed: 3\n",
      "Total molecules in system: 640\n",
      "\n",
      "==================================================\n",
      "CYCLE 6\n",
      "==================================================\n",
      "\n",
      "2. PRECURSORS PHASE\n",
      "   Iteration 1/5\n"
     ]
    },
    {
     "name": "stderr",
     "output_type": "stream",
     "text": [
      "Generating gas layer: 100%|████████████████| 7500/7500 [00:14<00:00, 503.24it/s]\n"
     ]
    },
    {
     "name": "stdout",
     "output_type": "stream",
     "text": [
      "   Generated 157 gas precursors in this iteration.\n"
     ]
    },
    {
     "name": "stderr",
     "output_type": "stream",
     "text": [
      "Iter 1 Precursors: 100%|██████████████████████| 157/157 [00:03<00:00, 44.28it/s]\n"
     ]
    },
    {
     "name": "stdout",
     "output_type": "stream",
     "text": [
      "   Iteration 1 complete: 0 adsorbed\n",
      "   Iteration 2/5\n"
     ]
    },
    {
     "name": "stderr",
     "output_type": "stream",
     "text": [
      "Generating gas layer: 100%|████████████████| 7500/7500 [00:15<00:00, 494.56it/s]\n"
     ]
    },
    {
     "name": "stdout",
     "output_type": "stream",
     "text": [
      "   Generated 163 gas precursors in this iteration.\n"
     ]
    },
    {
     "name": "stderr",
     "output_type": "stream",
     "text": [
      "Iter 2 Precursors: 100%|██████████████████████| 163/163 [00:03<00:00, 43.49it/s]\n"
     ]
    },
    {
     "name": "stdout",
     "output_type": "stream",
     "text": [
      "   Iteration 2 complete: 0 adsorbed\n",
      "   Iteration 3/5\n"
     ]
    },
    {
     "name": "stderr",
     "output_type": "stream",
     "text": [
      "Generating gas layer: 100%|████████████████| 7500/7500 [00:14<00:00, 503.45it/s]\n"
     ]
    },
    {
     "name": "stdout",
     "output_type": "stream",
     "text": [
      "   Generated 159 gas precursors in this iteration.\n"
     ]
    },
    {
     "name": "stderr",
     "output_type": "stream",
     "text": [
      "Iter 3 Precursors: 100%|██████████████████████| 159/159 [00:03<00:00, 42.59it/s]\n"
     ]
    },
    {
     "name": "stdout",
     "output_type": "stream",
     "text": [
      "   Iteration 3 complete: 0 adsorbed\n",
      "   Iteration 4/5\n"
     ]
    },
    {
     "name": "stderr",
     "output_type": "stream",
     "text": [
      "Generating gas layer: 100%|████████████████| 7500/7500 [00:15<00:00, 489.19it/s]\n"
     ]
    },
    {
     "name": "stdout",
     "output_type": "stream",
     "text": [
      "   Generated 164 gas precursors in this iteration.\n"
     ]
    },
    {
     "name": "stderr",
     "output_type": "stream",
     "text": [
      "Iter 4 Precursors: 100%|██████████████████████| 164/164 [00:03<00:00, 42.27it/s]\n"
     ]
    },
    {
     "name": "stdout",
     "output_type": "stream",
     "text": [
      "   Iteration 4 complete: 0 adsorbed\n",
      "   Iteration 5/5\n"
     ]
    },
    {
     "name": "stderr",
     "output_type": "stream",
     "text": [
      "Generating gas layer: 100%|████████████████| 7500/7500 [00:15<00:00, 492.93it/s]\n"
     ]
    },
    {
     "name": "stdout",
     "output_type": "stream",
     "text": [
      "   Generated 166 gas precursors in this iteration.\n"
     ]
    },
    {
     "name": "stderr",
     "output_type": "stream",
     "text": [
      "Iter 5 Precursors: 100%|██████████████████████| 166/166 [00:03<00:00, 41.90it/s]\n"
     ]
    },
    {
     "name": "stdout",
     "output_type": "stream",
     "text": [
      "   Iteration 5 complete: 0 adsorbed\n",
      "   Adsorbed: 0 precursors\n",
      "\n",
      "3. H2O REACTION PHASE\n"
     ]
    },
    {
     "name": "stderr",
     "output_type": "stream",
     "text": [
      "Processing H2O Reaction: 0it [00:00, ?it/s]\n"
     ]
    },
    {
     "name": "stdout",
     "output_type": "stream",
     "text": [
      "   Replaced: 0 Cl → O atoms\n",
      "\n",
      "--- CYCLE 6 SUMMARY ---\n",
      "Precursors adsorbed: 0\n",
      "Total molecules in system: 640\n",
      "\n",
      "==================================================\n",
      "CYCLE 7\n",
      "==================================================\n",
      "\n",
      "2. PRECURSORS PHASE\n",
      "   Iteration 1/5\n"
     ]
    },
    {
     "name": "stderr",
     "output_type": "stream",
     "text": [
      "Generating gas layer: 100%|████████████████| 7500/7500 [00:15<00:00, 492.05it/s]\n"
     ]
    },
    {
     "name": "stdout",
     "output_type": "stream",
     "text": [
      "   Generated 169 gas precursors in this iteration.\n"
     ]
    },
    {
     "name": "stderr",
     "output_type": "stream",
     "text": [
      "Iter 1 Precursors: 100%|██████████████████████| 169/169 [00:03<00:00, 43.50it/s]\n"
     ]
    },
    {
     "name": "stdout",
     "output_type": "stream",
     "text": [
      "   Iteration 1 complete: 0 adsorbed\n",
      "   Iteration 2/5\n"
     ]
    },
    {
     "name": "stderr",
     "output_type": "stream",
     "text": [
      "Generating gas layer: 100%|████████████████| 7500/7500 [00:15<00:00, 486.09it/s]\n"
     ]
    },
    {
     "name": "stdout",
     "output_type": "stream",
     "text": [
      "   Generated 166 gas precursors in this iteration.\n"
     ]
    },
    {
     "name": "stderr",
     "output_type": "stream",
     "text": [
      "Iter 2 Precursors: 100%|██████████████████████| 166/166 [00:03<00:00, 43.98it/s]\n"
     ]
    },
    {
     "name": "stdout",
     "output_type": "stream",
     "text": [
      "   Iteration 2 complete: 2 adsorbed\n",
      "   Iteration 3/5\n"
     ]
    },
    {
     "name": "stderr",
     "output_type": "stream",
     "text": [
      "Generating gas layer: 100%|████████████████| 7500/7500 [00:15<00:00, 499.96it/s]\n"
     ]
    },
    {
     "name": "stdout",
     "output_type": "stream",
     "text": [
      "   Generated 163 gas precursors in this iteration.\n"
     ]
    },
    {
     "name": "stderr",
     "output_type": "stream",
     "text": [
      "Iter 3 Precursors: 100%|██████████████████████| 163/163 [00:03<00:00, 43.55it/s]\n"
     ]
    },
    {
     "name": "stdout",
     "output_type": "stream",
     "text": [
      "   Iteration 3 complete: 2 adsorbed\n",
      "   Iteration 4/5\n"
     ]
    },
    {
     "name": "stderr",
     "output_type": "stream",
     "text": [
      "Generating gas layer: 100%|████████████████| 7500/7500 [00:14<00:00, 506.45it/s]\n"
     ]
    },
    {
     "name": "stdout",
     "output_type": "stream",
     "text": [
      "   Generated 161 gas precursors in this iteration.\n"
     ]
    },
    {
     "name": "stderr",
     "output_type": "stream",
     "text": [
      "Iter 4 Precursors: 100%|██████████████████████| 161/161 [00:03<00:00, 43.61it/s]\n"
     ]
    },
    {
     "name": "stdout",
     "output_type": "stream",
     "text": [
      "   Iteration 4 complete: 3 adsorbed\n",
      "   Iteration 5/5\n"
     ]
    },
    {
     "name": "stderr",
     "output_type": "stream",
     "text": [
      "Generating gas layer: 100%|████████████████| 7500/7500 [00:14<00:00, 500.79it/s]\n"
     ]
    },
    {
     "name": "stdout",
     "output_type": "stream",
     "text": [
      "   Generated 168 gas precursors in this iteration.\n"
     ]
    },
    {
     "name": "stderr",
     "output_type": "stream",
     "text": [
      "Iter 5 Precursors: 100%|██████████████████████| 168/168 [00:03<00:00, 43.97it/s]\n"
     ]
    },
    {
     "name": "stdout",
     "output_type": "stream",
     "text": [
      "   Iteration 5 complete: 3 adsorbed\n",
      "   Adsorbed: 3 precursors\n",
      "\n",
      "3. H2O REACTION PHASE\n"
     ]
    },
    {
     "name": "stderr",
     "output_type": "stream",
     "text": [
      "Processing H2O Reaction: 100%|██████████████████| 3/3 [00:00<00:00, 4206.92it/s]\n"
     ]
    },
    {
     "name": "stdout",
     "output_type": "stream",
     "text": [
      "   Replaced: 9 Cl → O atoms\n",
      "\n",
      "--- CYCLE 7 SUMMARY ---\n",
      "Precursors adsorbed: 3\n",
      "Total molecules in system: 643\n",
      "\n",
      "==================================================\n",
      "CYCLE 8\n",
      "==================================================\n",
      "\n",
      "2. PRECURSORS PHASE\n",
      "   Iteration 1/5\n"
     ]
    },
    {
     "name": "stderr",
     "output_type": "stream",
     "text": [
      "Generating gas layer: 100%|████████████████| 7500/7500 [00:14<00:00, 507.50it/s]\n"
     ]
    },
    {
     "name": "stdout",
     "output_type": "stream",
     "text": [
      "   Generated 162 gas precursors in this iteration.\n"
     ]
    },
    {
     "name": "stderr",
     "output_type": "stream",
     "text": [
      "Iter 1 Precursors: 100%|██████████████████████| 162/162 [00:03<00:00, 43.59it/s]\n"
     ]
    },
    {
     "name": "stdout",
     "output_type": "stream",
     "text": [
      "   Iteration 1 complete: 0 adsorbed\n",
      "   Iteration 2/5\n"
     ]
    },
    {
     "name": "stderr",
     "output_type": "stream",
     "text": [
      "Generating gas layer: 100%|████████████████| 7500/7500 [00:14<00:00, 503.21it/s]\n"
     ]
    },
    {
     "name": "stdout",
     "output_type": "stream",
     "text": [
      "   Generated 163 gas precursors in this iteration.\n"
     ]
    },
    {
     "name": "stderr",
     "output_type": "stream",
     "text": [
      "Iter 2 Precursors: 100%|██████████████████████| 163/163 [00:03<00:00, 42.74it/s]\n"
     ]
    },
    {
     "name": "stdout",
     "output_type": "stream",
     "text": [
      "   Iteration 2 complete: 0 adsorbed\n",
      "   Iteration 3/5\n"
     ]
    },
    {
     "name": "stderr",
     "output_type": "stream",
     "text": [
      "Generating gas layer: 100%|████████████████| 7500/7500 [00:15<00:00, 487.34it/s]\n"
     ]
    },
    {
     "name": "stdout",
     "output_type": "stream",
     "text": [
      "   Generated 162 gas precursors in this iteration.\n"
     ]
    },
    {
     "name": "stderr",
     "output_type": "stream",
     "text": [
      "Iter 3 Precursors: 100%|██████████████████████| 162/162 [00:03<00:00, 42.04it/s]\n"
     ]
    },
    {
     "name": "stdout",
     "output_type": "stream",
     "text": [
      "   Iteration 3 complete: 1 adsorbed\n",
      "   Iteration 4/5\n"
     ]
    },
    {
     "name": "stderr",
     "output_type": "stream",
     "text": [
      "Generating gas layer: 100%|████████████████| 7500/7500 [00:15<00:00, 498.05it/s]\n"
     ]
    },
    {
     "name": "stdout",
     "output_type": "stream",
     "text": [
      "   Generated 166 gas precursors in this iteration.\n"
     ]
    },
    {
     "name": "stderr",
     "output_type": "stream",
     "text": [
      "Iter 4 Precursors: 100%|██████████████████████| 166/166 [00:03<00:00, 43.15it/s]\n"
     ]
    },
    {
     "name": "stdout",
     "output_type": "stream",
     "text": [
      "   Iteration 4 complete: 1 adsorbed\n",
      "   Iteration 5/5\n"
     ]
    },
    {
     "name": "stderr",
     "output_type": "stream",
     "text": [
      "Generating gas layer: 100%|████████████████| 7500/7500 [00:15<00:00, 486.81it/s]\n"
     ]
    },
    {
     "name": "stdout",
     "output_type": "stream",
     "text": [
      "   Generated 167 gas precursors in this iteration.\n"
     ]
    },
    {
     "name": "stderr",
     "output_type": "stream",
     "text": [
      "Iter 5 Precursors: 100%|██████████████████████| 167/167 [00:03<00:00, 43.46it/s]\n"
     ]
    },
    {
     "name": "stdout",
     "output_type": "stream",
     "text": [
      "   Iteration 5 complete: 1 adsorbed\n",
      "   Adsorbed: 1 precursors\n",
      "\n",
      "3. H2O REACTION PHASE\n"
     ]
    },
    {
     "name": "stderr",
     "output_type": "stream",
     "text": [
      "Processing H2O Reaction: 100%|██████████████████| 1/1 [00:00<00:00, 4198.50it/s]\n"
     ]
    },
    {
     "name": "stdout",
     "output_type": "stream",
     "text": [
      "   Replaced: 3 Cl → O atoms\n",
      "\n",
      "--- CYCLE 8 SUMMARY ---\n",
      "Precursors adsorbed: 1\n",
      "Total molecules in system: 644\n",
      "\n",
      "==================================================\n",
      "CYCLE 9\n",
      "==================================================\n",
      "\n",
      "2. PRECURSORS PHASE\n",
      "   Iteration 1/5\n"
     ]
    },
    {
     "name": "stderr",
     "output_type": "stream",
     "text": [
      "Generating gas layer: 100%|████████████████| 7500/7500 [00:15<00:00, 488.87it/s]\n"
     ]
    },
    {
     "name": "stdout",
     "output_type": "stream",
     "text": [
      "   Generated 174 gas precursors in this iteration.\n"
     ]
    },
    {
     "name": "stderr",
     "output_type": "stream",
     "text": [
      "Iter 1 Precursors: 100%|██████████████████████| 174/174 [00:03<00:00, 44.25it/s]\n"
     ]
    },
    {
     "name": "stdout",
     "output_type": "stream",
     "text": [
      "   Iteration 1 complete: 0 adsorbed\n",
      "   Iteration 2/5\n"
     ]
    },
    {
     "name": "stderr",
     "output_type": "stream",
     "text": [
      "Generating gas layer: 100%|████████████████| 7500/7500 [00:14<00:00, 509.25it/s]\n"
     ]
    },
    {
     "name": "stdout",
     "output_type": "stream",
     "text": [
      "   Generated 165 gas precursors in this iteration.\n"
     ]
    },
    {
     "name": "stderr",
     "output_type": "stream",
     "text": [
      "Iter 2 Precursors: 100%|██████████████████████| 165/165 [00:03<00:00, 44.83it/s]\n"
     ]
    },
    {
     "name": "stdout",
     "output_type": "stream",
     "text": [
      "   Iteration 2 complete: 0 adsorbed\n",
      "   Iteration 3/5\n"
     ]
    },
    {
     "name": "stderr",
     "output_type": "stream",
     "text": [
      "Generating gas layer: 100%|████████████████| 7500/7500 [00:14<00:00, 514.87it/s]\n"
     ]
    },
    {
     "name": "stdout",
     "output_type": "stream",
     "text": [
      "   Generated 161 gas precursors in this iteration.\n"
     ]
    },
    {
     "name": "stderr",
     "output_type": "stream",
     "text": [
      "Iter 3 Precursors: 100%|██████████████████████| 161/161 [00:03<00:00, 44.53it/s]\n"
     ]
    },
    {
     "name": "stdout",
     "output_type": "stream",
     "text": [
      "   Iteration 3 complete: 0 adsorbed\n",
      "   Iteration 4/5\n"
     ]
    },
    {
     "name": "stderr",
     "output_type": "stream",
     "text": [
      "Generating gas layer: 100%|████████████████| 7500/7500 [00:14<00:00, 518.25it/s]\n"
     ]
    },
    {
     "name": "stdout",
     "output_type": "stream",
     "text": [
      "   Generated 161 gas precursors in this iteration.\n"
     ]
    },
    {
     "name": "stderr",
     "output_type": "stream",
     "text": [
      "Iter 4 Precursors: 100%|██████████████████████| 161/161 [00:03<00:00, 44.63it/s]\n"
     ]
    },
    {
     "name": "stdout",
     "output_type": "stream",
     "text": [
      "   Iteration 4 complete: 0 adsorbed\n",
      "   Iteration 5/5\n"
     ]
    },
    {
     "name": "stderr",
     "output_type": "stream",
     "text": [
      "Generating gas layer: 100%|████████████████| 7500/7500 [00:14<00:00, 513.65it/s]\n"
     ]
    },
    {
     "name": "stdout",
     "output_type": "stream",
     "text": [
      "   Generated 162 gas precursors in this iteration.\n"
     ]
    },
    {
     "name": "stderr",
     "output_type": "stream",
     "text": [
      "Iter 5 Precursors: 100%|██████████████████████| 162/162 [00:03<00:00, 44.56it/s]\n"
     ]
    },
    {
     "name": "stdout",
     "output_type": "stream",
     "text": [
      "   Iteration 5 complete: 0 adsorbed\n",
      "   Adsorbed: 0 precursors\n",
      "\n",
      "3. H2O REACTION PHASE\n"
     ]
    },
    {
     "name": "stderr",
     "output_type": "stream",
     "text": [
      "Processing H2O Reaction: 0it [00:00, ?it/s]\n"
     ]
    },
    {
     "name": "stdout",
     "output_type": "stream",
     "text": [
      "   Replaced: 0 Cl → O atoms\n",
      "\n",
      "--- CYCLE 9 SUMMARY ---\n",
      "Precursors adsorbed: 0\n",
      "Total molecules in system: 644\n",
      "\n",
      "==================================================\n",
      "CYCLE 10\n",
      "==================================================\n",
      "\n",
      "2. PRECURSORS PHASE\n",
      "   Iteration 1/5\n"
     ]
    },
    {
     "name": "stderr",
     "output_type": "stream",
     "text": [
      "Generating gas layer: 100%|████████████████| 7500/7500 [00:14<00:00, 502.39it/s]\n"
     ]
    },
    {
     "name": "stdout",
     "output_type": "stream",
     "text": [
      "   Generated 169 gas precursors in this iteration.\n"
     ]
    },
    {
     "name": "stderr",
     "output_type": "stream",
     "text": [
      "Iter 1 Precursors: 100%|██████████████████████| 169/169 [00:03<00:00, 44.67it/s]\n"
     ]
    },
    {
     "name": "stdout",
     "output_type": "stream",
     "text": [
      "   Iteration 1 complete: 0 adsorbed\n",
      "   Iteration 2/5\n"
     ]
    },
    {
     "name": "stderr",
     "output_type": "stream",
     "text": [
      "Generating gas layer: 100%|████████████████| 7500/7500 [00:14<00:00, 506.29it/s]\n"
     ]
    },
    {
     "name": "stdout",
     "output_type": "stream",
     "text": [
      "   Generated 163 gas precursors in this iteration.\n"
     ]
    },
    {
     "name": "stderr",
     "output_type": "stream",
     "text": [
      "Iter 2 Precursors: 100%|██████████████████████| 163/163 [00:03<00:00, 43.93it/s]\n"
     ]
    },
    {
     "name": "stdout",
     "output_type": "stream",
     "text": [
      "   Iteration 2 complete: 0 adsorbed\n",
      "   Iteration 3/5\n"
     ]
    },
    {
     "name": "stderr",
     "output_type": "stream",
     "text": [
      "Generating gas layer: 100%|████████████████| 7500/7500 [00:14<00:00, 509.21it/s]\n"
     ]
    },
    {
     "name": "stdout",
     "output_type": "stream",
     "text": [
      "   Generated 162 gas precursors in this iteration.\n"
     ]
    },
    {
     "name": "stderr",
     "output_type": "stream",
     "text": [
      "Iter 3 Precursors: 100%|██████████████████████| 162/162 [00:03<00:00, 44.68it/s]\n"
     ]
    },
    {
     "name": "stdout",
     "output_type": "stream",
     "text": [
      "   Iteration 3 complete: 0 adsorbed\n",
      "   Iteration 4/5\n"
     ]
    },
    {
     "name": "stderr",
     "output_type": "stream",
     "text": [
      "Generating gas layer: 100%|████████████████| 7500/7500 [00:14<00:00, 514.48it/s]\n"
     ]
    },
    {
     "name": "stdout",
     "output_type": "stream",
     "text": [
      "   Generated 165 gas precursors in this iteration.\n"
     ]
    },
    {
     "name": "stderr",
     "output_type": "stream",
     "text": [
      "Iter 4 Precursors: 100%|██████████████████████| 165/165 [00:03<00:00, 44.95it/s]\n"
     ]
    },
    {
     "name": "stdout",
     "output_type": "stream",
     "text": [
      "   Iteration 4 complete: 0 adsorbed\n",
      "   Iteration 5/5\n"
     ]
    },
    {
     "name": "stderr",
     "output_type": "stream",
     "text": [
      "Generating gas layer: 100%|████████████████| 7500/7500 [00:14<00:00, 514.37it/s]\n"
     ]
    },
    {
     "name": "stdout",
     "output_type": "stream",
     "text": [
      "   Generated 162 gas precursors in this iteration.\n"
     ]
    },
    {
     "name": "stderr",
     "output_type": "stream",
     "text": [
      "Iter 5 Precursors: 100%|██████████████████████| 162/162 [00:03<00:00, 44.46it/s]\n"
     ]
    },
    {
     "name": "stdout",
     "output_type": "stream",
     "text": [
      "   Iteration 5 complete: 0 adsorbed\n",
      "   Adsorbed: 0 precursors\n",
      "\n",
      "3. H2O REACTION PHASE\n"
     ]
    },
    {
     "name": "stderr",
     "output_type": "stream",
     "text": [
      "Processing H2O Reaction: 0it [00:00, ?it/s]\n"
     ]
    },
    {
     "name": "stdout",
     "output_type": "stream",
     "text": [
      "   Replaced: 0 Cl → O atoms\n",
      "\n",
      "--- CYCLE 10 SUMMARY ---\n",
      "Precursors adsorbed: 0\n",
      "Total molecules in system: 644\n",
      "\n",
      "==================================================\n",
      "CYCLE 11\n",
      "==================================================\n",
      "\n",
      "2. PRECURSORS PHASE\n",
      "   Iteration 1/5\n"
     ]
    },
    {
     "name": "stderr",
     "output_type": "stream",
     "text": [
      "Generating gas layer: 100%|████████████████| 7500/7500 [00:14<00:00, 501.53it/s]\n"
     ]
    },
    {
     "name": "stdout",
     "output_type": "stream",
     "text": [
      "   Generated 164 gas precursors in this iteration.\n"
     ]
    },
    {
     "name": "stderr",
     "output_type": "stream",
     "text": [
      "Iter 1 Precursors: 100%|██████████████████████| 164/164 [00:03<00:00, 43.69it/s]\n"
     ]
    },
    {
     "name": "stdout",
     "output_type": "stream",
     "text": [
      "   Iteration 1 complete: 0 adsorbed\n",
      "   Iteration 2/5\n"
     ]
    },
    {
     "name": "stderr",
     "output_type": "stream",
     "text": [
      "Generating gas layer: 100%|████████████████| 7500/7500 [00:14<00:00, 526.69it/s]\n"
     ]
    },
    {
     "name": "stdout",
     "output_type": "stream",
     "text": [
      "   Generated 159 gas precursors in this iteration.\n"
     ]
    },
    {
     "name": "stderr",
     "output_type": "stream",
     "text": [
      "Iter 2 Precursors: 100%|██████████████████████| 159/159 [00:03<00:00, 45.85it/s]\n"
     ]
    },
    {
     "name": "stdout",
     "output_type": "stream",
     "text": [
      "   Iteration 2 complete: 0 adsorbed\n",
      "   Iteration 3/5\n"
     ]
    },
    {
     "name": "stderr",
     "output_type": "stream",
     "text": [
      "Generating gas layer: 100%|████████████████| 7500/7500 [00:14<00:00, 512.84it/s]\n"
     ]
    },
    {
     "name": "stdout",
     "output_type": "stream",
     "text": [
      "   Generated 166 gas precursors in this iteration.\n"
     ]
    },
    {
     "name": "stderr",
     "output_type": "stream",
     "text": [
      "Iter 3 Precursors: 100%|██████████████████████| 166/166 [00:03<00:00, 45.38it/s]\n"
     ]
    },
    {
     "name": "stdout",
     "output_type": "stream",
     "text": [
      "   Iteration 3 complete: 0 adsorbed\n",
      "   Iteration 4/5\n"
     ]
    },
    {
     "name": "stderr",
     "output_type": "stream",
     "text": [
      "Generating gas layer: 100%|████████████████| 7500/7500 [00:14<00:00, 530.39it/s]\n"
     ]
    },
    {
     "name": "stdout",
     "output_type": "stream",
     "text": [
      "   Generated 162 gas precursors in this iteration.\n"
     ]
    },
    {
     "name": "stderr",
     "output_type": "stream",
     "text": [
      "Iter 4 Precursors: 100%|██████████████████████| 162/162 [00:03<00:00, 45.39it/s]\n"
     ]
    },
    {
     "name": "stdout",
     "output_type": "stream",
     "text": [
      "   Iteration 4 complete: 0 adsorbed\n",
      "   Iteration 5/5\n"
     ]
    },
    {
     "name": "stderr",
     "output_type": "stream",
     "text": [
      "Generating gas layer: 100%|████████████████| 7500/7500 [00:14<00:00, 523.68it/s]\n"
     ]
    },
    {
     "name": "stdout",
     "output_type": "stream",
     "text": [
      "   Generated 161 gas precursors in this iteration.\n"
     ]
    },
    {
     "name": "stderr",
     "output_type": "stream",
     "text": [
      "Iter 5 Precursors: 100%|██████████████████████| 161/161 [00:03<00:00, 45.25it/s]\n"
     ]
    },
    {
     "name": "stdout",
     "output_type": "stream",
     "text": [
      "   Iteration 5 complete: 0 adsorbed\n",
      "   Adsorbed: 0 precursors\n",
      "\n",
      "3. H2O REACTION PHASE\n"
     ]
    },
    {
     "name": "stderr",
     "output_type": "stream",
     "text": [
      "Processing H2O Reaction: 0it [00:00, ?it/s]\n"
     ]
    },
    {
     "name": "stdout",
     "output_type": "stream",
     "text": [
      "   Replaced: 0 Cl → O atoms\n",
      "\n",
      "--- CYCLE 11 SUMMARY ---\n",
      "Precursors adsorbed: 0\n",
      "Total molecules in system: 644\n",
      "\n",
      "==================================================\n",
      "CYCLE 12\n",
      "==================================================\n",
      "\n",
      "2. PRECURSORS PHASE\n",
      "   Iteration 1/5\n"
     ]
    },
    {
     "name": "stderr",
     "output_type": "stream",
     "text": [
      "Generating gas layer: 100%|████████████████| 7500/7500 [00:14<00:00, 522.62it/s]\n"
     ]
    },
    {
     "name": "stdout",
     "output_type": "stream",
     "text": [
      "   Generated 162 gas precursors in this iteration.\n"
     ]
    },
    {
     "name": "stderr",
     "output_type": "stream",
     "text": [
      "Iter 1 Precursors: 100%|██████████████████████| 162/162 [00:03<00:00, 45.47it/s]\n"
     ]
    },
    {
     "name": "stdout",
     "output_type": "stream",
     "text": [
      "   Iteration 1 complete: 0 adsorbed\n",
      "   Iteration 2/5\n"
     ]
    },
    {
     "name": "stderr",
     "output_type": "stream",
     "text": [
      "Generating gas layer: 100%|████████████████| 7500/7500 [00:14<00:00, 519.20it/s]\n"
     ]
    },
    {
     "name": "stdout",
     "output_type": "stream",
     "text": [
      "   Generated 162 gas precursors in this iteration.\n"
     ]
    },
    {
     "name": "stderr",
     "output_type": "stream",
     "text": [
      "Iter 2 Precursors: 100%|██████████████████████| 162/162 [00:03<00:00, 45.08it/s]\n"
     ]
    },
    {
     "name": "stdout",
     "output_type": "stream",
     "text": [
      "   Iteration 2 complete: 0 adsorbed\n",
      "   Iteration 3/5\n"
     ]
    },
    {
     "name": "stderr",
     "output_type": "stream",
     "text": [
      "Generating gas layer: 100%|████████████████| 7500/7500 [00:14<00:00, 514.93it/s]\n"
     ]
    },
    {
     "name": "stdout",
     "output_type": "stream",
     "text": [
      "   Generated 165 gas precursors in this iteration.\n"
     ]
    },
    {
     "name": "stderr",
     "output_type": "stream",
     "text": [
      "Iter 3 Precursors: 100%|██████████████████████| 165/165 [00:03<00:00, 45.22it/s]\n"
     ]
    },
    {
     "name": "stdout",
     "output_type": "stream",
     "text": [
      "   Iteration 3 complete: 0 adsorbed\n",
      "   Iteration 4/5\n"
     ]
    },
    {
     "name": "stderr",
     "output_type": "stream",
     "text": [
      "Generating gas layer: 100%|████████████████| 7500/7500 [00:14<00:00, 516.85it/s]\n"
     ]
    },
    {
     "name": "stdout",
     "output_type": "stream",
     "text": [
      "   Generated 167 gas precursors in this iteration.\n"
     ]
    },
    {
     "name": "stderr",
     "output_type": "stream",
     "text": [
      "Iter 4 Precursors: 100%|██████████████████████| 167/167 [00:03<00:00, 45.36it/s]\n"
     ]
    },
    {
     "name": "stdout",
     "output_type": "stream",
     "text": [
      "   Iteration 4 complete: 0 adsorbed\n",
      "   Iteration 5/5\n"
     ]
    },
    {
     "name": "stderr",
     "output_type": "stream",
     "text": [
      "Generating gas layer: 100%|████████████████| 7500/7500 [00:14<00:00, 524.98it/s]\n"
     ]
    },
    {
     "name": "stdout",
     "output_type": "stream",
     "text": [
      "   Generated 166 gas precursors in this iteration.\n"
     ]
    },
    {
     "name": "stderr",
     "output_type": "stream",
     "text": [
      "Iter 5 Precursors: 100%|██████████████████████| 166/166 [00:03<00:00, 44.81it/s]\n"
     ]
    },
    {
     "name": "stdout",
     "output_type": "stream",
     "text": [
      "   Iteration 5 complete: 0 adsorbed\n",
      "   Adsorbed: 0 precursors\n",
      "\n",
      "3. H2O REACTION PHASE\n"
     ]
    },
    {
     "name": "stderr",
     "output_type": "stream",
     "text": [
      "Processing H2O Reaction: 0it [00:00, ?it/s]\n"
     ]
    },
    {
     "name": "stdout",
     "output_type": "stream",
     "text": [
      "   Replaced: 0 Cl → O atoms\n",
      "\n",
      "--- CYCLE 12 SUMMARY ---\n",
      "Precursors adsorbed: 0\n",
      "Total molecules in system: 644\n",
      "\n",
      "==================================================\n",
      "CYCLE 13\n",
      "==================================================\n",
      "\n",
      "2. PRECURSORS PHASE\n",
      "   Iteration 1/5\n"
     ]
    },
    {
     "name": "stderr",
     "output_type": "stream",
     "text": [
      "Generating gas layer: 100%|████████████████| 7500/7500 [00:13<00:00, 536.20it/s]\n"
     ]
    },
    {
     "name": "stdout",
     "output_type": "stream",
     "text": [
      "   Generated 157 gas precursors in this iteration.\n"
     ]
    },
    {
     "name": "stderr",
     "output_type": "stream",
     "text": [
      "Iter 1 Precursors: 100%|██████████████████████| 157/157 [00:03<00:00, 45.60it/s]\n"
     ]
    },
    {
     "name": "stdout",
     "output_type": "stream",
     "text": [
      "   Iteration 1 complete: 0 adsorbed\n",
      "   Iteration 2/5\n"
     ]
    },
    {
     "name": "stderr",
     "output_type": "stream",
     "text": [
      "Generating gas layer: 100%|████████████████| 7500/7500 [00:14<00:00, 533.91it/s]\n"
     ]
    },
    {
     "name": "stdout",
     "output_type": "stream",
     "text": [
      "   Generated 157 gas precursors in this iteration.\n"
     ]
    },
    {
     "name": "stderr",
     "output_type": "stream",
     "text": [
      "Iter 2 Precursors: 100%|██████████████████████| 157/157 [00:03<00:00, 45.24it/s]\n"
     ]
    },
    {
     "name": "stdout",
     "output_type": "stream",
     "text": [
      "   Iteration 2 complete: 0 adsorbed\n",
      "   Iteration 3/5\n"
     ]
    },
    {
     "name": "stderr",
     "output_type": "stream",
     "text": [
      "Generating gas layer: 100%|████████████████| 7500/7500 [00:14<00:00, 524.60it/s]\n"
     ]
    },
    {
     "name": "stdout",
     "output_type": "stream",
     "text": [
      "   Generated 164 gas precursors in this iteration.\n"
     ]
    },
    {
     "name": "stderr",
     "output_type": "stream",
     "text": [
      "Iter 3 Precursors: 100%|██████████████████████| 164/164 [00:03<00:00, 44.99it/s]\n"
     ]
    },
    {
     "name": "stdout",
     "output_type": "stream",
     "text": [
      "   Iteration 3 complete: 0 adsorbed\n",
      "   Iteration 4/5\n"
     ]
    },
    {
     "name": "stderr",
     "output_type": "stream",
     "text": [
      "Generating gas layer: 100%|████████████████| 7500/7500 [00:14<00:00, 514.68it/s]\n"
     ]
    },
    {
     "name": "stdout",
     "output_type": "stream",
     "text": [
      "   Generated 167 gas precursors in this iteration.\n"
     ]
    },
    {
     "name": "stderr",
     "output_type": "stream",
     "text": [
      "Iter 4 Precursors: 100%|██████████████████████| 167/167 [00:03<00:00, 45.39it/s]\n"
     ]
    },
    {
     "name": "stdout",
     "output_type": "stream",
     "text": [
      "   Iteration 4 complete: 0 adsorbed\n",
      "   Iteration 5/5\n"
     ]
    },
    {
     "name": "stderr",
     "output_type": "stream",
     "text": [
      "Generating gas layer: 100%|████████████████| 7500/7500 [00:15<00:00, 494.52it/s]\n"
     ]
    },
    {
     "name": "stdout",
     "output_type": "stream",
     "text": [
      "   Generated 158 gas precursors in this iteration.\n"
     ]
    },
    {
     "name": "stderr",
     "output_type": "stream",
     "text": [
      "Iter 5 Precursors: 100%|██████████████████████| 158/158 [00:03<00:00, 41.23it/s]\n"
     ]
    },
    {
     "name": "stdout",
     "output_type": "stream",
     "text": [
      "   Iteration 5 complete: 0 adsorbed\n",
      "   Adsorbed: 0 precursors\n",
      "\n",
      "3. H2O REACTION PHASE\n"
     ]
    },
    {
     "name": "stderr",
     "output_type": "stream",
     "text": [
      "Processing H2O Reaction: 0it [00:00, ?it/s]\n"
     ]
    },
    {
     "name": "stdout",
     "output_type": "stream",
     "text": [
      "   Replaced: 0 Cl → O atoms\n",
      "\n",
      "--- CYCLE 13 SUMMARY ---\n",
      "Precursors adsorbed: 0\n",
      "Total molecules in system: 644\n",
      "\n",
      "==================================================\n",
      "CYCLE 14\n",
      "==================================================\n",
      "\n",
      "2. PRECURSORS PHASE\n",
      "   Iteration 1/5\n"
     ]
    },
    {
     "name": "stderr",
     "output_type": "stream",
     "text": [
      "Generating gas layer: 100%|████████████████| 7500/7500 [00:15<00:00, 495.17it/s]\n"
     ]
    },
    {
     "name": "stdout",
     "output_type": "stream",
     "text": [
      "   Generated 166 gas precursors in this iteration.\n"
     ]
    },
    {
     "name": "stderr",
     "output_type": "stream",
     "text": [
      "Iter 1 Precursors: 100%|██████████████████████| 166/166 [00:03<00:00, 44.43it/s]\n"
     ]
    },
    {
     "name": "stdout",
     "output_type": "stream",
     "text": [
      "   Iteration 1 complete: 0 adsorbed\n",
      "   Iteration 2/5\n"
     ]
    },
    {
     "name": "stderr",
     "output_type": "stream",
     "text": [
      "Generating gas layer: 100%|████████████████| 7500/7500 [00:15<00:00, 490.67it/s]\n"
     ]
    },
    {
     "name": "stdout",
     "output_type": "stream",
     "text": [
      "   Generated 166 gas precursors in this iteration.\n"
     ]
    },
    {
     "name": "stderr",
     "output_type": "stream",
     "text": [
      "Iter 2 Precursors: 100%|██████████████████████| 166/166 [00:03<00:00, 44.60it/s]\n"
     ]
    },
    {
     "name": "stdout",
     "output_type": "stream",
     "text": [
      "   Iteration 2 complete: 0 adsorbed\n",
      "   Iteration 3/5\n"
     ]
    },
    {
     "name": "stderr",
     "output_type": "stream",
     "text": [
      "Generating gas layer: 100%|████████████████| 7500/7500 [00:15<00:00, 479.65it/s]\n"
     ]
    },
    {
     "name": "stdout",
     "output_type": "stream",
     "text": [
      "   Generated 165 gas precursors in this iteration.\n"
     ]
    },
    {
     "name": "stderr",
     "output_type": "stream",
     "text": [
      "Iter 3 Precursors: 100%|██████████████████████| 165/165 [00:03<00:00, 44.28it/s]\n"
     ]
    },
    {
     "name": "stdout",
     "output_type": "stream",
     "text": [
      "   Iteration 3 complete: 0 adsorbed\n",
      "   Iteration 4/5\n"
     ]
    },
    {
     "name": "stderr",
     "output_type": "stream",
     "text": [
      "Generating gas layer: 100%|████████████████| 7500/7500 [00:15<00:00, 483.42it/s]\n"
     ]
    },
    {
     "name": "stdout",
     "output_type": "stream",
     "text": [
      "   Generated 166 gas precursors in this iteration.\n"
     ]
    },
    {
     "name": "stderr",
     "output_type": "stream",
     "text": [
      "Iter 4 Precursors: 100%|██████████████████████| 166/166 [00:03<00:00, 43.22it/s]\n"
     ]
    },
    {
     "name": "stdout",
     "output_type": "stream",
     "text": [
      "   Iteration 4 complete: 0 adsorbed\n",
      "   Iteration 5/5\n"
     ]
    },
    {
     "name": "stderr",
     "output_type": "stream",
     "text": [
      "Generating gas layer: 100%|████████████████| 7500/7500 [00:14<00:00, 520.98it/s]\n"
     ]
    },
    {
     "name": "stdout",
     "output_type": "stream",
     "text": [
      "   Generated 159 gas precursors in this iteration.\n"
     ]
    },
    {
     "name": "stderr",
     "output_type": "stream",
     "text": [
      "Iter 5 Precursors: 100%|██████████████████████| 159/159 [00:03<00:00, 44.53it/s]\n"
     ]
    },
    {
     "name": "stdout",
     "output_type": "stream",
     "text": [
      "   Iteration 5 complete: 0 adsorbed\n",
      "   Adsorbed: 0 precursors\n",
      "\n",
      "3. H2O REACTION PHASE\n"
     ]
    },
    {
     "name": "stderr",
     "output_type": "stream",
     "text": [
      "Processing H2O Reaction: 0it [00:00, ?it/s]\n"
     ]
    },
    {
     "name": "stdout",
     "output_type": "stream",
     "text": [
      "   Replaced: 0 Cl → O atoms\n",
      "\n",
      "--- CYCLE 14 SUMMARY ---\n",
      "Precursors adsorbed: 0\n",
      "Total molecules in system: 644\n",
      "\n",
      "==================================================\n",
      "CYCLE 15\n",
      "==================================================\n",
      "\n",
      "2. PRECURSORS PHASE\n",
      "   Iteration 1/5\n"
     ]
    },
    {
     "name": "stderr",
     "output_type": "stream",
     "text": [
      "Generating gas layer: 100%|████████████████| 7500/7500 [00:14<00:00, 512.26it/s]\n"
     ]
    },
    {
     "name": "stdout",
     "output_type": "stream",
     "text": [
      "   Generated 159 gas precursors in this iteration.\n"
     ]
    },
    {
     "name": "stderr",
     "output_type": "stream",
     "text": [
      "Iter 1 Precursors: 100%|██████████████████████| 159/159 [00:03<00:00, 45.40it/s]\n"
     ]
    },
    {
     "name": "stdout",
     "output_type": "stream",
     "text": [
      "   Iteration 1 complete: 0 adsorbed\n",
      "   Iteration 2/5\n"
     ]
    },
    {
     "name": "stderr",
     "output_type": "stream",
     "text": [
      "Generating gas layer: 100%|████████████████| 7500/7500 [00:14<00:00, 520.67it/s]\n"
     ]
    },
    {
     "name": "stdout",
     "output_type": "stream",
     "text": [
      "   Generated 164 gas precursors in this iteration.\n"
     ]
    },
    {
     "name": "stderr",
     "output_type": "stream",
     "text": [
      "Iter 2 Precursors: 100%|██████████████████████| 164/164 [00:03<00:00, 45.14it/s]\n"
     ]
    },
    {
     "name": "stdout",
     "output_type": "stream",
     "text": [
      "   Iteration 2 complete: 0 adsorbed\n",
      "   Iteration 3/5\n"
     ]
    },
    {
     "name": "stderr",
     "output_type": "stream",
     "text": [
      "Generating gas layer: 100%|████████████████| 7500/7500 [00:14<00:00, 531.14it/s]\n"
     ]
    },
    {
     "name": "stdout",
     "output_type": "stream",
     "text": [
      "   Generated 158 gas precursors in this iteration.\n"
     ]
    },
    {
     "name": "stderr",
     "output_type": "stream",
     "text": [
      "Iter 3 Precursors: 100%|██████████████████████| 158/158 [00:03<00:00, 45.55it/s]\n"
     ]
    },
    {
     "name": "stdout",
     "output_type": "stream",
     "text": [
      "   Iteration 3 complete: 0 adsorbed\n",
      "   Iteration 4/5\n"
     ]
    },
    {
     "name": "stderr",
     "output_type": "stream",
     "text": [
      "Generating gas layer: 100%|████████████████| 7500/7500 [00:14<00:00, 515.60it/s]\n"
     ]
    },
    {
     "name": "stdout",
     "output_type": "stream",
     "text": [
      "   Generated 168 gas precursors in this iteration.\n"
     ]
    },
    {
     "name": "stderr",
     "output_type": "stream",
     "text": [
      "Iter 4 Precursors: 100%|██████████████████████| 168/168 [00:03<00:00, 45.46it/s]\n"
     ]
    },
    {
     "name": "stdout",
     "output_type": "stream",
     "text": [
      "   Iteration 4 complete: 0 adsorbed\n",
      "   Iteration 5/5\n"
     ]
    },
    {
     "name": "stderr",
     "output_type": "stream",
     "text": [
      "Generating gas layer: 100%|████████████████| 7500/7500 [00:14<00:00, 515.54it/s]\n"
     ]
    },
    {
     "name": "stdout",
     "output_type": "stream",
     "text": [
      "   Generated 164 gas precursors in this iteration.\n"
     ]
    },
    {
     "name": "stderr",
     "output_type": "stream",
     "text": [
      "Iter 5 Precursors: 100%|██████████████████████| 164/164 [00:03<00:00, 45.32it/s]\n"
     ]
    },
    {
     "name": "stdout",
     "output_type": "stream",
     "text": [
      "   Iteration 5 complete: 0 adsorbed\n",
      "   Adsorbed: 0 precursors\n",
      "\n",
      "3. H2O REACTION PHASE\n"
     ]
    },
    {
     "name": "stderr",
     "output_type": "stream",
     "text": [
      "Processing H2O Reaction: 0it [00:00, ?it/s]\n"
     ]
    },
    {
     "name": "stdout",
     "output_type": "stream",
     "text": [
      "   Replaced: 0 Cl → O atoms\n",
      "\n",
      "--- CYCLE 15 SUMMARY ---\n",
      "Precursors adsorbed: 0\n",
      "Total molecules in system: 644\n",
      "\n",
      "==================================================\n",
      "CYCLE 16\n",
      "==================================================\n",
      "\n",
      "2. PRECURSORS PHASE\n",
      "   Iteration 1/5\n"
     ]
    },
    {
     "name": "stderr",
     "output_type": "stream",
     "text": [
      "Generating gas layer: 100%|████████████████| 7500/7500 [00:14<00:00, 535.32it/s]\n"
     ]
    },
    {
     "name": "stdout",
     "output_type": "stream",
     "text": [
      "   Generated 162 gas precursors in this iteration.\n"
     ]
    },
    {
     "name": "stderr",
     "output_type": "stream",
     "text": [
      "Iter 1 Precursors: 100%|██████████████████████| 162/162 [00:03<00:00, 45.52it/s]\n"
     ]
    },
    {
     "name": "stdout",
     "output_type": "stream",
     "text": [
      "   Iteration 1 complete: 0 adsorbed\n",
      "   Iteration 2/5\n"
     ]
    },
    {
     "name": "stderr",
     "output_type": "stream",
     "text": [
      "Generating gas layer: 100%|████████████████| 7500/7500 [00:14<00:00, 529.45it/s]\n"
     ]
    },
    {
     "name": "stdout",
     "output_type": "stream",
     "text": [
      "   Generated 161 gas precursors in this iteration.\n"
     ]
    },
    {
     "name": "stderr",
     "output_type": "stream",
     "text": [
      "Iter 2 Precursors: 100%|██████████████████████| 161/161 [00:03<00:00, 45.07it/s]\n"
     ]
    },
    {
     "name": "stdout",
     "output_type": "stream",
     "text": [
      "   Iteration 2 complete: 0 adsorbed\n",
      "   Iteration 3/5\n"
     ]
    },
    {
     "name": "stderr",
     "output_type": "stream",
     "text": [
      "Generating gas layer: 100%|████████████████| 7500/7500 [00:14<00:00, 504.04it/s]\n"
     ]
    },
    {
     "name": "stdout",
     "output_type": "stream",
     "text": [
      "   Generated 169 gas precursors in this iteration.\n"
     ]
    },
    {
     "name": "stderr",
     "output_type": "stream",
     "text": [
      "Iter 3 Precursors: 100%|██████████████████████| 169/169 [00:03<00:00, 45.06it/s]\n"
     ]
    },
    {
     "name": "stdout",
     "output_type": "stream",
     "text": [
      "   Iteration 3 complete: 0 adsorbed\n",
      "   Iteration 4/5\n"
     ]
    },
    {
     "name": "stderr",
     "output_type": "stream",
     "text": [
      "Generating gas layer: 100%|████████████████| 7500/7500 [00:14<00:00, 523.84it/s]\n"
     ]
    },
    {
     "name": "stdout",
     "output_type": "stream",
     "text": [
      "   Generated 161 gas precursors in this iteration.\n"
     ]
    },
    {
     "name": "stderr",
     "output_type": "stream",
     "text": [
      "Iter 4 Precursors: 100%|██████████████████████| 161/161 [00:03<00:00, 45.53it/s]\n"
     ]
    },
    {
     "name": "stdout",
     "output_type": "stream",
     "text": [
      "   Iteration 4 complete: 0 adsorbed\n",
      "   Iteration 5/5\n"
     ]
    },
    {
     "name": "stderr",
     "output_type": "stream",
     "text": [
      "Generating gas layer: 100%|████████████████| 7500/7500 [00:14<00:00, 515.68it/s]\n"
     ]
    },
    {
     "name": "stdout",
     "output_type": "stream",
     "text": [
      "   Generated 166 gas precursors in this iteration.\n"
     ]
    },
    {
     "name": "stderr",
     "output_type": "stream",
     "text": [
      "Iter 5 Precursors: 100%|██████████████████████| 166/166 [00:03<00:00, 44.79it/s]\n"
     ]
    },
    {
     "name": "stdout",
     "output_type": "stream",
     "text": [
      "   Iteration 5 complete: 0 adsorbed\n",
      "   Adsorbed: 0 precursors\n",
      "\n",
      "3. H2O REACTION PHASE\n"
     ]
    },
    {
     "name": "stderr",
     "output_type": "stream",
     "text": [
      "Processing H2O Reaction: 0it [00:00, ?it/s]\n"
     ]
    },
    {
     "name": "stdout",
     "output_type": "stream",
     "text": [
      "   Replaced: 0 Cl → O atoms\n",
      "\n",
      "--- CYCLE 16 SUMMARY ---\n",
      "Precursors adsorbed: 0\n",
      "Total molecules in system: 644\n",
      "\n",
      "==================================================\n",
      "CYCLE 17\n",
      "==================================================\n",
      "\n",
      "2. PRECURSORS PHASE\n",
      "   Iteration 1/5\n"
     ]
    },
    {
     "name": "stderr",
     "output_type": "stream",
     "text": [
      "Generating gas layer: 100%|████████████████| 7500/7500 [00:14<00:00, 527.81it/s]\n"
     ]
    },
    {
     "name": "stdout",
     "output_type": "stream",
     "text": [
      "   Generated 164 gas precursors in this iteration.\n"
     ]
    },
    {
     "name": "stderr",
     "output_type": "stream",
     "text": [
      "Iter 1 Precursors: 100%|██████████████████████| 164/164 [00:03<00:00, 45.33it/s]\n"
     ]
    },
    {
     "name": "stdout",
     "output_type": "stream",
     "text": [
      "   Iteration 1 complete: 0 adsorbed\n",
      "   Iteration 2/5\n"
     ]
    },
    {
     "name": "stderr",
     "output_type": "stream",
     "text": [
      "Generating gas layer: 100%|████████████████| 7500/7500 [00:14<00:00, 529.27it/s]\n"
     ]
    },
    {
     "name": "stdout",
     "output_type": "stream",
     "text": [
      "   Generated 158 gas precursors in this iteration.\n"
     ]
    },
    {
     "name": "stderr",
     "output_type": "stream",
     "text": [
      "Iter 2 Precursors: 100%|██████████████████████| 158/158 [00:03<00:00, 45.07it/s]\n"
     ]
    },
    {
     "name": "stdout",
     "output_type": "stream",
     "text": [
      "   Iteration 2 complete: 0 adsorbed\n",
      "   Iteration 3/5\n"
     ]
    },
    {
     "name": "stderr",
     "output_type": "stream",
     "text": [
      "Generating gas layer: 100%|████████████████| 7500/7500 [00:14<00:00, 516.37it/s]\n"
     ]
    },
    {
     "name": "stdout",
     "output_type": "stream",
     "text": [
      "   Generated 164 gas precursors in this iteration.\n"
     ]
    },
    {
     "name": "stderr",
     "output_type": "stream",
     "text": [
      "Iter 3 Precursors: 100%|██████████████████████| 164/164 [00:03<00:00, 45.52it/s]\n"
     ]
    },
    {
     "name": "stdout",
     "output_type": "stream",
     "text": [
      "   Iteration 3 complete: 0 adsorbed\n",
      "   Iteration 4/5\n"
     ]
    },
    {
     "name": "stderr",
     "output_type": "stream",
     "text": [
      "Generating gas layer: 100%|████████████████| 7500/7500 [00:14<00:00, 524.34it/s]\n"
     ]
    },
    {
     "name": "stdout",
     "output_type": "stream",
     "text": [
      "   Generated 161 gas precursors in this iteration.\n"
     ]
    },
    {
     "name": "stderr",
     "output_type": "stream",
     "text": [
      "Iter 4 Precursors: 100%|██████████████████████| 161/161 [00:03<00:00, 44.94it/s]\n"
     ]
    },
    {
     "name": "stdout",
     "output_type": "stream",
     "text": [
      "   Iteration 4 complete: 0 adsorbed\n",
      "   Iteration 5/5\n"
     ]
    },
    {
     "name": "stderr",
     "output_type": "stream",
     "text": [
      "Generating gas layer: 100%|████████████████| 7500/7500 [00:14<00:00, 512.39it/s]\n"
     ]
    },
    {
     "name": "stdout",
     "output_type": "stream",
     "text": [
      "   Generated 162 gas precursors in this iteration.\n"
     ]
    },
    {
     "name": "stderr",
     "output_type": "stream",
     "text": [
      "Iter 5 Precursors: 100%|██████████████████████| 162/162 [00:03<00:00, 45.23it/s]\n"
     ]
    },
    {
     "name": "stdout",
     "output_type": "stream",
     "text": [
      "   Iteration 5 complete: 0 adsorbed\n",
      "   Adsorbed: 0 precursors\n",
      "\n",
      "3. H2O REACTION PHASE\n"
     ]
    },
    {
     "name": "stderr",
     "output_type": "stream",
     "text": [
      "Processing H2O Reaction: 0it [00:00, ?it/s]\n"
     ]
    },
    {
     "name": "stdout",
     "output_type": "stream",
     "text": [
      "   Replaced: 0 Cl → O atoms\n",
      "\n",
      "--- CYCLE 17 SUMMARY ---\n",
      "Precursors adsorbed: 0\n",
      "Total molecules in system: 644\n",
      "\n",
      "==================================================\n",
      "CYCLE 18\n",
      "==================================================\n",
      "\n",
      "2. PRECURSORS PHASE\n",
      "   Iteration 1/5\n"
     ]
    },
    {
     "name": "stderr",
     "output_type": "stream",
     "text": [
      "Generating gas layer: 100%|████████████████| 7500/7500 [00:14<00:00, 532.97it/s]\n"
     ]
    },
    {
     "name": "stdout",
     "output_type": "stream",
     "text": [
      "   Generated 162 gas precursors in this iteration.\n"
     ]
    },
    {
     "name": "stderr",
     "output_type": "stream",
     "text": [
      "Iter 1 Precursors: 100%|██████████████████████| 162/162 [00:03<00:00, 45.24it/s]\n"
     ]
    },
    {
     "name": "stdout",
     "output_type": "stream",
     "text": [
      "   Iteration 1 complete: 0 adsorbed\n",
      "   Iteration 2/5\n"
     ]
    },
    {
     "name": "stderr",
     "output_type": "stream",
     "text": [
      "Generating gas layer: 100%|████████████████| 7500/7500 [00:14<00:00, 520.97it/s]\n"
     ]
    },
    {
     "name": "stdout",
     "output_type": "stream",
     "text": [
      "   Generated 166 gas precursors in this iteration.\n"
     ]
    },
    {
     "name": "stderr",
     "output_type": "stream",
     "text": [
      "Iter 2 Precursors: 100%|██████████████████████| 166/166 [00:03<00:00, 45.92it/s]\n"
     ]
    },
    {
     "name": "stdout",
     "output_type": "stream",
     "text": [
      "   Iteration 2 complete: 0 adsorbed\n",
      "   Iteration 3/5\n"
     ]
    },
    {
     "name": "stderr",
     "output_type": "stream",
     "text": [
      "Generating gas layer: 100%|████████████████| 7500/7500 [00:14<00:00, 507.28it/s]\n"
     ]
    },
    {
     "name": "stdout",
     "output_type": "stream",
     "text": [
      "   Generated 166 gas precursors in this iteration.\n"
     ]
    },
    {
     "name": "stderr",
     "output_type": "stream",
     "text": [
      "Iter 3 Precursors: 100%|██████████████████████| 166/166 [00:03<00:00, 45.60it/s]\n"
     ]
    },
    {
     "name": "stdout",
     "output_type": "stream",
     "text": [
      "   Iteration 3 complete: 0 adsorbed\n",
      "   Iteration 4/5\n"
     ]
    },
    {
     "name": "stderr",
     "output_type": "stream",
     "text": [
      "Generating gas layer: 100%|████████████████| 7500/7500 [00:14<00:00, 513.95it/s]\n"
     ]
    },
    {
     "name": "stdout",
     "output_type": "stream",
     "text": [
      "   Generated 168 gas precursors in this iteration.\n"
     ]
    },
    {
     "name": "stderr",
     "output_type": "stream",
     "text": [
      "Iter 4 Precursors: 100%|██████████████████████| 168/168 [00:03<00:00, 45.52it/s]\n"
     ]
    },
    {
     "name": "stdout",
     "output_type": "stream",
     "text": [
      "   Iteration 4 complete: 0 adsorbed\n",
      "   Iteration 5/5\n"
     ]
    },
    {
     "name": "stderr",
     "output_type": "stream",
     "text": [
      "Generating gas layer: 100%|████████████████| 7500/7500 [00:14<00:00, 504.46it/s]\n"
     ]
    },
    {
     "name": "stdout",
     "output_type": "stream",
     "text": [
      "   Generated 167 gas precursors in this iteration.\n"
     ]
    },
    {
     "name": "stderr",
     "output_type": "stream",
     "text": [
      "Iter 5 Precursors: 100%|██████████████████████| 167/167 [00:03<00:00, 45.18it/s]\n"
     ]
    },
    {
     "name": "stdout",
     "output_type": "stream",
     "text": [
      "   Iteration 5 complete: 0 adsorbed\n",
      "   Adsorbed: 0 precursors\n",
      "\n",
      "3. H2O REACTION PHASE\n"
     ]
    },
    {
     "name": "stderr",
     "output_type": "stream",
     "text": [
      "Processing H2O Reaction: 0it [00:00, ?it/s]\n"
     ]
    },
    {
     "name": "stdout",
     "output_type": "stream",
     "text": [
      "   Replaced: 0 Cl → O atoms\n",
      "\n",
      "--- CYCLE 18 SUMMARY ---\n",
      "Precursors adsorbed: 0\n",
      "Total molecules in system: 644\n",
      "\n",
      "==================================================\n",
      "CYCLE 19\n",
      "==================================================\n",
      "\n",
      "2. PRECURSORS PHASE\n",
      "   Iteration 1/5\n"
     ]
    },
    {
     "name": "stderr",
     "output_type": "stream",
     "text": [
      "Generating gas layer: 100%|████████████████| 7500/7500 [00:14<00:00, 527.97it/s]\n"
     ]
    },
    {
     "name": "stdout",
     "output_type": "stream",
     "text": [
      "   Generated 163 gas precursors in this iteration.\n"
     ]
    },
    {
     "name": "stderr",
     "output_type": "stream",
     "text": [
      "Iter 1 Precursors: 100%|██████████████████████| 163/163 [00:03<00:00, 45.46it/s]\n"
     ]
    },
    {
     "name": "stdout",
     "output_type": "stream",
     "text": [
      "   Iteration 1 complete: 0 adsorbed\n",
      "   Iteration 2/5\n"
     ]
    },
    {
     "name": "stderr",
     "output_type": "stream",
     "text": [
      "Generating gas layer: 100%|████████████████| 7500/7500 [00:14<00:00, 519.14it/s]\n"
     ]
    },
    {
     "name": "stdout",
     "output_type": "stream",
     "text": [
      "   Generated 167 gas precursors in this iteration.\n"
     ]
    },
    {
     "name": "stderr",
     "output_type": "stream",
     "text": [
      "Iter 2 Precursors: 100%|██████████████████████| 167/167 [00:03<00:00, 45.11it/s]\n"
     ]
    },
    {
     "name": "stdout",
     "output_type": "stream",
     "text": [
      "   Iteration 2 complete: 0 adsorbed\n",
      "   Iteration 3/5\n"
     ]
    },
    {
     "name": "stderr",
     "output_type": "stream",
     "text": [
      "Generating gas layer: 100%|████████████████| 7500/7500 [00:14<00:00, 516.72it/s]\n"
     ]
    },
    {
     "name": "stdout",
     "output_type": "stream",
     "text": [
      "   Generated 166 gas precursors in this iteration.\n"
     ]
    },
    {
     "name": "stderr",
     "output_type": "stream",
     "text": [
      "Iter 3 Precursors: 100%|██████████████████████| 166/166 [00:03<00:00, 45.21it/s]\n"
     ]
    },
    {
     "name": "stdout",
     "output_type": "stream",
     "text": [
      "   Iteration 3 complete: 0 adsorbed\n",
      "   Iteration 4/5\n"
     ]
    },
    {
     "name": "stderr",
     "output_type": "stream",
     "text": [
      "Generating gas layer: 100%|████████████████| 7500/7500 [00:14<00:00, 517.87it/s]\n"
     ]
    },
    {
     "name": "stdout",
     "output_type": "stream",
     "text": [
      "   Generated 168 gas precursors in this iteration.\n"
     ]
    },
    {
     "name": "stderr",
     "output_type": "stream",
     "text": [
      "Iter 4 Precursors: 100%|██████████████████████| 168/168 [00:03<00:00, 45.50it/s]\n"
     ]
    },
    {
     "name": "stdout",
     "output_type": "stream",
     "text": [
      "   Iteration 4 complete: 0 adsorbed\n",
      "   Iteration 5/5\n"
     ]
    },
    {
     "name": "stderr",
     "output_type": "stream",
     "text": [
      "Generating gas layer: 100%|████████████████| 7500/7500 [00:14<00:00, 517.06it/s]\n"
     ]
    },
    {
     "name": "stdout",
     "output_type": "stream",
     "text": [
      "   Generated 165 gas precursors in this iteration.\n"
     ]
    },
    {
     "name": "stderr",
     "output_type": "stream",
     "text": [
      "Iter 5 Precursors: 100%|██████████████████████| 165/165 [00:03<00:00, 45.13it/s]\n"
     ]
    },
    {
     "name": "stdout",
     "output_type": "stream",
     "text": [
      "   Iteration 5 complete: 0 adsorbed\n",
      "   Adsorbed: 0 precursors\n",
      "\n",
      "3. H2O REACTION PHASE\n"
     ]
    },
    {
     "name": "stderr",
     "output_type": "stream",
     "text": [
      "Processing H2O Reaction: 0it [00:00, ?it/s]\n"
     ]
    },
    {
     "name": "stdout",
     "output_type": "stream",
     "text": [
      "   Replaced: 0 Cl → O atoms\n",
      "\n",
      "--- CYCLE 19 SUMMARY ---\n",
      "Precursors adsorbed: 0\n",
      "Total molecules in system: 644\n",
      "\n",
      "==================================================\n",
      "CYCLE 20\n",
      "==================================================\n",
      "\n",
      "2. PRECURSORS PHASE\n",
      "   Iteration 1/5\n"
     ]
    },
    {
     "name": "stderr",
     "output_type": "stream",
     "text": [
      "Generating gas layer: 100%|████████████████| 7500/7500 [00:14<00:00, 531.43it/s]\n"
     ]
    },
    {
     "name": "stdout",
     "output_type": "stream",
     "text": [
      "   Generated 158 gas precursors in this iteration.\n"
     ]
    },
    {
     "name": "stderr",
     "output_type": "stream",
     "text": [
      "Iter 1 Precursors: 100%|██████████████████████| 158/158 [00:03<00:00, 45.43it/s]\n"
     ]
    },
    {
     "name": "stdout",
     "output_type": "stream",
     "text": [
      "   Iteration 1 complete: 0 adsorbed\n",
      "   Iteration 2/5\n"
     ]
    },
    {
     "name": "stderr",
     "output_type": "stream",
     "text": [
      "Generating gas layer: 100%|████████████████| 7500/7500 [00:14<00:00, 518.29it/s]\n"
     ]
    },
    {
     "name": "stdout",
     "output_type": "stream",
     "text": [
      "   Generated 161 gas precursors in this iteration.\n"
     ]
    },
    {
     "name": "stderr",
     "output_type": "stream",
     "text": [
      "Iter 2 Precursors: 100%|██████████████████████| 161/161 [00:03<00:00, 45.69it/s]\n"
     ]
    },
    {
     "name": "stdout",
     "output_type": "stream",
     "text": [
      "   Iteration 2 complete: 0 adsorbed\n",
      "   Iteration 3/5\n"
     ]
    },
    {
     "name": "stderr",
     "output_type": "stream",
     "text": [
      "Generating gas layer: 100%|████████████████| 7500/7500 [00:14<00:00, 531.45it/s]\n"
     ]
    },
    {
     "name": "stdout",
     "output_type": "stream",
     "text": [
      "   Generated 160 gas precursors in this iteration.\n"
     ]
    },
    {
     "name": "stderr",
     "output_type": "stream",
     "text": [
      "Iter 3 Precursors: 100%|██████████████████████| 160/160 [00:03<00:00, 45.57it/s]\n"
     ]
    },
    {
     "name": "stdout",
     "output_type": "stream",
     "text": [
      "   Iteration 3 complete: 0 adsorbed\n",
      "   Iteration 4/5\n"
     ]
    },
    {
     "name": "stderr",
     "output_type": "stream",
     "text": [
      "Generating gas layer: 100%|████████████████| 7500/7500 [00:14<00:00, 525.29it/s]\n"
     ]
    },
    {
     "name": "stdout",
     "output_type": "stream",
     "text": [
      "   Generated 161 gas precursors in this iteration.\n"
     ]
    },
    {
     "name": "stderr",
     "output_type": "stream",
     "text": [
      "Iter 4 Precursors: 100%|██████████████████████| 161/161 [00:03<00:00, 45.60it/s]\n"
     ]
    },
    {
     "name": "stdout",
     "output_type": "stream",
     "text": [
      "   Iteration 4 complete: 0 adsorbed\n",
      "   Iteration 5/5\n"
     ]
    },
    {
     "name": "stderr",
     "output_type": "stream",
     "text": [
      "Generating gas layer: 100%|████████████████| 7500/7500 [00:14<00:00, 517.81it/s]\n"
     ]
    },
    {
     "name": "stdout",
     "output_type": "stream",
     "text": [
      "   Generated 162 gas precursors in this iteration.\n"
     ]
    },
    {
     "name": "stderr",
     "output_type": "stream",
     "text": [
      "Iter 5 Precursors: 100%|██████████████████████| 162/162 [00:03<00:00, 44.83it/s]\n"
     ]
    },
    {
     "name": "stdout",
     "output_type": "stream",
     "text": [
      "   Iteration 5 complete: 0 adsorbed\n",
      "   Adsorbed: 0 precursors\n",
      "\n",
      "3. H2O REACTION PHASE\n"
     ]
    },
    {
     "name": "stderr",
     "output_type": "stream",
     "text": [
      "Processing H2O Reaction: 0it [00:00, ?it/s]"
     ]
    },
    {
     "name": "stdout",
     "output_type": "stream",
     "text": [
      "   Replaced: 0 Cl → O atoms\n",
      "\n",
      "--- CYCLE 20 SUMMARY ---\n",
      "Precursors adsorbed: 0\n",
      "Total molecules in system: 644\n",
      "\n",
      "============================================================\n",
      "SIMULATION COMPLETED - FINAL SUMMARY\n",
      "============================================================\n",
      "Total Cycles: 20\n",
      "Total Inhibitors Adsorbed: 269\n",
      "Total Precursors Adsorbed: 375\n",
      "Total Molecules in System: 644\n",
      "\n",
      "Precursors by Cycle:\n",
      "  Cycle 1: 120 precursors\n",
      "  Cycle 2: 115 precursors\n",
      "  Cycle 3: 111 precursors\n",
      "  Cycle 4: 22 precursors\n",
      "  Cycle 5: 3 precursors\n",
      "  Cycle 6: 0 precursors\n",
      "  Cycle 7: 3 precursors\n",
      "  Cycle 8: 1 precursors\n",
      "  Cycle 9: 0 precursors\n",
      "  Cycle 10: 0 precursors\n",
      "  Cycle 11: 0 precursors\n",
      "  Cycle 12: 0 precursors\n",
      "  Cycle 13: 0 precursors\n",
      "  Cycle 14: 0 precursors\n",
      "  Cycle 15: 0 precursors\n",
      "  Cycle 16: 0 precursors\n",
      "  Cycle 17: 0 precursors\n",
      "  Cycle 18: 0 precursors\n",
      "  Cycle 19: 0 precursors\n",
      "  Cycle 20: 0 precursors\n",
      "\n",
      "Molecules by Layer:\n",
      "  Layer 1: 120 precursors\n",
      "  Layer 2: 115 precursors\n",
      "  Layer 3: 111 precursors\n",
      "  Layer 4: 22 precursors\n",
      "  Layer 5: 3 precursors\n",
      "  Layer 6: 0 precursors\n",
      "  Layer 7: 3 precursors\n",
      "  Layer 8: 1 precursors\n",
      "  Layer 9: 0 precursors\n",
      "  Layer 10: 0 precursors\n",
      "  Layer 11: 0 precursors\n",
      "  Layer 12: 0 precursors\n",
      "  Layer 13: 0 precursors\n",
      "  Layer 14: 0 precursors\n",
      "  Layer 15: 0 precursors\n",
      "  Layer 16: 0 precursors\n",
      "  Layer 17: 0 precursors\n",
      "  Layer 18: 0 precursors\n",
      "  Layer 19: 0 precursors\n",
      "  Layer 20: 0 precursors\n",
      "\n",
      "============================================================\n"
     ]
    },
    {
     "name": "stderr",
     "output_type": "stream",
     "text": [
      "\n"
     ]
    }
   ],
   "source": [
    "'''\n",
    "Đoạn code này mô phỏng quá trình hấp phụ của inhibitors và precursors trên bề mặt slab kèm chất đồng phản ứng H2O \n",
    "theo quy trình ALD với các chu kỳ được xác định rõ ràng.\n",
    "n = số lần lặp quá trình trong 1 chu kỳ\n",
    "N_gas = số phân tử trong 1 lần lặp\n",
    "'''\n",
    "from ase import Atoms\n",
    "from ase.visualize import view\n",
    "import numpy as np\n",
    "from tqdm import tqdm\n",
    "from scipy.spatial import cKDTree\n",
    "\n",
    "# Đảm bảo có bán kính cho O (từ phản ứng H2O)\n",
    "if 'O' not in radius:\n",
    "    radius['O'] = 1.52  # Bán kính van der Waals của O, đơn vị Å (có thể điều chỉnh)\n",
    "\n",
    "# Thêm các tham số mô phỏng (nếu chưa có)\n",
    "n = 5  # Số lần lặp quá trình trong 1 chu kỳ\n",
    "N_gas = 7500  # Số phân tử trong 1 lần lặp\n",
    "N = 20  # Số chu kỳ ALD\n",
    "    \n",
    "# Khởi tạo danh sách để lưu trữ các phân tử\n",
    "inhibitor_phase_molecules = []  # Phân tử inhibitors trong giai đoạn khí (chỉ chu kỳ 1)\n",
    "ads_inhibitor_molecules = []   # Phân tử inhibitors đã hấp phụ (chỉ chu kỳ 1)\n",
    "ads_phase_molecules = []       # Phân tử precursors đã hấp phụ (tất cả chu kỳ)\n",
    "\n",
    "# Mảng theo dõi số lượng phân tử\n",
    "number_gas_inhibitors = np.array([])\n",
    "number_ads_inhibitors = np.array([])\n",
    "number_gas_precursor = np.array([])\n",
    "number_ads_precursor = np.array([])\n",
    "\n",
    "# Định nghĩa z-offset cho hấp phụ ontop (Sn trên O)\n",
    "z_offset = 2.0  # Khoảng cách Sn-O, đơn vị Å (có thể điều chỉnh)\n",
    "\n",
    "# Dictionary để lưu thông tin về chu kỳ của mỗi vị trí hấp phụ và phân tử\n",
    "adsorption_cycle_info = {}  # key: (x, y, z) tuple của vị trí O, value: chu kỳ\n",
    "molecules_by_cycle = {}     # key: chu kỳ, value: list các phân tử\n",
    "\n",
    "# Khởi tạo cu_tree ban đầu với adsorption_sites\n",
    "cu_tree = cKDTree(adsorption_sites)\n",
    "\n",
    "# Khởi tạo thông tin chu kỳ cho các vị trí ban đầu (chu kỳ 0 - substrate)\n",
    "for site in adsorption_sites:\n",
    "    adsorption_cycle_info[tuple(site)] = 0\n",
    "\n",
    "for cycle in range(1, N+1):\n",
    "    print(f'\\n{\"=\"*50}')\n",
    "    print(f'CYCLE {cycle}')\n",
    "    print(f'{\"=\"*50}')\n",
    "    \n",
    "    # Khởi tạo molecules_by_cycle cho chu kỳ hiện tại\n",
    "    molecules_by_cycle[cycle] = []\n",
    "    \n",
    "    if cycle == 1:\n",
    "        # ========== 1. GIAI ĐOẠN INHIBITORS (CHỈ CHU KỲ 1) ==========\n",
    "        print(f'\\n1. INHIBITORS PHASE')\n",
    "        inhibitor_phase_molecules = []  # Reset danh sách\n",
    "        ads_inhibitor_molecules = []    # Reset danh sách\n",
    "        \n",
    "        # Thực hiện n lần lặp inhibitors - MỖI ITERATION CÓ CẢ GAS VÀ ADSORPTION PHASE\n",
    "        for iteration in range(1, n+1):\n",
    "            print(f'   Iteration {iteration}/{n}')\n",
    "            \n",
    "            # 1a. Giai đoạn khí của inhibitors (N_gas phân tử trong 1 lần lặp)\n",
    "            iteration_gas_molecules = []  # Phân tử khí trong lần lặp này\n",
    "            \n",
    "            for i in tqdm(range(1, N_gas+1), desc=\"Generating gas layer\", ncols=80):\n",
    "                # Sao chép phân tử từ inhibitor_atoms\n",
    "                molecule = inhibitor_atoms.copy()\n",
    "                \n",
    "                # Tạo vị trí ngẫu nhiên và ma trận xoay\n",
    "                pos, rx, ry, rz = generate_random_position_and_rotation(slab, adsorption_sites, 0.2, angle_range=(1, 360))\n",
    "                \n",
    "                # Áp dụng xoay cho phân tử\n",
    "                molecule.rotate('x', np.arccos(rx[2, 2]), center=molecule[0].position)\n",
    "                molecule.rotate('y', np.arccos(ry[0, 0]), center=molecule[0].position)\n",
    "                molecule.rotate('z', np.arccos(rz[1, 1]), center=molecule[0].position)\n",
    "                \n",
    "                # Dịch phân tử đến vị trí ngẫu nhiên\n",
    "                offset = pos[0] - molecule[0].position\n",
    "                molecule.translate(offset)\n",
    "                \n",
    "                # Kiểm tra steric hindrance CHỈ với molecules trong lần lặp hiện tại\n",
    "                no_overlap = True\n",
    "                if len(iteration_gas_molecules) > 0:\n",
    "                    symbols = []\n",
    "                    positions = []\n",
    "                    \n",
    "                    # Chỉ thêm từ lần lặp hiện tại\n",
    "                    for prev_molecule in iteration_gas_molecules:\n",
    "                        symbols.extend(prev_molecule.get_chemical_symbols())\n",
    "                        positions.extend(prev_molecule.get_positions())\n",
    "                    \n",
    "                    all_gas_atoms = Atoms(symbols=symbols, positions=positions)\n",
    "                    \n",
    "                    distances = compute_distances_vectorized(molecule.positions, all_gas_atoms.positions)\n",
    "                    symbols1 = molecule.get_chemical_symbols()\n",
    "                    symbols2 = all_gas_atoms.get_chemical_symbols()\n",
    "                    radii1 = np.array([radius[s] for s in symbols1])\n",
    "                    radii2 = np.array([radius[s] for s in symbols2])\n",
    "                    radii_sums = radii1[:, None] + radii2[None, :]\n",
    "                    \n",
    "                    if not np.all(distances > radii_sums):\n",
    "                        no_overlap = False\n",
    "                \n",
    "                if no_overlap:\n",
    "                    iteration_gas_molecules.append(molecule.copy())\n",
    "            print(f'   Generated {len(iteration_gas_molecules)} gas inhibitors in this iteration.')\n",
    "            # Thêm các phân tử khí của lần lặp này vào tổng\n",
    "            inhibitor_phase_molecules.extend(iteration_gas_molecules)\n",
    "            \n",
    "            # 1b. ADSORPTION PHASE của iteration này - CHỈ CHO CÁC PHÂN TỬ TRONG ITERATION NÀY\n",
    "            for molecule in tqdm(iteration_gas_molecules, desc=f\"Iter {iteration} Inhibitors\", ncols=80):\n",
    "                molecule_copy = molecule.copy()\n",
    "                \n",
    "                # Tìm vị trí hấp phụ gần nhất\n",
    "                distances, indices = cu_tree.query(molecule_copy[0].position, k=min(MAX_SITES, len(adsorption_sites)))\n",
    "                \n",
    "                # Đảm bảo indices là mảng 1D\n",
    "                if isinstance(indices, (int, np.integer)):\n",
    "                    indices = [indices]\n",
    "                \n",
    "                adsorbed = False\n",
    "                for k in indices:\n",
    "                    if k >= len(adsorption_sites):\n",
    "                        continue\n",
    "                        \n",
    "                    O_site = adsorption_sites[k]\n",
    "                    ads_molecule = rotated_inhibitor.copy()\n",
    "                    offset = O_site - ads_molecule[0].position\n",
    "                    ads_molecule.translate(offset)\n",
    "                    ads_molecule = rotate_molecule_z_axis(ads_molecule)\n",
    "                    \n",
    "                    # Kiểm tra steric hindrance với TẤT CẢ ads_inhibitor_molecules đã hấp phụ\n",
    "                    no_overlap = True\n",
    "                    if len(ads_inhibitor_molecules) > 0:\n",
    "                        symbols = []\n",
    "                        positions = []\n",
    "                        for prev_ads_molecule in ads_inhibitor_molecules:\n",
    "                            symbols.extend(prev_ads_molecule.get_chemical_symbols())\n",
    "                            positions.extend(prev_ads_molecule.get_positions())\n",
    "                        all_ads_atoms = Atoms(symbols=symbols, positions=positions)\n",
    "                        \n",
    "                        distances = compute_distances_vectorized(ads_molecule.positions, all_ads_atoms.positions)\n",
    "                        symbols1 = ads_molecule.get_chemical_symbols()\n",
    "                        symbols2 = all_ads_atoms.get_chemical_symbols()\n",
    "                        radii1 = np.array([radius[s] for s in symbols1])\n",
    "                        radii2 = np.array([radius[s] for s in symbols2])\n",
    "                        radii_sums = radii1[:, None] + radii2[None, :]\n",
    "                        \n",
    "                        if not np.all(distances > radii_sums):\n",
    "                            no_overlap = False\n",
    "                    \n",
    "                    if no_overlap:\n",
    "                        ads_inhibitor_molecules.append(ads_molecule.copy())\n",
    "                        adsorbed = True\n",
    "                        break\n",
    "            print(f'   Iteration {iteration} complete: {len(ads_inhibitor_molecules)} adsorbed')\n",
    "        \n",
    "        print(f'   Total: {len(inhibitor_phase_molecules)} gas → {len(ads_inhibitor_molecules)} adsorbed')\n",
    "    \n",
    "    # ========== 2. GIAI ĐOẠN PRECURSORS (TẤT CẢ CHU KỲ) ==========\n",
    "    print(f'\\n2. PRECURSORS PHASE')\n",
    "    cycle_gas_molecules = []      # Tất cả gas molecules trong chu kỳ này\n",
    "    cycle_ads_molecules = []      # Tất cả adsorbed molecules trong chu kỳ này\n",
    "    \n",
    "    # Xác định vị trí hấp phụ cho chu kỳ hiện tại\n",
    "    if cycle == 1:\n",
    "        adsorption_positions = adsorption_sites\n",
    "        adsorption_positions_cycle_map = {}\n",
    "    else:\n",
    "        # Chu kỳ 2+: Sử dụng vị trí O từ ads_phase_molecules\n",
    "        adsorption_positions = []\n",
    "        adsorption_positions_cycle_map = {}  # Map từ vị trí đến chu kỳ gốc\n",
    "        \n",
    "        for molecule in ads_phase_molecules:\n",
    "            symbols = molecule.get_chemical_symbols()\n",
    "            positions = molecule.get_positions()\n",
    "            \n",
    "            # Tìm chu kỳ của phân tử này\n",
    "            molecule_cycle = None\n",
    "            for cycle_key, cycle_molecules in molecules_by_cycle.items():\n",
    "                if molecule in cycle_molecules:\n",
    "                    molecule_cycle = cycle_key\n",
    "                    break\n",
    "            \n",
    "            if molecule_cycle is None:\n",
    "                molecule_cycle = 1  # Default cho các phân tử từ chu kỳ 1\n",
    "            \n",
    "            for idx, symbol in enumerate(symbols):\n",
    "                if symbol == 'O':\n",
    "                    pos_tuple = tuple(positions[idx])\n",
    "                    adsorption_positions.append(positions[idx])\n",
    "                    adsorption_positions_cycle_map[len(adsorption_positions)-1] = molecule_cycle\n",
    "        \n",
    "        adsorption_positions = np.array(adsorption_positions)\n",
    "        \n",
    "        if len(adsorption_positions) == 0:\n",
    "            print('   No O atoms found for adsorption. Skipping precursor phase.')\n",
    "            number_gas_inhibitors = np.append(number_gas_inhibitors, 0)\n",
    "            number_ads_inhibitors = np.append(number_ads_inhibitors, len(ads_inhibitor_molecules) if cycle == 1 else 0)\n",
    "            number_gas_precursor = np.append(number_gas_precursor, 0)\n",
    "            number_ads_precursor = np.append(number_ads_precursor, 0)\n",
    "            continue\n",
    "    \n",
    "    # Tạo lại cu_tree với adsorption_positions\n",
    "    cu_tree = cKDTree(adsorption_positions)\n",
    "    \n",
    "    # Thực hiện n lần lặp precursors - MỖI ITERATION CÓ CẢ GAS VÀ ADSORPTION PHASE\n",
    "    for iteration in range(1, n+1):\n",
    "        print(f'   Iteration {iteration}/{n}')\n",
    "        \n",
    "        # 2a. Giai đoạn khí của precursors (N_gas phân tử trong 1 lần lặp)\n",
    "        iteration_gas_molecules = []  # Phân tử khí trong lần lặp này\n",
    "        \n",
    "        for i in tqdm(range(1, N_gas+1), desc=\"Generating gas layer\", ncols=80):\n",
    "            # Sao chép phân tử từ atoms\n",
    "            molecule = atoms.copy()\n",
    "            \n",
    "            # Tạo vị trí ngẫu nhiên và ma trận xoay\n",
    "            pos, rx, ry, rz = generate_random_position_and_rotation(slab, adsorption_sites, 0.2, angle_range=(1, 360))\n",
    "            \n",
    "            # Áp dụng xoay cho phân tử\n",
    "            molecule.rotate('x', np.arccos(rx[2, 2]), center=molecule[0].position)\n",
    "            molecule.rotate('y', np.arccos(ry[0, 0]), center=molecule[0].position)\n",
    "            molecule.rotate('z', np.arccos(rz[1, 1]), center=molecule[0].position)\n",
    "            \n",
    "            # Dịch phân tử đến vị trí ngẫu nhiên\n",
    "            offset = pos[0] - molecule[0].position\n",
    "            molecule.translate(offset)\n",
    "            \n",
    "            # Kiểm tra steric hindrance CHỈ với molecules trong lần lặp hiện tại\n",
    "            no_overlap = True\n",
    "            if len(iteration_gas_molecules) > 0:\n",
    "                symbols = []\n",
    "                positions = []\n",
    "                \n",
    "                # Chỉ thêm từ lần lặp hiện tại\n",
    "                for prev_molecule in iteration_gas_molecules:\n",
    "                    symbols.extend(prev_molecule.get_chemical_symbols())\n",
    "                    positions.extend(prev_molecule.get_positions())\n",
    "                \n",
    "                all_gas_atoms = Atoms(symbols=symbols, positions=positions)\n",
    "                \n",
    "                distances = compute_distances_vectorized(molecule.positions, all_gas_atoms.positions)\n",
    "                symbols1 = molecule.get_chemical_symbols()\n",
    "                symbols2 = all_gas_atoms.get_chemical_symbols()\n",
    "                radii1 = np.array([radius[s] for s in symbols1])\n",
    "                radii2 = np.array([radius[s] for s in symbols2])\n",
    "                radii_sums = radii1[:, None] + radii2[None, :]\n",
    "                \n",
    "                if not np.all(distances > radii_sums):\n",
    "                    no_overlap = False\n",
    "            \n",
    "            if no_overlap:\n",
    "                iteration_gas_molecules.append(molecule.copy())\n",
    "        print(f'   Generated {len(iteration_gas_molecules)} gas precursors in this iteration.')\n",
    "        # Thêm các phân tử khí của lần lặp này vào chu kỳ\n",
    "        cycle_gas_molecules.extend(iteration_gas_molecules)\n",
    "        \n",
    "        # 2b. ADSORPTION PHASE của iteration này - CHỈ CHO CÁC PHÂN TỬ TRONG ITERATION NÀY\n",
    "        for molecule in tqdm(iteration_gas_molecules, desc=f\"Iter {iteration} Precursors\", ncols=80):\n",
    "            molecule_copy = molecule.copy()\n",
    "            \n",
    "            # Tìm vị trí hấp phụ gần nhất\n",
    "            k = min(MAX_SITES, len(adsorption_positions))\n",
    "            distances, indices = cu_tree.query(molecule_copy[0].position, k=k)\n",
    "            \n",
    "            # Đảm bảo indices là mảng 1D\n",
    "            if isinstance(indices, (int, np.integer)):\n",
    "                indices = [indices]\n",
    "            \n",
    "            adsorbed = False\n",
    "            for k_idx in indices:\n",
    "                if k_idx >= len(adsorption_positions):\n",
    "                    continue\n",
    "                    \n",
    "                O_site = adsorption_positions[k_idx]\n",
    "                ads_molecule = rotated_adsorbate.copy()\n",
    "                offset = O_site - ads_molecule[0].position\n",
    "                \n",
    "                # Xác định chu kỳ gốc của vị trí hấp phụ và target_layer\n",
    "                if cycle == 1:\n",
    "                    original_cycle = 0  # Substrate\n",
    "                    target_layer = 1   # Layer 1 (trên substrate)\n",
    "                    layer_z_offset = z_offset  # Layer 1 luôn có z_offset cố định từ substrate\n",
    "                else:\n",
    "                    original_cycle = adsorption_positions_cycle_map[k_idx]\n",
    "                    target_layer = original_cycle + 1  # Layer tiếp theo\n",
    "                    # Layer_z_offset được tính từ substrate (layer 0)\n",
    "                    layer_z_offset = target_layer * z_offset\n",
    "                \n",
    "                # Thêm z-offset dựa trên target_layer\n",
    "                offset += np.array([0, 0, layer_z_offset])\n",
    "                    \n",
    "                ads_molecule.translate(offset)\n",
    "                ads_molecule = rotate_molecule_z_axis(ads_molecule)\n",
    "                \n",
    "                # LOGIC CHÍNH XÁC: Kiểm tra steric hindrance với các phân tử từ target_layer đến cycle hiện tại\n",
    "                no_overlap = True\n",
    "                blocking_layer = None\n",
    "                \n",
    "                # Kiểm tra steric hindrance với tất cả các layer từ target_layer đến cycle hiện tại\n",
    "                for check_layer in range(target_layer, cycle + 1):\n",
    "                    check_molecules = []\n",
    "                    \n",
    "                    if check_layer == cycle:\n",
    "                        # Layer hiện tại: kiểm tra với các phân tử đã hấp phụ trong chu kỳ hiện tại\n",
    "                        check_molecules = cycle_ads_molecules.copy()\n",
    "                    else:\n",
    "                        # Layer cũ hơn: kiểm tra với các phân tử ở layer đó\n",
    "                        if check_layer in molecules_by_cycle:\n",
    "                            check_molecules = molecules_by_cycle[check_layer].copy()\n",
    "                    \n",
    "                    if len(check_molecules) > 0:\n",
    "                        symbols = []\n",
    "                        positions = []\n",
    "                        for prev_ads_molecule in check_molecules:\n",
    "                            symbols.extend(prev_ads_molecule.get_chemical_symbols())\n",
    "                            positions.extend(prev_ads_molecule.get_positions())\n",
    "                        all_ads_atoms = Atoms(symbols=symbols, positions=positions)\n",
    "                        \n",
    "                        distances = compute_distances_vectorized(ads_molecule.positions, all_ads_atoms.positions)\n",
    "                        symbols1 = ads_molecule.get_chemical_symbols()\n",
    "                        symbols2 = all_ads_atoms.get_chemical_symbols()\n",
    "                        radii1 = np.array([radius[s] for s in symbols1])\n",
    "                        radii2 = np.array([radius[s] for s in symbols2])\n",
    "                        radii_sums = radii1[:, None] + radii2[None, :]\n",
    "                        \n",
    "                        if not np.all(distances > radii_sums):\n",
    "                            no_overlap = False\n",
    "                            blocking_layer = check_layer\n",
    "                            break  # Dừng ngay khi gặp steric hindrance\n",
    "                \n",
    "                if no_overlap:\n",
    "                    cycle_ads_molecules.append(ads_molecule.copy())\n",
    "                    adsorbed = True\n",
    "                    break\n",
    "        print(f'   Iteration {iteration} complete: {len(cycle_ads_molecules)} adsorbed')\n",
    "    print(f'   Adsorbed: {len(cycle_ads_molecules)} precursors')\n",
    "    \n",
    "    # ========== 3. GIAI ĐOẠN PHẢN ỨNG H2O (1 LẦN/CHU KỲ) ==========\n",
    "    print(f'\\n3. H2O REACTION PHASE')\n",
    "    \n",
    "    cl_replaced_total = 0\n",
    "    for molecule in tqdm(cycle_ads_molecules, desc=\"Processing H2O Reaction\", ncols=80):\n",
    "        # Thay toàn bộ Cl bằng O\n",
    "        symbols = molecule.get_chemical_symbols()\n",
    "        positions = molecule.get_positions()\n",
    "        cl_count = 0\n",
    "        \n",
    "        for idx, symbol in enumerate(symbols):\n",
    "            if symbol == 'Cl':\n",
    "                symbols[idx] = 'O'\n",
    "                cl_count += 1\n",
    "                # Cập nhật thông tin chu kỳ cho vị trí O mới\n",
    "                adsorption_cycle_info[tuple(positions[idx])] = cycle\n",
    "        \n",
    "        molecule.set_chemical_symbols(symbols)\n",
    "        cl_replaced_total += cl_count\n",
    "    \n",
    "    print(f'   Replaced: {cl_replaced_total} Cl → O atoms')\n",
    "    \n",
    "    # Lưu các phân tử của chu kỳ hiện tại vào molecules_by_cycle\n",
    "    molecules_by_cycle[cycle] = cycle_ads_molecules.copy()\n",
    "    \n",
    "    # Thêm các phân tử đã phản ứng vào ads_phase_molecules\n",
    "    ads_phase_molecules.extend(cycle_ads_molecules)\n",
    "    \n",
    "    # ========== 4. CẬP NHẬT SỐ LIỆU THỐNG KÊ ==========\n",
    "    number_gas_inhibitors = np.append(number_gas_inhibitors, len(inhibitor_phase_molecules) if cycle == 1 else 0)\n",
    "    number_ads_inhibitors = np.append(number_ads_inhibitors, len(ads_inhibitor_molecules) if cycle == 1 else 0)\n",
    "    number_gas_precursor = np.append(number_gas_precursor, len(cycle_gas_molecules))\n",
    "    number_ads_precursor = np.append(number_ads_precursor, len(cycle_ads_molecules))\n",
    "    \n",
    "    # ========== 5. TỔNG KẾT CHU KỲ ==========\n",
    "    print(f'\\n--- CYCLE {cycle} SUMMARY ---')\n",
    "    if cycle == 1:\n",
    "        print(f'Inhibitors adsorbed: {len(ads_inhibitor_molecules)}')\n",
    "    print(f'Precursors adsorbed: {len(cycle_ads_molecules)}')\n",
    "    print(f'Total molecules in system: {len(ads_inhibitor_molecules) + len(ads_phase_molecules)}')\n",
    "\n",
    "# ========== TỔNG KẾT CUỐI CÙNG ==========\n",
    "print(f'\\n{\"=\"*60}')\n",
    "print(f'SIMULATION COMPLETED - FINAL SUMMARY')\n",
    "print(f'{\"=\"*60}')\n",
    "\n",
    "total_inhibitors = len(ads_inhibitor_molecules)\n",
    "total_precursors = len(ads_phase_molecules)\n",
    "total_molecules = total_inhibitors + total_precursors\n",
    "\n",
    "print(f'Total Cycles: {N}')\n",
    "print(f'Total Inhibitors Adsorbed: {total_inhibitors}')\n",
    "print(f'Total Precursors Adsorbed: {total_precursors}')\n",
    "print(f'Total Molecules in System: {total_molecules}')\n",
    "\n",
    "print(f'\\nPrecursors by Cycle:')\n",
    "for cycle in range(1, N+1):\n",
    "    cycle_count = int(number_ads_precursor[cycle-1])\n",
    "    print(f'  Cycle {cycle}: {cycle_count} precursors')\n",
    "\n",
    "print(f'\\nMolecules by Layer:')\n",
    "for layer, molecules in molecules_by_cycle.items():\n",
    "    print(f'  Layer {layer}: {len(molecules)} precursors')\n",
    "\n",
    "print(f'\\n{\"=\"*60}')"
   ]
  },
  {
   "cell_type": "code",
   "execution_count": 11,
   "id": "87193e7a",
   "metadata": {},
   "outputs": [
    {
     "name": "stdout",
     "output_type": "stream",
     "text": [
      "\n",
      "============================================================\n",
      "FINAL SIMULATION RESULTS\n",
      "============================================================\n",
      "Total cycles completed: 20\n",
      "Iterations per cycle: 5\n",
      "Molecules per iteration: 7500\n",
      "Total inhibitors adsorbed: 269\n",
      "Total precursors processed through all cycles: 375\n",
      "Total molecules for visualization: 644\n",
      "✓ Final structure created successfully for visualization\n",
      "\n",
      "📊 VISUALIZATION\n",
      "Displaying final structure with nglview...\n",
      "\n",
      "🎉 SIMULATION COMPLETED SUCCESSFULLY!\n",
      "Final structure variable: final_structure\n",
      "Total atoms in final structure: 13252\n",
      "\n",
      "📈 DETAILED STATISTICS:\n",
      "Cycle 1:\n",
      "  - Gas inhibitors: 1019\n",
      "  - Adsorbed inhibitors: 269\n",
      "  - Gas precursors: 802\n",
      "  - Adsorbed precursors: 120\n",
      "Cycle 2:\n",
      "  - Gas inhibitors: 0\n",
      "  - Adsorbed inhibitors: 0\n",
      "  - Gas precursors: 819\n",
      "  - Adsorbed precursors: 115\n",
      "Cycle 3:\n",
      "  - Gas inhibitors: 0\n",
      "  - Adsorbed inhibitors: 0\n",
      "  - Gas precursors: 811\n",
      "  - Adsorbed precursors: 111\n",
      "Cycle 4:\n",
      "  - Gas inhibitors: 0\n",
      "  - Adsorbed inhibitors: 0\n",
      "  - Gas precursors: 825\n",
      "  - Adsorbed precursors: 22\n",
      "Cycle 5:\n",
      "  - Gas inhibitors: 0\n",
      "  - Adsorbed inhibitors: 0\n",
      "  - Gas precursors: 832\n",
      "  - Adsorbed precursors: 3\n",
      "Cycle 6:\n",
      "  - Gas inhibitors: 0\n",
      "  - Adsorbed inhibitors: 0\n",
      "  - Gas precursors: 809\n",
      "  - Adsorbed precursors: 0\n",
      "Cycle 7:\n",
      "  - Gas inhibitors: 0\n",
      "  - Adsorbed inhibitors: 0\n",
      "  - Gas precursors: 827\n",
      "  - Adsorbed precursors: 3\n",
      "Cycle 8:\n",
      "  - Gas inhibitors: 0\n",
      "  - Adsorbed inhibitors: 0\n",
      "  - Gas precursors: 820\n",
      "  - Adsorbed precursors: 1\n",
      "Cycle 9:\n",
      "  - Gas inhibitors: 0\n",
      "  - Adsorbed inhibitors: 0\n",
      "  - Gas precursors: 823\n",
      "  - Adsorbed precursors: 0\n",
      "Cycle 10:\n",
      "  - Gas inhibitors: 0\n",
      "  - Adsorbed inhibitors: 0\n",
      "  - Gas precursors: 821\n",
      "  - Adsorbed precursors: 0\n",
      "Cycle 11:\n",
      "  - Gas inhibitors: 0\n",
      "  - Adsorbed inhibitors: 0\n",
      "  - Gas precursors: 812\n",
      "  - Adsorbed precursors: 0\n",
      "Cycle 12:\n",
      "  - Gas inhibitors: 0\n",
      "  - Adsorbed inhibitors: 0\n",
      "  - Gas precursors: 822\n",
      "  - Adsorbed precursors: 0\n",
      "Cycle 13:\n",
      "  - Gas inhibitors: 0\n",
      "  - Adsorbed inhibitors: 0\n",
      "  - Gas precursors: 803\n",
      "  - Adsorbed precursors: 0\n",
      "Cycle 14:\n",
      "  - Gas inhibitors: 0\n",
      "  - Adsorbed inhibitors: 0\n",
      "  - Gas precursors: 822\n",
      "  - Adsorbed precursors: 0\n",
      "Cycle 15:\n",
      "  - Gas inhibitors: 0\n",
      "  - Adsorbed inhibitors: 0\n",
      "  - Gas precursors: 813\n",
      "  - Adsorbed precursors: 0\n",
      "Cycle 16:\n",
      "  - Gas inhibitors: 0\n",
      "  - Adsorbed inhibitors: 0\n",
      "  - Gas precursors: 819\n",
      "  - Adsorbed precursors: 0\n",
      "Cycle 17:\n",
      "  - Gas inhibitors: 0\n",
      "  - Adsorbed inhibitors: 0\n",
      "  - Gas precursors: 809\n",
      "  - Adsorbed precursors: 0\n",
      "Cycle 18:\n",
      "  - Gas inhibitors: 0\n",
      "  - Adsorbed inhibitors: 0\n",
      "  - Gas precursors: 829\n",
      "  - Adsorbed precursors: 0\n",
      "Cycle 19:\n",
      "  - Gas inhibitors: 0\n",
      "  - Adsorbed inhibitors: 0\n",
      "  - Gas precursors: 829\n",
      "  - Adsorbed precursors: 0\n",
      "Cycle 20:\n",
      "  - Gas inhibitors: 0\n",
      "  - Adsorbed inhibitors: 0\n",
      "  - Gas precursors: 802\n",
      "  - Adsorbed precursors: 0\n"
     ]
    },
    {
     "data": {
      "application/vnd.jupyter.widget-view+json": {
       "model_id": "690de1c6b8fb4a729886f93e3aba066a",
       "version_major": 2,
       "version_minor": 0
      },
      "text/plain": [
       "HBox(children=(NGLWidget(), VBox(children=(Dropdown(description='Show', options=('All', 'Sn', 'C', 'Si', 'H', …"
      ]
     },
     "execution_count": 11,
     "metadata": {},
     "output_type": "execute_result"
    }
   ],
   "source": [
    "# ========== 5. HIỂN THỊ KẾT QUẢ CUỐI CÙNG ==========\n",
    "print(f'\\n{\"=\"*60}')\n",
    "print('FINAL SIMULATION RESULTS')\n",
    "print(f'{\"=\"*60}')\n",
    "print(f'Total cycles completed: {N}')\n",
    "print(f'Iterations per cycle: {n}')\n",
    "print(f'Molecules per iteration: {N_gas}')\n",
    "print(f'Total inhibitors adsorbed: {len(ads_inhibitor_molecules)}')\n",
    "print(f'Total precursors processed through all cycles: {len(ads_phase_molecules)}')\n",
    "\n",
    "# Gộp tất cả phân tử để hiển thị bằng nglview\n",
    "all_adsorbed_molecules = []\n",
    "all_adsorbed_molecules.extend(ads_inhibitor_molecules)  # Inhibitors từ chu kỳ 1\n",
    "all_adsorbed_molecules.extend(ads_phase_molecules)      # Precursors từ tất cả chu kỳ\n",
    "\n",
    "print(f'Total molecules for visualization: {len(all_adsorbed_molecules)}')\n",
    "\n",
    "# Tạo structure tổng hợp để hiển thị\n",
    "if len(all_adsorbed_molecules) > 0:\n",
    "    # Gộp tất cả symbols và positions\n",
    "    all_symbols = []\n",
    "    all_positions = []\n",
    "    \n",
    "    # Thêm slab\n",
    "    all_symbols.extend(slab.get_chemical_symbols())\n",
    "    all_positions.extend(slab.get_positions())\n",
    "    \n",
    "    # Thêm tất cả phân tử đã hấp phụ\n",
    "    for molecule in all_adsorbed_molecules:\n",
    "        all_symbols.extend(molecule.get_chemical_symbols())\n",
    "        all_positions.extend(molecule.get_positions())\n",
    "    \n",
    "    # Tạo structure cuối cùng\n",
    "    final_structure = Atoms(symbols=all_symbols, positions=all_positions)\n",
    "    print('✓ Final structure created successfully for visualization')\n",
    "    \n",
    "    # HIỂN THỊ KẾT QUẢ BẰNG NGLVIEW\n",
    "    print('\\n📊 VISUALIZATION')\n",
    "    print('Displaying final structure with nglview...')\n",
    "    view(final_structure, viewer='ngl')\n",
    "    '''\n",
    "    try:\n",
    "        view(final_structure, viewer='ngl')\n",
    "        print('✓ Structure displayed successfully')\n",
    "    except Exception as e:\n",
    "        print(f'✗ Error displaying structure: {e}')\n",
    "        print('You can manually visualize using: view(final_structure)')\n",
    "    '''\n",
    "        \n",
    "else:\n",
    "    print('⚠️  No molecules were adsorbed. Only slab will be available for visualization.')\n",
    "    final_structure = slab.copy()\n",
    "    view(final_structure, viewer='ngl')\n",
    "    '''\n",
    "    try:\n",
    "        view(final_structure, viewer='ngl')\n",
    "        print('✓ Slab-only structure displayed')\n",
    "    except Exception as e:\n",
    "        print(f'✗ Error displaying slab: {e}')\n",
    "    '''\n",
    "\n",
    "print('\\n🎉 SIMULATION COMPLETED SUCCESSFULLY!')\n",
    "print(f'Final structure variable: final_structure')\n",
    "print(f'Total atoms in final structure: {len(final_structure)}')\n",
    "\n",
    "# In thống kê chi tiết\n",
    "print(f'\\n📈 DETAILED STATISTICS:')\n",
    "for i in range(len(number_gas_inhibitors)):\n",
    "    cycle_num = i + 1\n",
    "    print(f'Cycle {cycle_num}:')\n",
    "    print(f'  - Gas inhibitors: {int(number_gas_inhibitors[i])}')\n",
    "    print(f'  - Adsorbed inhibitors: {int(number_ads_inhibitors[i])}')\n",
    "    print(f'  - Gas precursors: {int(number_gas_precursor[i])}')\n",
    "    print(f'  - Adsorbed precursors: {int(number_ads_precursor[i])}')\n",
    "\n",
    "\n",
    "view(final_structure, viewer='ngl')"
   ]
  },
  {
   "cell_type": "markdown",
   "id": "2af497bd",
   "metadata": {},
   "source": [
    "# Analyze Results and Drawing Plots"
   ]
  },
  {
   "cell_type": "code",
   "execution_count": 12,
   "id": "778c8430",
   "metadata": {},
   "outputs": [
    {
     "data": {
      "text/plain": [
       "'\\n# Tạo analyzer từ dữ liệu mô phỏng\\nanalyzer = create_analyzer_from_simulation_data(\\n    surface_area_nm2=your_surface_area,\\n    inhibitor_size_top_view_nm2=your_inhibitor_size,\\n    precursor_size_top_view_nm2=your_precursor_size,\\n    total_adsorption_sites=your_total_sites,\\n    number_gas_inhibitors=number_gas_inhibitors,\\n    number_ads_inhibitors=number_ads_inhibitors,\\n    number_gas_precursor=number_gas_precursor,\\n    number_ads_precursor=number_ads_precursor,\\n    z_offset=2.0,\\n    density=2.96,  # Al2O3 density\\n    molecular_mass=101.96  # Al2O3 molecular mass\\n)\\n\\n# Vẽ tất cả đồ thị\\nplots = plot_all_ald_analysis(analyzer)\\n\\n# In báo cáo chi tiết\\nreport = analyzer.generate_comprehensive_report()\\nprint(report)\\n\\n# Hiển thị các đồ thị\\nimport matplotlib.pyplot as plt\\nplt.show()\\n'"
      ]
     },
     "execution_count": 12,
     "metadata": {},
     "output_type": "execute_result"
    }
   ],
   "source": [
    "import numpy as np\n",
    "import matplotlib.pyplot as plt\n",
    "\n",
    "class ALDAnalyzer:\n",
    "    \"\"\"\n",
    "    Class để phân tích kết quả mô phỏng ALD và tính toán các thông số theo công thức.\n",
    "    \"\"\"\n",
    "    \n",
    "    def __init__(self, surface_area_nm2, inhibitor_size_top_view_nm2, precursor_size_top_view_nm2,\n",
    "                 total_adsorption_sites, z_offset=2.0, substrate_size_nm2=None, \n",
    "                 density=2.96, molecular_mass=101.96, avogadro=6.022e23):\n",
    "        \"\"\"\n",
    "        Khởi tạo analyzer với các thông số cơ bản.\n",
    "        \n",
    "        Parameters:\n",
    "        -----------\n",
    "        surface_area_nm2 : float\n",
    "            Diện tích bề mặt substrate (nm²)\n",
    "        inhibitor_size_top_view_nm2 : float  \n",
    "            Kích thước phân tử inhibitor nhìn từ trên (nm²)\n",
    "        precursor_size_top_view_nm2 : float  \n",
    "            Kích thước phân tử precursor nhìn từ trên (nm²)\n",
    "        total_adsorption_sites : int\n",
    "            Tổng số vị trí hấp phụ có thể\n",
    "        z_offset : float\n",
    "            Khoảng cách z giữa các layer (Å)\n",
    "        substrate_size_nm2 : float, optional\n",
    "            Kích thước substrate, mặc định bằng surface_area_nm2\n",
    "        density : float\n",
    "            Mật độ của Al2O3 ALD film (g/cm³), mặc định 2.96\n",
    "        molecular_mass : float\n",
    "            Khối lượng phân tử của Al2O3 (g/mol), mặc định 101.96\n",
    "        avogadro : float\n",
    "            Số Avogadro (mol⁻¹), mặc định 6.022e23\n",
    "        \"\"\"\n",
    "        self.surface_area_nm2 = surface_area_nm2\n",
    "        self.inhibitor_size_top_view_nm2 = inhibitor_size_top_view_nm2\n",
    "        self.precursor_size_top_view_nm2 = precursor_size_top_view_nm2\n",
    "        self.total_adsorption_sites = total_adsorption_sites\n",
    "        self.z_offset = z_offset\n",
    "        self.substrate_size_nm2 = substrate_size_nm2 or surface_area_nm2\n",
    "        \n",
    "        # Các hằng số cho tính toán thickness theo công thức 21, 22\n",
    "        self.density = density  # g/cm³\n",
    "        self.molecular_mass = molecular_mass  # g/mol\n",
    "        self.avogadro = avogadro  # mol⁻¹\n",
    "        \n",
    "        # Tính monolayer thickness theo công thức 21\n",
    "        self.monolayer_thickness_angstrom = ((molecular_mass / (density * avogadro))**(1/3)) * 1e8  # Å\n",
    "        \n",
    "        # Storage for simulation results\n",
    "        self.simulation_data = {}\n",
    "        \n",
    "    def add_simulation_data(self, cycle, inhibitors_gas, inhibitors_ads, \n",
    "                          precursors_gas, precursors_ads, exposure_time=1.0):\n",
    "        \"\"\"\n",
    "        Thêm dữ liệu mô phỏng cho một chu kỳ.\n",
    "        \"\"\"\n",
    "        self.simulation_data[cycle] = {\n",
    "            'inhibitors_gas': inhibitors_gas,\n",
    "            'inhibitors_ads': inhibitors_ads,\n",
    "            'precursors_gas': precursors_gas,\n",
    "            'precursors_ads': precursors_ads,\n",
    "            'exposure_time': exposure_time\n",
    "        }\n",
    "    \n",
    "    def calculate_areal_coverage_precursor(self, num_adsorbed_molecules):\n",
    "        \"\"\"\n",
    "        Tính toán areal coverage cho precursor theo công thức (15).\n",
    "        Areal Coverage (%) = (số phân tử × diện tích phân tử) / diện tích substrate × 100\n",
    "        \n",
    "        Lưu ý: Kết quả có thể > 100% nếu phân tử chồng lấp hoặc kích thước phân tử lớn\n",
    "        \"\"\"\n",
    "        coverage = (num_adsorbed_molecules * self.precursor_size_top_view_nm2) / self.substrate_size_nm2 * 100\n",
    "        return coverage\n",
    "    \n",
    "    def calculate_areal_coverage_inhibitor(self, num_adsorbed_molecules):\n",
    "        \"\"\"\n",
    "        Tính toán areal coverage cho inhibitor.\n",
    "        Areal Coverage (%) = (số phân tử × diện tích phân tử) / diện tích substrate × 100\n",
    "        \n",
    "        Lưu ý: Kết quả có thể > 100% nếu phân tử chồng lấp hoặc kích thước phan tử lớn\n",
    "        \"\"\"\n",
    "        coverage = (num_adsorbed_molecules * self.inhibitor_size_top_view_nm2) / self.substrate_size_nm2 * 100\n",
    "        return coverage\n",
    "    \n",
    "    def calculate_point_coverage(self, num_adsorbed_molecules):\n",
    "        \"\"\"Tính toán point coverage theo công thức (16).\"\"\"\n",
    "        coverage = (num_adsorbed_molecules / self.total_adsorption_sites) * 100\n",
    "        return coverage\n",
    "    \n",
    "    def calculate_physical_impingement_per_unit_area(self, num_physical_impingement):\n",
    "        \"\"\"Tính toán physical impingement per unit area theo công thức (17).\"\"\"\n",
    "        return num_physical_impingement / self.substrate_size_nm2\n",
    "    \n",
    "    def calculate_gpc_and_thickness(self, coverage_per_cycle_percent):\n",
    "        \"\"\"\n",
    "        Tính toán GPC và thickness dựa trên công thức (21) và (22).\n",
    "        \n",
    "        Công thức (21): h = (M/(ρ×NA))^(1/3) - monolayer thickness\n",
    "        Công thức (22): coverage (%/cycle) = (GPC/h) × 100\n",
    "        => GPC = coverage (%/cycle) × h / 100\n",
    "        \n",
    "        Parameters:\n",
    "        -----------\n",
    "        coverage_per_cycle_percent : float\n",
    "            % coverage thực tế cho mỗi chu kỳ (từ point coverage hoặc surface coverage)\n",
    "            \n",
    "        Returns:\n",
    "        --------\n",
    "        dict : {\n",
    "            'gpc_angstrom': float,        # GPC in Å\n",
    "            'gpc_nm': float,              # GPC in nm\n",
    "            'monolayer_thickness': float  # h in Å\n",
    "        }\n",
    "        \"\"\"\n",
    "        # GPC tính từ công thức (22): GPC = coverage (%) × h / 100\n",
    "        gpc_angstrom = (coverage_per_cycle_percent / 100.0) * self.monolayer_thickness_angstrom\n",
    "        gpc_nm = gpc_angstrom / 10.0  # 1 nm = 10 Å\n",
    "        \n",
    "        return {\n",
    "            'gpc_angstrom': gpc_angstrom,\n",
    "            'gpc_nm': gpc_nm,\n",
    "            'monolayer_thickness': self.monolayer_thickness_angstrom\n",
    "        }\n",
    "    \n",
    "    def calculate_selectivity(self, growth_area_coverage):\n",
    "        \"\"\"\n",
    "        Tính toán selectivity theo công thức (20).\n",
    "        \n",
    "        Selectivity = (Growth_area - NonGrowth_area) / (Growth_area + NonGrowth_area) × 100\n",
    "        \n",
    "        Trong mô phỏng ALD:\n",
    "        - Growth_area = vùng có precursor hấp phụ (growth_area_coverage)\n",
    "        - NonGrowth_area = vùng còn lại = 100% - Growth_area (bao gồm inhibitor + free surface)\n",
    "        \n",
    "        Parameters:\n",
    "        -----------\n",
    "        growth_area_coverage : float\n",
    "            % diện tích được precursor bao phủ (Growth area)\n",
    "            \n",
    "        Returns:\n",
    "        --------\n",
    "        float : selectivity (%)\n",
    "            > 0: tăng trưởng chọn lọc tốt (Growth > NonGrowth)\n",
    "            < 0: tăng trưởng chọn lọc kém (Growth < NonGrowth)\n",
    "            = 0: cân bằng (Growth = NonGrowth = 50%)\n",
    "        \"\"\"\n",
    "        growth_area = growth_area_coverage\n",
    "        nongrowth_area = 100.0 - growth_area_coverage\n",
    "        \n",
    "        total_area = growth_area + nongrowth_area  # Luôn = 100%\n",
    "        if total_area == 0:\n",
    "            return 0.0\n",
    "        \n",
    "        selectivity = (growth_area - nongrowth_area) / total_area * 100\n",
    "        return selectivity\n",
    "    \n",
    "    def get_cycle1_coverage_data(self):\n",
    "        \"\"\"Lấy dữ liệu coverage chi tiết cho cycle 1.\"\"\"\n",
    "        if 1 not in self.simulation_data:\n",
    "            return {\n",
    "                'inhibitor_coverage': 0, \n",
    "                'precursor_coverage': 0, \n",
    "                'free_surface': 100,\n",
    "                'total_coverage': 0,\n",
    "                'overlap_indicator': 0\n",
    "            }\n",
    "        \n",
    "        data = self.simulation_data[1]\n",
    "        inhibitor_coverage = self.calculate_areal_coverage_inhibitor(data['inhibitors_ads'])\n",
    "        precursor_coverage = self.calculate_areal_coverage_precursor(data['precursors_ads'])\n",
    "        \n",
    "        # Tổng coverage - có thể > 100% nếu overlap\n",
    "        total_coverage = inhibitor_coverage + precursor_coverage\n",
    "        free_surface = 100.0 - total_coverage\n",
    "        \n",
    "        # Overlap indicator: nếu total > 100%, có overlap\n",
    "        overlap_indicator = total_coverage - 100.0 if total_coverage > 100.0 else 0\n",
    "        \n",
    "        return {\n",
    "            'inhibitor_coverage': inhibitor_coverage,\n",
    "            'precursor_coverage': precursor_coverage,\n",
    "            'free_surface': free_surface,\n",
    "            'total_coverage': total_coverage,\n",
    "            'overlap_indicator': overlap_indicator,\n",
    "            'inhibitor_molecules': data['inhibitors_ads'],\n",
    "            'precursor_molecules': data['precursors_ads']\n",
    "        }\n",
    "    \n",
    "    def calculate_growth_nongrowth_coverage(self):\n",
    "        \"\"\"\n",
    "        Tính toán growth_area_coverage và nongrowth_area_coverage dựa trên dữ liệu thực.\n",
    "        \n",
    "        Logic:\n",
    "        - Total substrate area = 100%\n",
    "        - Inhibitor area = diện tích bị inhibitor chiếm (chỉ cycle 1)\n",
    "        - Precursor area = diện tích bị precursor chiếm\n",
    "        - Free area = diện tích còn lại tự do\n",
    "        \n",
    "        For selectivity calculation:\n",
    "        - Growth area = Precursor area (vùng tăng trưởng thành công)\n",
    "        - NonGrowth area = Free area (vùng không tăng trưởng)\n",
    "        \n",
    "        Returns:\n",
    "        --------\n",
    "        tuple : (growth_coverage_data, nongrowth_coverage_data)\n",
    "        \"\"\"\n",
    "        cycles = sorted(self.simulation_data.keys())\n",
    "        growth_coverage_data = []\n",
    "        nongrowth_coverage_data = []\n",
    "        \n",
    "        for cycle in cycles:\n",
    "            data = self.simulation_data[cycle]\n",
    "            \n",
    "            # Precursor coverage (growth area)\n",
    "            precursor_coverage = self.calculate_areal_coverage_precursor(data['precursors_ads'])\n",
    "            free_surface = 100.0 - precursor_coverage\n",
    "            \n",
    "            growth_coverage_data.append(precursor_coverage)\n",
    "            nongrowth_coverage_data.append(free_surface)\n",
    "        \n",
    "        return growth_coverage_data, nongrowth_coverage_data\n",
    "    \n",
    "    def analyze_precursor_cycles(self):\n",
    "        \"\"\"Phân tích các chu kỳ cho precursor với các công thức chính xác.\"\"\"\n",
    "        cycles = sorted(self.simulation_data.keys())\n",
    "        \n",
    "        results = {\n",
    "            'cycles': cycles,\n",
    "            'surface_coverage': [],\n",
    "            'point_coverage': [],\n",
    "            'cumulative_surface_coverage': [],\n",
    "            'cumulative_point_coverage': [],\n",
    "            'physical_impingement': [],\n",
    "            'total_adsorbed': [],\n",
    "            'thickness': [],\n",
    "            'gpc': [],\n",
    "            'coverage_per_cycle': [],\n",
    "            'selectivity': []  # Thêm selectivity vào results\n",
    "        }\n",
    "        \n",
    "        cumulative_precursors = 0\n",
    "        \n",
    "        for cycle in cycles:\n",
    "            data = self.simulation_data[cycle]\n",
    "            precursors_ads = data['precursors_ads']\n",
    "            precursors_gas = data['precursors_gas']\n",
    "            cumulative_precursors += precursors_ads\n",
    "            \n",
    "            # Point coverage - dựa trên số lượng sites, luôn ≤ 100%\n",
    "            per_cycle_point_coverage = self.calculate_point_coverage(precursors_ads)\n",
    "            cumulative_point_coverage = self.calculate_point_coverage(cumulative_precursors)\n",
    "            \n",
    "            # Surface coverage dựa trên point coverage (thay vì areal coverage)\n",
    "            per_cycle_surface_coverage = per_cycle_point_coverage\n",
    "            cumulative_surface_coverage = cumulative_point_coverage\n",
    "            \n",
    "            # Tính selectivity dựa trên cumulative point coverage\n",
    "            selectivity = self.calculate_selectivity(cumulative_point_coverage)\n",
    "            \n",
    "            results['surface_coverage'].append(per_cycle_surface_coverage)\n",
    "            results['cumulative_surface_coverage'].append(cumulative_surface_coverage)\n",
    "            results['point_coverage'].append(per_cycle_point_coverage)\n",
    "            results['cumulative_point_coverage'].append(cumulative_point_coverage)\n",
    "            results['selectivity'].append(selectivity)  # Lưu selectivity\n",
    "            \n",
    "            # Physical impingement\n",
    "            physical_impingement = self.calculate_physical_impingement_per_unit_area(precursors_gas)\n",
    "            results['physical_impingement'].append(physical_impingement)\n",
    "            \n",
    "            # GPC calculation - sử dụng point coverage (chính xác hơn cho ALD)\n",
    "            gpc_data = self.calculate_gpc_and_thickness(cumulative_point_coverage)\n",
    "            \n",
    "            # Thickness = cycle × GPC\n",
    "            thickness_angstrom = cycle * gpc_data['gpc_angstrom']\n",
    "            thickness_nm = thickness_angstrom / 10.0\n",
    "            \n",
    "            # Lưu kết quả\n",
    "            results['total_adsorbed'].append(cumulative_precursors)\n",
    "            results['thickness'].append(thickness_nm)\n",
    "            results['gpc'].append(gpc_data['gpc_angstrom'])\n",
    "            results['coverage_per_cycle'].append(cumulative_point_coverage)\n",
    "        \n",
    "        return results\n",
    "    \n",
    "    def plot_cycle1_coverage_bar(self, figsize=(12, 5)):\n",
    "        \"\"\"Đồ thị cột: % bao phủ của inhibitor và precursor ở cycle 1 (không hiển thị giá trị).\"\"\"\n",
    "        coverage_data = self.get_cycle1_coverage_data()\n",
    "        \n",
    "        fig, (ax1, ax2) = plt.subplots(1, 2, figsize=figsize)\n",
    "        fig.suptitle('Cycle 1 Surface Coverage Analysis', fontsize=16, fontweight='bold')\n",
    "        \n",
    "        # Biểu đồ cột coverage theo %\n",
    "        categories = ['Inhibitor', 'Precursor', 'Free Surface']\n",
    "        coverages = [coverage_data['inhibitor_coverage'], \n",
    "                    coverage_data['precursor_coverage'],\n",
    "                    coverage_data['free_surface']]\n",
    "        colors = ['#FF6B6B', '#4DABF7', '#51CF66']\n",
    "        \n",
    "        bars1 = ax1.bar(categories, coverages, color=colors, alpha=0.8, edgecolor='black')\n",
    "        ax1.set_title('Surface Area Coverage (%)', fontweight='bold')\n",
    "        ax1.set_ylabel('Coverage (%)')\n",
    "        ax1.set_ylim(0, 100)\n",
    "        ax1.grid(True, alpha=0.3, axis='y')\n",
    "        \n",
    "        # Biểu đồ số lượng phân tử\n",
    "        molecules = [coverage_data['inhibitor_molecules'], coverage_data['precursor_molecules']]\n",
    "        molecule_categories = ['Inhibitor', 'Precursor']\n",
    "        \n",
    "        bars2 = ax2.bar(molecule_categories, molecules, color=colors[:2], alpha=0.8, edgecolor='black')\n",
    "        ax2.set_title('Number of Adsorbed Molecules', fontweight='bold')\n",
    "        ax2.set_ylabel('Number of Molecules')\n",
    "        ax2.grid(True, alpha=0.3, axis='y')\n",
    "        \n",
    "        plt.tight_layout()\n",
    "        return fig, (ax1, ax2)\n",
    "    \n",
    "    def plot_surface_coverage_vs_cycle(self, results=None, figsize=(10, 6)):\n",
    "        \"\"\"Đồ thị tương quan giữa surface coverage - cycle của precursor (chỉ cumulative, không hiển thị giá trị).\"\"\"\n",
    "        if results is None:\n",
    "            results = self.analyze_precursor_cycles()\n",
    "        \n",
    "        fig, ax = plt.subplots(1, 1, figsize=figsize)\n",
    "        \n",
    "        cycles = results['cycles']\n",
    "        \n",
    "        # Chỉ vẽ cumulative\n",
    "        ax.plot(cycles, results['cumulative_surface_coverage'], 's-', \n",
    "               label='Cumulative', linewidth=3, markersize=10, color='#1971C2')\n",
    "        \n",
    "        ax.set_title('Precursor Surface Coverage vs Cycle', fontsize=14, fontweight='bold')\n",
    "        ax.set_xlabel('Cycle', fontsize=12)\n",
    "        ax.set_ylabel('Surface Coverage (%)', fontsize=12)\n",
    "        ax.legend(fontsize=11)\n",
    "        ax.grid(True, alpha=0.3)\n",
    "        \n",
    "        plt.tight_layout()\n",
    "        return fig, ax\n",
    "    \n",
    "    def plot_point_coverage_vs_cycle(self, results=None, figsize=(10, 6)):\n",
    "        \"\"\"Đồ thị tương quan giữa point coverage - cycle của precursor (chỉ cumulative, không hiển thị giá trị).\"\"\"\n",
    "        if results is None:\n",
    "            results = self.analyze_precursor_cycles()\n",
    "        \n",
    "        fig, ax = plt.subplots(1, 1, figsize=figsize)\n",
    "        \n",
    "        cycles = results['cycles']\n",
    "        \n",
    "        # Chỉ vẽ cumulative\n",
    "        ax.plot(cycles, results['cumulative_point_coverage'], 's-', \n",
    "               label='Cumulative', linewidth=3, markersize=10, color='#2F9E44')\n",
    "        \n",
    "        ax.set_title('Precursor Point Coverage vs Cycle', fontsize=14, fontweight='bold')\n",
    "        ax.set_xlabel('Cycle', fontsize=12)\n",
    "        ax.set_ylabel('Point Coverage (%)', fontsize=12)\n",
    "        ax.legend(fontsize=11)\n",
    "        ax.grid(True, alpha=0.3)\n",
    "        \n",
    "        plt.tight_layout()\n",
    "        return fig, ax\n",
    "    \n",
    "    def plot_coverage_vs_impingement(self, results=None, figsize=(10, 6)):\n",
    "        \"\"\"Đồ thị tương quan giữa point coverage - physical impingement của precursor (không hiển thị giá trị).\"\"\"\n",
    "        if results is None:\n",
    "            results = self.analyze_precursor_cycles()\n",
    "        \n",
    "        fig, ax = plt.subplots(1, 1, figsize=figsize)\n",
    "        \n",
    "        # Chỉ dữ liệu cho precursor\n",
    "        precursor_point_coverage = results['point_coverage']\n",
    "        precursor_impingement = results['physical_impingement']\n",
    "        \n",
    "        # Vẽ đồ thị scatter\n",
    "        ax.scatter(precursor_impingement, precursor_point_coverage, \n",
    "                  s=100, alpha=0.8, color='#4DABF7', label='Precursor', edgecolors='black')\n",
    "        \n",
    "        # Vẽ đường trend cho precursor nếu có nhiều điểm\n",
    "        if len(precursor_impingement) > 1:\n",
    "            z = np.polyfit(precursor_impingement, precursor_point_coverage, 1)\n",
    "            p = np.poly1d(z)\n",
    "            ax.plot(precursor_impingement, p(precursor_impingement), \"--\", alpha=0.8, color='#1971C2')\n",
    "        \n",
    "        ax.set_title('Point Coverage vs Physical Impingement', fontsize=14, fontweight='bold')\n",
    "        ax.set_xlabel('Physical Impingement (#/nm²)', fontsize=12)\n",
    "        ax.set_ylabel('Point Coverage (%)', fontsize=12)\n",
    "        ax.legend(fontsize=11)\n",
    "        ax.grid(True, alpha=0.3)\n",
    "        \n",
    "        plt.tight_layout()\n",
    "        return fig, ax\n",
    "    \n",
    "    def plot_thickness_vs_cycle(self, results=None, figsize=(10, 6)):\n",
    "        \"\"\"Đồ thị thickness vs cycle (không hiển thị giá trị).\"\"\"\n",
    "        if results is None:\n",
    "            results = self.analyze_precursor_cycles()\n",
    "        \n",
    "        cycles = results['cycles']\n",
    "        thickness = results['thickness']\n",
    "        \n",
    "        fig, ax = plt.subplots(1, 1, figsize=figsize)\n",
    "        \n",
    "        # Vẽ thickness\n",
    "        ax.plot(cycles, thickness, 'o-', color='#1f77b4', linewidth=3, markersize=10, label='Thickness')\n",
    "        ax.set_xlabel('Cycle', fontsize=12)\n",
    "        ax.set_ylabel('Thickness (nm)', fontsize=12)\n",
    "        ax.grid(True, alpha=0.3)\n",
    "        \n",
    "        ax.set_title('Film Thickness vs Cycle', fontsize=14, fontweight='bold')\n",
    "        ax.legend(loc='upper left')\n",
    "        \n",
    "        plt.tight_layout()\n",
    "        return fig, ax\n",
    "\n",
    "    def plot_selectivity_vs_cycle(self, results=None, figsize=(10, 6)):\n",
    "        \"\"\"\n",
    "        Đồ thị selectivity vs cycle (không hiển thị giá trị).\n",
    "        \n",
    "        Selectivity được tính theo công thức (20):\n",
    "        Selectivity = (Growth_area - NonGrowth_area) / (Growth_area + NonGrowth_area) × 100\n",
    "        \n",
    "        Parameters:\n",
    "        -----------\n",
    "        results : dict, optional\n",
    "            Kết quả từ analyze_precursor_cycles(). Nếu None sẽ tính toán lại.\n",
    "        figsize : tuple\n",
    "            Kích thước figure (width, height)\n",
    "            \n",
    "        Returns:\n",
    "        --------\n",
    "        tuple : (fig, ax)\n",
    "            Figure và axes object của matplotlib\n",
    "        \"\"\"\n",
    "        if results is None:\n",
    "            results = self.analyze_precursor_cycles()\n",
    "        \n",
    "        cycles = results['cycles']\n",
    "        selectivity = results['selectivity']\n",
    "        \n",
    "        fig, ax = plt.subplots(1, 1, figsize=figsize)\n",
    "        \n",
    "        # Vẽ selectivity với màu sắc phù hợp\n",
    "        # Sử dụng màu xanh lá cho selectivity dương (tốt), màu đỏ cho âm (kém)\n",
    "        colors = ['#2F9E44' if s >= 0 else '#E03131' for s in selectivity]\n",
    "        \n",
    "        # Vẽ đường và điểm\n",
    "        ax.plot(cycles, selectivity, '-', color='#495057', linewidth=2, alpha=0.7)\n",
    "        ax.scatter(cycles, selectivity, c=colors, s=100, alpha=0.8, edgecolors='black', linewidth=1)\n",
    "        \n",
    "        # Thêm đường tham chiếu tại y=0\n",
    "        ax.axhline(y=0, color='gray', linestyle='--', alpha=0.5, linewidth=1)\n",
    "        \n",
    "        ax.set_title('ALD Selectivity vs Cycle', fontsize=14, fontweight='bold')\n",
    "        ax.set_xlabel('Cycle', fontsize=12)\n",
    "        ax.set_ylabel('Selectivity (%)', fontsize=12)\n",
    "        ax.grid(True, alpha=0.3)\n",
    "        \n",
    "        # Thêm legend giải thích\n",
    "        from matplotlib.patches import Patch\n",
    "        legend_elements = [\n",
    "            Patch(facecolor='#2F9E44', alpha=0.8, label='Positive (Good selectivity)'),\n",
    "            Patch(facecolor='#E03131', alpha=0.8, label='Negative (Poor selectivity)')\n",
    "        ]\n",
    "        ax.legend(handles=legend_elements, loc='best', fontsize=10)\n",
    "        \n",
    "        # Thiết lập giới hạn y để hiển thị tốt hơn\n",
    "        y_margin = max(abs(min(selectivity)), abs(max(selectivity))) * 0.1\n",
    "        ax.set_ylim(min(selectivity) - y_margin, max(selectivity) + y_margin)\n",
    "        \n",
    "        plt.tight_layout()\n",
    "        return fig, ax\n",
    "    \n",
    "    def generate_comprehensive_report(self, precursor_results=None):\n",
    "        \"\"\"Tạo báo cáo tổng hợp chi tiết với tính toán tự động.\"\"\"\n",
    "        if precursor_results is None:\n",
    "            precursor_results = self.analyze_precursor_cycles()\n",
    "        \n",
    "        # Tính toán tự động growth và nongrowth coverage\n",
    "        growth_coverage_data, nongrowth_coverage_data = self.calculate_growth_nongrowth_coverage()\n",
    "        \n",
    "        cycle1_data = self.get_cycle1_coverage_data()\n",
    "        \n",
    "        report = []\n",
    "        report.append(\"=\"*70)\n",
    "        report.append(\"ALD SIMULATION COMPREHENSIVE ANALYSIS REPORT\")\n",
    "        report.append(\"=\"*70)\n",
    "        report.append(f\"Surface area: {self.surface_area_nm2:.4f} nm²\")\n",
    "        report.append(f\"Inhibitor size (top view): {self.inhibitor_size_top_view_nm2:.6f} nm²\")\n",
    "        report.append(f\"Precursor size (top view): {self.precursor_size_top_view_nm2:.6f} nm²\")\n",
    "        report.append(f\"Total adsorption sites: {self.total_adsorption_sites}\")\n",
    "        report.append(f\"Z-offset between layers: {self.z_offset:.1f} Å\")\n",
    "        report.append(f\"Al2O3 density: {self.density:.2f} g/cm³\")\n",
    "        report.append(f\"Al2O3 molecular mass: {self.molecular_mass:.2f} g/mol\")\n",
    "        report.append(f\"Monolayer thickness (h): {self.monolayer_thickness_angstrom:.2f} Å\")\n",
    "        report.append(\"\")\n",
    "        \n",
    "        # Cycle 1 Coverage Analysis\n",
    "        report.append(\"CYCLE 1 SURFACE COVERAGE:\")\n",
    "        report.append(\"-\" * 30)\n",
    "        report.append(f\"  Inhibitor coverage: {cycle1_data['inhibitor_coverage']:.2f}% ({cycle1_data['inhibitor_molecules']} molecules)\")\n",
    "        report.append(f\"  Precursor coverage: {cycle1_data['precursor_coverage']:.2f}% ({cycle1_data['precursor_molecules']} molecules)\")\n",
    "        report.append(f\"  Free surface: {cycle1_data['free_surface']:.2f}%\")\n",
    "        report.append(\"\")\n",
    "        \n",
    "        # Precursor Analysis by Cycle\n",
    "        report.append(\"PRECURSOR ANALYSIS BY CYCLE:\")\n",
    "        report.append(\"-\" * 40)\n",
    "        for i, cycle in enumerate(precursor_results['cycles']):\n",
    "            report.append(f\"CYCLE {cycle}:\")\n",
    "            report.append(f\"  Surface coverage (cumulative): {precursor_results['cumulative_surface_coverage'][i]:.2f}%\")\n",
    "            report.append(f\"  Point coverage (cumulative): {precursor_results['cumulative_point_coverage'][i]:.2f}%\")\n",
    "            report.append(f\"  Physical impingement: {precursor_results['physical_impingement'][i]:.2f} #/nm²\")\n",
    "            report.append(f\"  GPC: {precursor_results['gpc'][i]:.3f} Å\")\n",
    "            report.append(f\"  Coverage per cycle: {precursor_results['coverage_per_cycle'][i]:.2f}%\")\n",
    "            report.append(f\"  Film thickness: {precursor_results['thickness'][i]:.3f} nm\")\n",
    "            report.append(f\"  Total adsorbed precursors: {precursor_results['total_adsorbed'][i]}\")\n",
    "            report.append(\"\")\n",
    "        \n",
    "        return \"\\n\".join(report)\n",
    "\n",
    "\n",
    "def create_analyzer_from_simulation_data(surface_area_nm2, inhibitor_size_top_view_nm2, \n",
    "                                       precursor_size_top_view_nm2, total_adsorption_sites,\n",
    "                                       number_gas_inhibitors, number_ads_inhibitors, \n",
    "                                       number_gas_precursor, number_ads_precursor, z_offset=2.0,\n",
    "                                       density=2.96, molecular_mass=101.96):\n",
    "    \"\"\"\n",
    "    Tạo ALDAnalyzer từ dữ liệu mô phỏng có sẵn.\n",
    "    \"\"\"\n",
    "    analyzer = ALDAnalyzer(surface_area_nm2, inhibitor_size_top_view_nm2, \n",
    "                          precursor_size_top_view_nm2, total_adsorption_sites, z_offset,\n",
    "                          density=density, molecular_mass=molecular_mass)\n",
    "    \n",
    "    # Thêm dữ liệu cho từng chu kỳ\n",
    "    n_cycles = len(number_gas_precursor)\n",
    "    \n",
    "    for cycle in range(1, n_cycles + 1):\n",
    "        analyzer.add_simulation_data(\n",
    "            cycle=cycle,\n",
    "            inhibitors_gas=int(number_gas_inhibitors[cycle-1]),\n",
    "            inhibitors_ads=int(number_ads_inhibitors[cycle-1]),\n",
    "            precursors_gas=int(number_gas_precursor[cycle-1]),\n",
    "            precursors_ads=int(number_ads_precursor[cycle-1])\n",
    "        )\n",
    "    \n",
    "    return analyzer\n",
    "\n",
    "\n",
    "def plot_all_ald_analysis(analyzer):\n",
    "    \"\"\"\n",
    "    Vẽ tất cả các đồ thị phân tích ALD theo yêu cầu đã cập nhật (không hiển thị giá trị trên các điểm).\n",
    "    \n",
    "    Parameters:\n",
    "    -----------\n",
    "    analyzer : ALDAnalyzer\n",
    "        Đối tượng analyzer đã được setup với dữ liệu\n",
    "    \"\"\"\n",
    "    # Phân tích dữ liệu precursor\n",
    "    precursor_results = analyzer.analyze_precursor_cycles()\n",
    "    \n",
    "    # 1. Đồ thị cột coverage cycle 1\n",
    "    fig1, axes1 = analyzer.plot_cycle1_coverage_bar()\n",
    "    \n",
    "    # 2. Surface coverage vs cycle (chỉ cumulative)\n",
    "    fig2, ax2 = analyzer.plot_surface_coverage_vs_cycle(precursor_results)\n",
    "    \n",
    "    # 3. Point coverage vs cycle (chỉ cumulative)\n",
    "    fig3, ax3 = analyzer.plot_point_coverage_vs_cycle(precursor_results)\n",
    "    \n",
    "    # 4. Thickness vs cycle\n",
    "    fig4, ax4 = analyzer.plot_thickness_vs_cycle(precursor_results)\n",
    "\n",
    "    # 5. Selectivity vs cycle\n",
    "    fig5, ax5 = analyzer.plot_selectivity_vs_cycle(precursor_results)\n",
    "    \n",
    "    return {\n",
    "        'coverage_bar': (fig1, axes1),\n",
    "        'surface_coverage': (fig2, ax2),\n",
    "        'point_coverage': (fig3, ax3),\n",
    "        'thickness': (fig4, ax4),\n",
    "        'selectivity': (fig5, ax5)\n",
    "    }\n",
    "\n",
    "\n",
    "# Ví dụ sử dụng:\n",
    "\"\"\"\n",
    "# Tạo analyzer từ dữ liệu mô phỏng\n",
    "analyzer = create_analyzer_from_simulation_data(\n",
    "    surface_area_nm2=your_surface_area,\n",
    "    inhibitor_size_top_view_nm2=your_inhibitor_size,\n",
    "    precursor_size_top_view_nm2=your_precursor_size,\n",
    "    total_adsorption_sites=your_total_sites,\n",
    "    number_gas_inhibitors=number_gas_inhibitors,\n",
    "    number_ads_inhibitors=number_ads_inhibitors,\n",
    "    number_gas_precursor=number_gas_precursor,\n",
    "    number_ads_precursor=number_ads_precursor,\n",
    "    z_offset=2.0,\n",
    "    density=2.96,  # Al2O3 density\n",
    "    molecular_mass=101.96  # Al2O3 molecular mass\n",
    ")\n",
    "\n",
    "# Vẽ tất cả đồ thị\n",
    "plots = plot_all_ald_analysis(analyzer)\n",
    "\n",
    "# In báo cáo chi tiết\n",
    "report = analyzer.generate_comprehensive_report()\n",
    "print(report)\n",
    "\n",
    "# Hiển thị các đồ thị\n",
    "import matplotlib.pyplot as plt\n",
    "plt.show()\n",
    "\"\"\""
   ]
  },
  {
   "cell_type": "code",
   "execution_count": 13,
   "id": "8404a7bc",
   "metadata": {},
   "outputs": [
    {
     "name": "stdout",
     "output_type": "stream",
     "text": [
      "======================================================================\n",
      "ALD SIMULATION COMPREHENSIVE ANALYSIS REPORT\n",
      "======================================================================\n",
      "Surface area: 96.4138 nm²\n",
      "Inhibitor size (top view): 0.180265 nm²\n",
      "Precursor size (top view): 0.319546 nm²\n",
      "Total adsorption sites: 722\n",
      "Z-offset between layers: 2.0 Å\n",
      "Al2O3 density: 6.95 g/cm³\n",
      "Al2O3 molecular mass: 150.71 g/mol\n",
      "Monolayer thickness (h): 3.30 Å\n",
      "\n",
      "CYCLE 1 SURFACE COVERAGE:\n",
      "------------------------------\n",
      "  Inhibitor coverage: 50.30% (269 molecules)\n",
      "  Precursor coverage: 39.77% (120 molecules)\n",
      "  Free surface: 9.93%\n",
      "\n",
      "PRECURSOR ANALYSIS BY CYCLE:\n",
      "----------------------------------------\n",
      "CYCLE 1:\n",
      "  Surface coverage (cumulative): 16.62%\n",
      "  Point coverage (cumulative): 16.62%\n",
      "  Physical impingement: 8.32 #/nm²\n",
      "  GPC: 0.549 Å\n",
      "  Coverage per cycle: 16.62%\n",
      "  Film thickness: 0.055 nm\n",
      "  Total adsorbed precursors: 120\n",
      "\n",
      "CYCLE 2:\n",
      "  Surface coverage (cumulative): 32.55%\n",
      "  Point coverage (cumulative): 32.55%\n",
      "  Physical impingement: 8.49 #/nm²\n",
      "  GPC: 1.075 Å\n",
      "  Coverage per cycle: 32.55%\n",
      "  Film thickness: 0.215 nm\n",
      "  Total adsorbed precursors: 235\n",
      "\n",
      "CYCLE 3:\n",
      "  Surface coverage (cumulative): 47.92%\n",
      "  Point coverage (cumulative): 47.92%\n",
      "  Physical impingement: 8.41 #/nm²\n",
      "  GPC: 1.583 Å\n",
      "  Coverage per cycle: 47.92%\n",
      "  Film thickness: 0.475 nm\n",
      "  Total adsorbed precursors: 346\n",
      "\n",
      "CYCLE 4:\n",
      "  Surface coverage (cumulative): 50.97%\n",
      "  Point coverage (cumulative): 50.97%\n",
      "  Physical impingement: 8.56 #/nm²\n",
      "  GPC: 1.683 Å\n",
      "  Coverage per cycle: 50.97%\n",
      "  Film thickness: 0.673 nm\n",
      "  Total adsorbed precursors: 368\n",
      "\n",
      "CYCLE 5:\n",
      "  Surface coverage (cumulative): 51.39%\n",
      "  Point coverage (cumulative): 51.39%\n",
      "  Physical impingement: 8.63 #/nm²\n",
      "  GPC: 1.697 Å\n",
      "  Coverage per cycle: 51.39%\n",
      "  Film thickness: 0.848 nm\n",
      "  Total adsorbed precursors: 371\n",
      "\n",
      "CYCLE 6:\n",
      "  Surface coverage (cumulative): 51.39%\n",
      "  Point coverage (cumulative): 51.39%\n",
      "  Physical impingement: 8.39 #/nm²\n",
      "  GPC: 1.697 Å\n",
      "  Coverage per cycle: 51.39%\n",
      "  Film thickness: 1.018 nm\n",
      "  Total adsorbed precursors: 371\n",
      "\n",
      "CYCLE 7:\n",
      "  Surface coverage (cumulative): 51.80%\n",
      "  Point coverage (cumulative): 51.80%\n",
      "  Physical impingement: 8.58 #/nm²\n",
      "  GPC: 1.711 Å\n",
      "  Coverage per cycle: 51.80%\n",
      "  Film thickness: 1.197 nm\n",
      "  Total adsorbed precursors: 374\n",
      "\n",
      "CYCLE 8:\n",
      "  Surface coverage (cumulative): 51.94%\n",
      "  Point coverage (cumulative): 51.94%\n",
      "  Physical impingement: 8.51 #/nm²\n",
      "  GPC: 1.715 Å\n",
      "  Coverage per cycle: 51.94%\n",
      "  Film thickness: 1.372 nm\n",
      "  Total adsorbed precursors: 375\n",
      "\n",
      "CYCLE 9:\n",
      "  Surface coverage (cumulative): 51.94%\n",
      "  Point coverage (cumulative): 51.94%\n",
      "  Physical impingement: 8.54 #/nm²\n",
      "  GPC: 1.715 Å\n",
      "  Coverage per cycle: 51.94%\n",
      "  Film thickness: 1.544 nm\n",
      "  Total adsorbed precursors: 375\n",
      "\n",
      "CYCLE 10:\n",
      "  Surface coverage (cumulative): 51.94%\n",
      "  Point coverage (cumulative): 51.94%\n",
      "  Physical impingement: 8.52 #/nm²\n",
      "  GPC: 1.715 Å\n",
      "  Coverage per cycle: 51.94%\n",
      "  Film thickness: 1.715 nm\n",
      "  Total adsorbed precursors: 375\n",
      "\n",
      "CYCLE 11:\n",
      "  Surface coverage (cumulative): 51.94%\n",
      "  Point coverage (cumulative): 51.94%\n",
      "  Physical impingement: 8.42 #/nm²\n",
      "  GPC: 1.715 Å\n",
      "  Coverage per cycle: 51.94%\n",
      "  Film thickness: 1.887 nm\n",
      "  Total adsorbed precursors: 375\n",
      "\n",
      "CYCLE 12:\n",
      "  Surface coverage (cumulative): 51.94%\n",
      "  Point coverage (cumulative): 51.94%\n",
      "  Physical impingement: 8.53 #/nm²\n",
      "  GPC: 1.715 Å\n",
      "  Coverage per cycle: 51.94%\n",
      "  Film thickness: 2.058 nm\n",
      "  Total adsorbed precursors: 375\n",
      "\n",
      "CYCLE 13:\n",
      "  Surface coverage (cumulative): 51.94%\n",
      "  Point coverage (cumulative): 51.94%\n",
      "  Physical impingement: 8.33 #/nm²\n",
      "  GPC: 1.715 Å\n",
      "  Coverage per cycle: 51.94%\n",
      "  Film thickness: 2.230 nm\n",
      "  Total adsorbed precursors: 375\n",
      "\n",
      "CYCLE 14:\n",
      "  Surface coverage (cumulative): 51.94%\n",
      "  Point coverage (cumulative): 51.94%\n",
      "  Physical impingement: 8.53 #/nm²\n",
      "  GPC: 1.715 Å\n",
      "  Coverage per cycle: 51.94%\n",
      "  Film thickness: 2.401 nm\n",
      "  Total adsorbed precursors: 375\n",
      "\n",
      "CYCLE 15:\n",
      "  Surface coverage (cumulative): 51.94%\n",
      "  Point coverage (cumulative): 51.94%\n",
      "  Physical impingement: 8.43 #/nm²\n",
      "  GPC: 1.715 Å\n",
      "  Coverage per cycle: 51.94%\n",
      "  Film thickness: 2.573 nm\n",
      "  Total adsorbed precursors: 375\n",
      "\n",
      "CYCLE 16:\n",
      "  Surface coverage (cumulative): 51.94%\n",
      "  Point coverage (cumulative): 51.94%\n",
      "  Physical impingement: 8.49 #/nm²\n",
      "  GPC: 1.715 Å\n",
      "  Coverage per cycle: 51.94%\n",
      "  Film thickness: 2.744 nm\n",
      "  Total adsorbed precursors: 375\n",
      "\n",
      "CYCLE 17:\n",
      "  Surface coverage (cumulative): 51.94%\n",
      "  Point coverage (cumulative): 51.94%\n",
      "  Physical impingement: 8.39 #/nm²\n",
      "  GPC: 1.715 Å\n",
      "  Coverage per cycle: 51.94%\n",
      "  Film thickness: 2.916 nm\n",
      "  Total adsorbed precursors: 375\n",
      "\n",
      "CYCLE 18:\n",
      "  Surface coverage (cumulative): 51.94%\n",
      "  Point coverage (cumulative): 51.94%\n",
      "  Physical impingement: 8.60 #/nm²\n",
      "  GPC: 1.715 Å\n",
      "  Coverage per cycle: 51.94%\n",
      "  Film thickness: 3.087 nm\n",
      "  Total adsorbed precursors: 375\n",
      "\n",
      "CYCLE 19:\n",
      "  Surface coverage (cumulative): 51.94%\n",
      "  Point coverage (cumulative): 51.94%\n",
      "  Physical impingement: 8.60 #/nm²\n",
      "  GPC: 1.715 Å\n",
      "  Coverage per cycle: 51.94%\n",
      "  Film thickness: 3.259 nm\n",
      "  Total adsorbed precursors: 375\n",
      "\n",
      "CYCLE 20:\n",
      "  Surface coverage (cumulative): 51.94%\n",
      "  Point coverage (cumulative): 51.94%\n",
      "  Physical impingement: 8.32 #/nm²\n",
      "  GPC: 1.715 Å\n",
      "  Coverage per cycle: 51.94%\n",
      "  Film thickness: 3.430 nm\n",
      "  Total adsorbed precursors: 375\n",
      "\n"
     ]
    },
    {
     "data": {
      "image/png": "[encoded data removed]",
      "text/plain": [
       "<Figure size 1200x500 with 2 Axes>"
      ]
     },
     "metadata": {},
     "output_type": "display_data"
    },
    {
     "data": {
      "image/png": "[encoded data removed]",
      "text/plain": [
       "<Figure size 1000x600 with 1 Axes>"
      ]
     },
     "metadata": {},
     "output_type": "display_data"
    },
    {
     "data": {
      "image/png": "[encoded data removed]",
      "text/plain": [
       "<Figure size 1000x600 with 1 Axes>"
      ]
     },
     "metadata": {},
     "output_type": "display_data"
    },
    {
     "data": {
      "image/png": "[encoded data removed]",
      "text/plain": [
       "<Figure size 1000x600 with 1 Axes>"
      ]
     },
     "metadata": {},
     "output_type": "display_data"
    },
    {
     "data": {
      "image/png": "[encoded data removed]",
      "text/plain": [
       "<Figure size 1000x600 with 1 Axes>"
      ]
     },
     "metadata": {},
     "output_type": "display_data"
    }
   ],
   "source": [
    "# Tạo analyzer từ dữ liệu mô phỏng\n",
    "analyzer = create_analyzer_from_simulation_data(\n",
    "    surface_area_nm2=surface_area_nm2,\n",
    "    inhibitor_size_top_view_nm2=inhibitor_area_nm2,\n",
    "    precursor_size_top_view_nm2=molecule_area_nm2,\n",
    "    total_adsorption_sites=len(adsorption_sites),\n",
    "    number_gas_inhibitors=number_gas_inhibitors,\n",
    "    number_ads_inhibitors=number_ads_inhibitors,\n",
    "    number_gas_precursor=number_gas_precursor,\n",
    "    number_ads_precursor=number_ads_precursor,\n",
    "    z_offset=2.0,\n",
    "    density=6.95,  # SnO2 density\n",
    "    molecular_mass=150.71  # SnO2 molecular mass\n",
    ")\n",
    "\n",
    "# Vẽ tất cả đồ thị\n",
    "plots = plot_all_ald_analysis(analyzer)\n",
    "\n",
    "# In báo cáo chi tiết\n",
    "report = analyzer.generate_comprehensive_report()\n",
    "print(report)\n",
    "\n",
    "# Hiển thị các đồ thị\n",
    "import matplotlib.pyplot as plt\n",
    "plt.show()\n"
   ]
  },
  {
   "cell_type": "markdown",
   "id": "8898182a",
   "metadata": {},
   "source": [
    "# TEST 1"
   ]
  },
  {
   "cell_type": "code",
   "execution_count": null,
   "id": "9cec97ae",
   "metadata": {},
   "outputs": [],
   "source": [
    "'''\n",
    "Đoạn code này mô phỏng quá trình hấp phụ của inhibitors và precursors trên bề mặt slab kèm chất đồng phản ứng H2O \n",
    "theo quy trình ALD với các chu kỳ được xác định rõ ràng.\n",
    "n = số lần lặp quá trình trong 1 chu kỳ\n",
    "N_gas = số phân tử trong 1 lần lặp\n",
    "'''\n",
    "from ase import Atoms\n",
    "from ase.visualize import view\n",
    "import numpy as np\n",
    "from tqdm import tqdm\n",
    "from scipy.spatial import cKDTree\n",
    "\n",
    "# Đảm bảo có bán kính cho O (từ phản ứng H2O)\n",
    "if 'O' not in radius:\n",
    "    radius['O'] = 1.52  # Bán kính van der Waals của O, đơn vị Å (có thể điều chỉnh)\n",
    "\n",
    "# Thêm các tham số mô phỏng (nếu chưa có)\n",
    "n = 3  # Số lần lặp quá trình trong 1 chu kỳ\n",
    "# N_gas = 5  # Số phân tử trong 1 lần lặp\n",
    "# N = 2  # Số chu kỳ ALD\n",
    "    \n",
    "# Khởi tạo danh sách để lưu trữ các phân tử\n",
    "inhibitor_phase_molecules = []  # Phân tử inhibitors trong giai đoạn khí (chỉ chu kỳ 1)\n",
    "ads_inhibitor_molecules = []   # Phân tử inhibitors đã hấp phụ (chỉ chu kỳ 1)\n",
    "ads_phase_molecules = []       # Phân tử precursors đã hấp phụ (tất cả chu kỳ)\n",
    "\n",
    "# Mảng theo dõi số lượng phân tử\n",
    "number_gas_inhibitors = np.array([])\n",
    "number_ads_inhibitors = np.array([])\n",
    "number_gas_precursor = np.array([])\n",
    "number_ads_precursor = np.array([])\n",
    "\n",
    "# Định nghĩa z-offset cho hấp phụ ontop (Sn trên O)\n",
    "z_offset = 2.0  # Khoảng cách Sn-O, đơn vị Å (có thể điều chỉnh)\n",
    "\n",
    "# Dictionary để lưu thông tin về chu kỳ của mỗi vị trí hấp phụ và phân tử\n",
    "adsorption_cycle_info = {}  # key: (x, y, z) tuple của vị trí O, value: chu kỳ\n",
    "molecules_by_cycle = {}     # key: chu kỳ, value: list các phân tử\n",
    "\n",
    "# Khởi tạo cu_tree ban đầu với adsorption_sites\n",
    "cu_tree = cKDTree(adsorption_sites)\n",
    "\n",
    "# Khởi tạo thông tin chu kỳ cho các vị trí ban đầu (chu kỳ 0 - substrate)\n",
    "for site in adsorption_sites:\n",
    "    adsorption_cycle_info[tuple(site)] = 0\n",
    "\n",
    "for cycle in range(1, N+1):\n",
    "    print(f'\\n{\"=\"*50}')\n",
    "    print(f'CYCLE {cycle}')\n",
    "    print(f'{\"=\"*50}')\n",
    "    \n",
    "    # Khởi tạo molecules_by_cycle cho chu kỳ hiện tại\n",
    "    molecules_by_cycle[cycle] = []\n",
    "    \n",
    "    if cycle == 1:\n",
    "        print('--- CHU KỲ 1: INHIBITORS + PRECURSORS + H2O ---')\n",
    "        \n",
    "        # ========== 1. GIAI ĐOẠN INHIBITORS (CHỈ CHU KỲ 1) ==========\n",
    "        print(f'\\n1. INHIBITORS PHASE - {n} lần lặp')\n",
    "        inhibitor_phase_molecules = []  # Reset danh sách\n",
    "        ads_inhibitor_molecules = []    # Reset danh sách\n",
    "        \n",
    "        # Thực hiện n lần lặp inhibitors\n",
    "        for iteration in range(1, n+1):\n",
    "            print(f'\\n--- Inhibitor Iteration {iteration}/{n} ---')\n",
    "            \n",
    "            # 1a. Giai đoạn khí của inhibitors (N_gas phân tử trong 1 lần lặp)\n",
    "            print(f'1a. Inhibitors Gas Phase - {N_gas} molecules')\n",
    "            iteration_gas_molecules = []  # Phân tử khí trong lần lặp này\n",
    "            \n",
    "            for i in range(1, N_gas+1):\n",
    "                print(f'  Gas molecule {i}/{N_gas}')\n",
    "                \n",
    "                # Sao chép phân tử từ inhibitor_atoms\n",
    "                molecule = inhibitor_atoms.copy()\n",
    "                \n",
    "                # Tạo vị trí ngẫu nhiên và ma trận xoay\n",
    "                pos, rx, ry, rz = generate_random_position_and_rotation(slab, adsorption_sites, 0.2, angle_range=(1, 360))\n",
    "                \n",
    "                # Áp dụng xoay cho phân tử\n",
    "                molecule.rotate('x', np.arccos(rx[2, 2]), center=molecule[0].position)\n",
    "                molecule.rotate('y', np.arccos(ry[0, 0]), center=molecule[0].position)\n",
    "                molecule.rotate('z', np.arccos(rz[1, 1]), center=molecule[0].position)\n",
    "                \n",
    "                # Dịch phân tử đến vị trí ngẫu nhiên\n",
    "                offset = pos[0] - molecule[0].position\n",
    "                molecule.translate(offset)\n",
    "                \n",
    "                # Kiểm tra steric hindrance CHỈ với molecules trong lần lặp hiện tại\n",
    "                no_overlap = True\n",
    "                if len(iteration_gas_molecules) > 0:\n",
    "                    symbols = []\n",
    "                    positions = []\n",
    "                    \n",
    "                    # Chỉ thêm từ lần lặp hiện tại\n",
    "                    for prev_molecule in iteration_gas_molecules:\n",
    "                        symbols.extend(prev_molecule.get_chemical_symbols())\n",
    "                        positions.extend(prev_molecule.get_positions())\n",
    "                    \n",
    "                    all_gas_atoms = Atoms(symbols=symbols, positions=positions)\n",
    "                    \n",
    "                    distances = compute_distances_vectorized(molecule.positions, all_gas_atoms.positions)\n",
    "                    symbols1 = molecule.get_chemical_symbols()\n",
    "                    symbols2 = all_gas_atoms.get_chemical_symbols()\n",
    "                    radii1 = np.array([radius[s] for s in symbols1])\n",
    "                    radii2 = np.array([radius[s] for s in symbols2])\n",
    "                    radii_sums = radii1[:, None] + radii2[None, :]\n",
    "                    \n",
    "                    if not np.all(distances > radii_sums):\n",
    "                        no_overlap = False\n",
    "                \n",
    "                if no_overlap:\n",
    "                    print('    ✓ Gas molecule accepted')\n",
    "                    iteration_gas_molecules.append(molecule.copy())\n",
    "                else:\n",
    "                    print('    ✗ Gas molecule rejected (steric hindrance)')\n",
    "            \n",
    "            # Thêm các phân tử khí của lần lặp này vào tổng\n",
    "            inhibitor_phase_molecules.extend(iteration_gas_molecules)\n",
    "            print(f'  Iteration {iteration} gas phase: {len(iteration_gas_molecules)} molecules accepted')\n",
    "            \n",
    "            # 1b. Giai đoạn hấp phụ của inhibitors trong lần lặp này\n",
    "            print(f'1b. Inhibitors Adsorption Phase - Iteration {iteration}')\n",
    "            \n",
    "            for i, molecule in enumerate(tqdm(iteration_gas_molecules, desc=f\"Adsorbing Inhibitors Iter {iteration}\")):\n",
    "                molecule_copy = molecule.copy()\n",
    "                \n",
    "                # Tìm vị trí hấp phụ gần nhất\n",
    "                distances, indices = cu_tree.query(molecule_copy[0].position, k=min(MAX_SITES, len(adsorption_sites)))\n",
    "                \n",
    "                # Đảm bảo indices là mảng 1D\n",
    "                if isinstance(indices, (int, np.integer)):\n",
    "                    indices = [indices]\n",
    "                \n",
    "                adsorbed = False\n",
    "                for k in indices:\n",
    "                    if k >= len(adsorption_sites):\n",
    "                        continue\n",
    "                        \n",
    "                    O_site = adsorption_sites[k]\n",
    "                    ads_molecule = rotated_inhibitor.copy()\n",
    "                    offset = O_site - ads_molecule[0].position\n",
    "                    ads_molecule.translate(offset)\n",
    "                    ads_molecule = rotate_molecule_z_axis(ads_molecule)\n",
    "                    \n",
    "                    # Kiểm tra steric hindrance với TẤT CẢ ads_inhibitor_molecules\n",
    "                    no_overlap = True\n",
    "                    if len(ads_inhibitor_molecules) > 0:\n",
    "                        symbols = []\n",
    "                        positions = []\n",
    "                        for prev_ads_molecule in ads_inhibitor_molecules:\n",
    "                            symbols.extend(prev_ads_molecule.get_chemical_symbols())\n",
    "                            positions.extend(prev_ads_molecule.get_positions())\n",
    "                        all_ads_atoms = Atoms(symbols=symbols, positions=positions)\n",
    "                        \n",
    "                        distances = compute_distances_vectorized(ads_molecule.positions, all_ads_atoms.positions)\n",
    "                        symbols1 = ads_molecule.get_chemical_symbols()\n",
    "                        symbols2 = all_ads_atoms.get_chemical_symbols()\n",
    "                        radii1 = np.array([radius[s] for s in symbols1])\n",
    "                        radii2 = np.array([radius[s] for s in symbols2])\n",
    "                        radii_sums = radii1[:, None] + radii2[None, :]\n",
    "                        \n",
    "                        if not np.all(distances > radii_sums):\n",
    "                            no_overlap = False\n",
    "                    \n",
    "                    if no_overlap:\n",
    "                        ads_inhibitor_molecules.append(ads_molecule.copy())\n",
    "                        adsorbed = True\n",
    "                        break\n",
    "                \n",
    "                if not adsorbed:\n",
    "                    print(f'    Molecule {i+1} could not be adsorbed')\n",
    "            \n",
    "            print(f'  Iteration {iteration} adsorption: {len(ads_inhibitor_molecules)} total inhibitors adsorbed')\n",
    "        \n",
    "        print(f'\\nInhibitors Phase Completed:')\n",
    "        print(f'  Total gas molecules: {len(inhibitor_phase_molecules)}')\n",
    "        print(f'  Total adsorbed molecules: {len(ads_inhibitor_molecules)}')\n",
    "    \n",
    "    # ========== 2. GIAI ĐOẠN PRECURSORS (TẤT CẢ CHU KỲ) ==========\n",
    "    print(f'\\n2. PRECURSORS PHASE - {n} lần lặp (Cycle {cycle})')\n",
    "    cycle_gas_molecules = []      # Tất cả gas molecules trong chu kỳ này\n",
    "    cycle_ads_molecules = []      # Tất cả adsorbed molecules trong chu kỳ này\n",
    "    \n",
    "    # Xác định vị trí hấp phụ cho chu kỳ hiện tại\n",
    "    if cycle == 1:\n",
    "        adsorption_positions = adsorption_sites\n",
    "        print(f'  Using original adsorption sites: {len(adsorption_positions)} sites')\n",
    "    else:\n",
    "        # Chu kỳ 2+: Sử dụng vị trí O từ ads_phase_molecules\n",
    "        adsorption_positions = []\n",
    "        adsorption_positions_cycle_map = {}  # Map từ vị trí đến chu kỳ gốc\n",
    "        \n",
    "        for molecule in ads_phase_molecules:\n",
    "            symbols = molecule.get_chemical_symbols()\n",
    "            positions = molecule.get_positions()\n",
    "            \n",
    "            # Tìm chu kỳ của phân tử này\n",
    "            molecule_cycle = None\n",
    "            for cycle_key, cycle_molecules in molecules_by_cycle.items():\n",
    "                if molecule in cycle_molecules:\n",
    "                    molecule_cycle = cycle_key\n",
    "                    break\n",
    "            \n",
    "            if molecule_cycle is None:\n",
    "                molecule_cycle = 1  # Default cho các phân tử từ chu kỳ 1\n",
    "            \n",
    "            for idx, symbol in enumerate(symbols):\n",
    "                if symbol == 'O':\n",
    "                    pos_tuple = tuple(positions[idx])\n",
    "                    adsorption_positions.append(positions[idx])\n",
    "                    adsorption_positions_cycle_map[len(adsorption_positions)-1] = molecule_cycle\n",
    "        \n",
    "        adsorption_positions = np.array(adsorption_positions)\n",
    "        \n",
    "        if len(adsorption_positions) == 0:\n",
    "            print(f\"  Warning: No O atoms found for adsorption in cycle {cycle}. Skipping precursor phase.\")\n",
    "            number_gas_inhibitors = np.append(number_gas_inhibitors, 0)\n",
    "            number_ads_inhibitors = np.append(number_ads_inhibitors, len(ads_inhibitor_molecules) if cycle == 1 else 0)\n",
    "            number_gas_precursor = np.append(number_gas_precursor, 0)\n",
    "            number_ads_precursor = np.append(number_ads_precursor, 0)\n",
    "            continue\n",
    "        \n",
    "        print(f'  Using O atom positions from previous cycles: {len(adsorption_positions)} sites')\n",
    "    \n",
    "    # Tạo lại cu_tree với adsorption_positions\n",
    "    cu_tree = cKDTree(adsorption_positions)\n",
    "    \n",
    "    # Thực hiện n lần lặp precursors\n",
    "    for iteration in range(1, n+1):\n",
    "        print(f'\\n--- Precursor Iteration {iteration}/{n} ---')\n",
    "        \n",
    "        # 2a. Giai đoạn khí của precursors (N_gas phân tử trong 1 lần lặp)\n",
    "        print(f'2a. Precursors Gas Phase - {N_gas} molecules')\n",
    "        iteration_gas_molecules = []  # Phân tử khí trong lần lặp này\n",
    "        \n",
    "        for i in range(1, N_gas+1):\n",
    "            print(f'  Gas molecule {i}/{N_gas}')\n",
    "            \n",
    "            # Sao chép phân tử từ atoms\n",
    "            molecule = atoms.copy()\n",
    "            \n",
    "            # Tạo vị trí ngẫu nhiên và ma trận xoay\n",
    "            pos, rx, ry, rz = generate_random_position_and_rotation(slab, adsorption_sites, 0.2, angle_range=(1, 360))\n",
    "            \n",
    "            # Áp dụng xoay cho phân tử\n",
    "            molecule.rotate('x', np.arccos(rx[2, 2]), center=molecule[0].position)\n",
    "            molecule.rotate('y', np.arccos(ry[0, 0]), center=molecule[0].position)\n",
    "            molecule.rotate('z', np.arccos(rz[1, 1]), center=molecule[0].position)\n",
    "            \n",
    "            # Dịch phân tử đến vị trí ngẫu nhiên\n",
    "            offset = pos[0] - molecule[0].position\n",
    "            molecule.translate(offset)\n",
    "            \n",
    "            # Kiểm tra steric hindrance CHỈ với molecules trong lần lặp hiện tại\n",
    "            no_overlap = True\n",
    "            if len(iteration_gas_molecules) > 0:\n",
    "                symbols = []\n",
    "                positions = []\n",
    "                \n",
    "                # Chỉ thêm từ lần lặp hiện tại\n",
    "                for prev_molecule in iteration_gas_molecules:\n",
    "                    symbols.extend(prev_molecule.get_chemical_symbols())\n",
    "                    positions.extend(prev_molecule.get_positions())\n",
    "                \n",
    "                all_gas_atoms = Atoms(symbols=symbols, positions=positions)\n",
    "                \n",
    "                distances = compute_distances_vectorized(molecule.positions, all_gas_atoms.positions)\n",
    "                symbols1 = molecule.get_chemical_symbols()\n",
    "                symbols2 = all_gas_atoms.get_chemical_symbols()\n",
    "                radii1 = np.array([radius[s] for s in symbols1])\n",
    "                radii2 = np.array([radius[s] for s in symbols2])\n",
    "                radii_sums = radii1[:, None] + radii2[None, :]\n",
    "                \n",
    "                if not np.all(distances > radii_sums):\n",
    "                    no_overlap = False\n",
    "            \n",
    "            if no_overlap:\n",
    "                print('    ✓ Gas molecule accepted')\n",
    "                iteration_gas_molecules.append(molecule.copy())\n",
    "            else:\n",
    "                print('    ✗ Gas molecule rejected (steric hindrance)')\n",
    "        \n",
    "        # Thêm các phân tử khí của lần lặp này vào chu kỳ\n",
    "        cycle_gas_molecules.extend(iteration_gas_molecules)\n",
    "        print(f'  Iteration {iteration} gas phase: {len(iteration_gas_molecules)} molecules accepted')\n",
    "        \n",
    "        # 2b. Giai đoạn hấp phụ của precursors trong lần lặp này\n",
    "        print(f'2b. Precursors Adsorption Phase - Iteration {iteration}')\n",
    "        \n",
    "        for i, molecule in enumerate(tqdm(iteration_gas_molecules, desc=f\"Adsorbing Precursors Iter {iteration}\")):\n",
    "            molecule_copy = molecule.copy()\n",
    "            \n",
    "            # Tìm vị trí hấp phụ gần nhất\n",
    "            k = min(MAX_SITES, len(adsorption_positions))\n",
    "            distances, indices = cu_tree.query(molecule_copy[0].position, k=k)\n",
    "            \n",
    "            # Đảm bảo indices là mảng 1D\n",
    "            if isinstance(indices, (int, np.integer)):\n",
    "                indices = [indices]\n",
    "            \n",
    "            adsorbed = False\n",
    "            for k_idx in indices:\n",
    "                if k_idx >= len(adsorption_positions):\n",
    "                    continue\n",
    "                    \n",
    "                O_site = adsorption_positions[k_idx]\n",
    "                ads_molecule = rotated_adsorbate.copy()\n",
    "                offset = O_site - ads_molecule[0].position\n",
    "                \n",
    "                # Xác định chu kỳ gốc của vị trí hấp phụ và target_layer\n",
    "                if cycle == 1:\n",
    "                    original_cycle = 0  # Substrate\n",
    "                    target_layer = 1   # Layer 1 (trên substrate)\n",
    "                    layer_z_offset = z_offset  # Layer 1 luôn có z_offset cố định từ substrate\n",
    "                else:\n",
    "                    original_cycle = adsorption_positions_cycle_map[k_idx]\n",
    "                    target_layer = original_cycle + 1  # Layer tiếp theo\n",
    "                    # Layer_z_offset được tính từ substrate (layer 0)\n",
    "                    layer_z_offset = target_layer * z_offset\n",
    "                \n",
    "                # Thêm z-offset dựa trên target_layer\n",
    "                offset += np.array([0, 0, layer_z_offset])\n",
    "                    \n",
    "                ads_molecule.translate(offset)\n",
    "                ads_molecule = rotate_molecule_z_axis(ads_molecule)\n",
    "                \n",
    "                # LOGIC CHÍNH XÁC: Kiểm tra steric hindrance với các phân tử từ target_layer đến cycle hiện tại\n",
    "                no_overlap = True\n",
    "                blocking_layer = None\n",
    "                \n",
    "                # Kiểm tra steric hindrance với tất cả các layer từ target_layer đến cycle hiện tại\n",
    "                for check_layer in range(target_layer, cycle + 1):\n",
    "                    check_molecules = []\n",
    "                    \n",
    "                    if check_layer == cycle:\n",
    "                        # Layer hiện tại: kiểm tra với các phân tử đã hấp phụ trong chu kỳ hiện tại\n",
    "                        check_molecules = cycle_ads_molecules.copy()\n",
    "                    else:\n",
    "                        # Layer cũ hơn: kiểm tra với các phân tử ở layer đó\n",
    "                        if check_layer in molecules_by_cycle:\n",
    "                            check_molecules = molecules_by_cycle[check_layer].copy()\n",
    "                    \n",
    "                    if len(check_molecules) > 0:\n",
    "                        # Tạo phân tử test với z_offset của layer đang kiểm tra\n",
    "                        test_molecule = rotated_adsorbate.copy()\n",
    "                        test_offset = O_site - test_molecule[0].position\n",
    "                        # Z-offset được tính từ substrate (layer 0)\n",
    "                        check_layer_z_offset = check_layer * z_offset\n",
    "                        test_offset += np.array([0, 0, check_layer_z_offset])\n",
    "                        test_molecule.translate(test_offset)\n",
    "                        test_molecule = rotate_molecule_z_axis(test_molecule)\n",
    "                        \n",
    "                        symbols = []\n",
    "                        positions = []\n",
    "                        for prev_ads_molecule in check_molecules:\n",
    "                            symbols.extend(prev_ads_molecule.get_chemical_symbols())\n",
    "                            positions.extend(prev_ads_molecule.get_positions())\n",
    "                        all_ads_atoms = Atoms(symbols=symbols, positions=positions)\n",
    "                        \n",
    "                        distances = compute_distances_vectorized(test_molecule.positions, all_ads_atoms.positions)\n",
    "                        symbols1 = test_molecule.get_chemical_symbols()\n",
    "                        symbols2 = all_ads_atoms.get_chemical_symbols()\n",
    "                        radii1 = np.array([radius[s] for s in symbols1])\n",
    "                        radii2 = np.array([radius[s] for s in symbols2])\n",
    "                        radii_sums = radii1[:, None] + radii2[None, :]\n",
    "                        \n",
    "                        if not np.all(distances > radii_sums):\n",
    "                            no_overlap = False\n",
    "                            blocking_layer = check_layer\n",
    "                            break  # Dừng ngay khi gặp steric hindrance\n",
    "                \n",
    "                # Sử dụng ads_molecule đã tính toán với z_offset chính xác của target_layer\n",
    "                # (ads_molecule đã được tính toán với layer_z_offset ở trên)\n",
    "                \n",
    "                if no_overlap:\n",
    "                    cycle_ads_molecules.append(ads_molecule.copy())\n",
    "                    print(f'    ✓ Molecule {i+1} adsorbed at layer {target_layer} (from cycle {original_cycle} site, z_offset={layer_z_offset:.1f})')\n",
    "                    adsorbed = True\n",
    "                    break\n",
    "                else:\n",
    "                    print(f'    ✗ Molecule {i+1} rejected at layer {target_layer} (blocked by layer {blocking_layer})')\n",
    "            \n",
    "            if not adsorbed:\n",
    "                print(f'    Molecule {i+1} could not be adsorbed at any site')\n",
    "        \n",
    "        print(f'  Iteration {iteration} adsorption: {len(cycle_ads_molecules)} total precursors adsorbed in cycle')\n",
    "    \n",
    "    print(f'\\nPrecursors Phase Completed (Cycle {cycle}):')\n",
    "    print(f'  Total gas molecules: {len(cycle_gas_molecules)}')\n",
    "    print(f'  Total adsorbed molecules: {len(cycle_ads_molecules)}')\n",
    "    \n",
    "    # ========== 3. GIAI ĐOẠN PHẢN ỨNG H2O (1 LẦN/CHU KỲ) ==========\n",
    "    print(f'\\n3. H2O REACTION PHASE (Cycle {cycle}) - 1 lần')\n",
    "    print('  Starting H2O Reaction: Replacing all Cl with O')\n",
    "    \n",
    "    cl_replaced_total = 0\n",
    "    for i, molecule in enumerate(tqdm(cycle_ads_molecules, desc=\"Processing H2O Reaction\")):\n",
    "        # Thay toàn bộ Cl bằng O\n",
    "        symbols = molecule.get_chemical_symbols()\n",
    "        positions = molecule.get_positions()\n",
    "        cl_count = 0\n",
    "        \n",
    "        for idx, symbol in enumerate(symbols):\n",
    "            if symbol == 'Cl':\n",
    "                symbols[idx] = 'O'\n",
    "                cl_count += 1\n",
    "                # Cập nhật thông tin chu kỳ cho vị trí O mới\n",
    "                adsorption_cycle_info[tuple(positions[idx])] = cycle\n",
    "        \n",
    "        molecule.set_chemical_symbols(symbols)\n",
    "        cl_replaced_total += cl_count\n",
    "        \n",
    "        if cl_count > 0:\n",
    "            print(f'  Molecule {i+1}: Replaced {cl_count} Cl atoms with O')\n",
    "    \n",
    "    # Lưu các phân tử của chu kỳ hiện tại vào molecules_by_cycle\n",
    "    molecules_by_cycle[cycle] = cycle_ads_molecules.copy()\n",
    "    \n",
    "    # Thêm các phân tử đã phản ứng vào ads_phase_molecules\n",
    "    ads_phase_molecules.extend(cycle_ads_molecules)\n",
    "    print(f'  H2O Reaction Completed: {len(cycle_ads_molecules)} molecules, {cl_replaced_total} Cl→O replacements')\n",
    "    \n",
    "    # ========== 4. CẬP NHẬT SỐ LIỆU THỐNG KÊ ==========\n",
    "    number_gas_inhibitors = np.append(number_gas_inhibitors, len(inhibitor_phase_molecules) if cycle == 1 else 0)\n",
    "    number_ads_inhibitors = np.append(number_ads_inhibitors, len(ads_inhibitor_molecules) if cycle == 1 else 0)\n",
    "    number_gas_precursor = np.append(number_gas_precursor, len(cycle_gas_molecules))\n",
    "    number_ads_precursor = np.append(number_ads_precursor, len(cycle_ads_molecules))\n",
    "    \n",
    "    print(f'\\n{\"=\"*20} END CYCLE {cycle} SUMMARY {\"=\"*20}')\n",
    "    print(f'Gas inhibitors: {len(inhibitor_phase_molecules) if cycle == 1 else 0}')\n",
    "    print(f'Adsorbed inhibitors: {len(ads_inhibitor_molecules) if cycle == 1 else 0}')\n",
    "    print(f'Gas precursors: {len(cycle_gas_molecules)}')\n",
    "    print(f'Adsorbed precursors: {len(cycle_ads_molecules)}')\n",
    "    print(f'Total molecules in system: {len(ads_inhibitor_molecules) + len(ads_phase_molecules)}')\n",
    "    print(f'Molecules by layer: {[(k, len(v)) for k, v in molecules_by_cycle.items()]}')"
   ]
  },
  {
   "cell_type": "code",
   "execution_count": null,
   "id": "9e24f76d",
   "metadata": {},
   "outputs": [],
   "source": [
    "# ========== 5. HIỂN THỊ KẾT QUẢ CUỐI CÙNG ==========\n",
    "print(f'\\n{\"=\"*60}')\n",
    "print('FINAL SIMULATION RESULTS')\n",
    "print(f'{\"=\"*60}')\n",
    "print(f'Total cycles completed: {N}')\n",
    "print(f'Iterations per cycle: {n}')\n",
    "print(f'Molecules per iteration: {N_gas}')\n",
    "print(f'Total inhibitors adsorbed: {len(ads_inhibitor_molecules)}')\n",
    "print(f'Total precursors processed through all cycles: {len(ads_phase_molecules)}')\n",
    "\n",
    "# Gộp tất cả phân tử để hiển thị bằng nglview\n",
    "all_adsorbed_molecules = []\n",
    "all_adsorbed_molecules.extend(ads_inhibitor_molecules)  # Inhibitors từ chu kỳ 1\n",
    "all_adsorbed_molecules.extend(ads_phase_molecules)      # Precursors từ tất cả chu kỳ\n",
    "\n",
    "print(f'Total molecules for visualization: {len(all_adsorbed_molecules)}')\n",
    "\n",
    "# Tạo structure tổng hợp để hiển thị\n",
    "if len(all_adsorbed_molecules) > 0:\n",
    "    # Gộp tất cả symbols và positions\n",
    "    all_symbols = []\n",
    "    all_positions = []\n",
    "    \n",
    "    # Thêm slab\n",
    "    all_symbols.extend(slab.get_chemical_symbols())\n",
    "    all_positions.extend(slab.get_positions())\n",
    "    \n",
    "    # Thêm tất cả phân tử đã hấp phụ\n",
    "    for molecule in all_adsorbed_molecules:\n",
    "        all_symbols.extend(molecule.get_chemical_symbols())\n",
    "        all_positions.extend(molecule.get_positions())\n",
    "    \n",
    "    # Tạo structure cuối cùng\n",
    "    final_structure = Atoms(symbols=all_symbols, positions=all_positions)\n",
    "    print('✓ Final structure created successfully for visualization')\n",
    "    \n",
    "    # HIỂN THỊ KẾT QUẢ BẰNG NGLVIEW\n",
    "    print('\\n📊 VISUALIZATION')\n",
    "    print('Displaying final structure with nglview...')\n",
    "    view(final_structure, viewer='ngl')\n",
    "    '''\n",
    "    try:\n",
    "        view(final_structure, viewer='ngl')\n",
    "        print('✓ Structure displayed successfully')\n",
    "    except Exception as e:\n",
    "        print(f'✗ Error displaying structure: {e}')\n",
    "        print('You can manually visualize using: view(final_structure)')\n",
    "    '''\n",
    "        \n",
    "else:\n",
    "    print('⚠️  No molecules were adsorbed. Only slab will be available for visualization.')\n",
    "    final_structure = slab.copy()\n",
    "    view(final_structure, viewer='ngl')\n",
    "    '''\n",
    "    try:\n",
    "        view(final_structure, viewer='ngl')\n",
    "        print('✓ Slab-only structure displayed')\n",
    "    except Exception as e:\n",
    "        print(f'✗ Error displaying slab: {e}')\n",
    "    '''\n",
    "\n",
    "print('\\n🎉 SIMULATION COMPLETED SUCCESSFULLY!')\n",
    "print(f'Final structure variable: final_structure')\n",
    "print(f'Total atoms in final structure: {len(final_structure)}')\n",
    "\n",
    "# In thống kê chi tiết\n",
    "print(f'\\n📈 DETAILED STATISTICS:')\n",
    "for i in range(len(number_gas_inhibitors)):\n",
    "    cycle_num = i + 1\n",
    "    print(f'Cycle {cycle_num}:')\n",
    "    print(f'  - Gas inhibitors: {int(number_gas_inhibitors[i])}')\n",
    "    print(f'  - Adsorbed inhibitors: {int(number_ads_inhibitors[i])}')\n",
    "    print(f'  - Gas precursors: {int(number_gas_precursor[i])}')\n",
    "    print(f'  - Adsorbed precursors: {int(number_ads_precursor[i])}')\n",
    "\n",
    "\n",
    "view(final_structure, viewer='ngl')"
   ]
  },
  {
   "cell_type": "markdown",
   "id": "18559cef",
   "metadata": {},
   "source": [
    "# Run"
   ]
  },
  {
   "cell_type": "code",
   "execution_count": null,
   "id": "dd10713f",
   "metadata": {},
   "outputs": [],
   "source": [
    "'''\n",
    "Đoạn code này mô phỏng quá trình hấp phụ của inhibitors và precursors trên bề mặt slab kèm chất đồng phản ứng H2O.\n",
    "'''\n",
    "from ase import Atoms\n",
    "from ase.visualize import view\n",
    "import numpy as np\n",
    "from tqdm import tqdm\n",
    "from scipy.spatial import cKDTree  # Giả sử cu_tree là cKDTree\n",
    "\n",
    "# Đảm bảo có bán kính cho O (từ phản ứng H2O)\n",
    "if 'O' not in radius:\n",
    "    radius['O'] = 1.52  # Bán kính van der Waals của O, đơn vị Å (có thể điều chỉnh)\n",
    "    \n",
    "# Khởi tạo danh sách để lưu trữ các phân tử\n",
    "inhibitor_phase_molecules = []  # Phân tử inhibitors trong giai đoạn khí\n",
    "ads_inhibitor_molecules = []   # Phân tử inhibitors đã hấp phụ\n",
    "gas_phase_molecules = []       # Phân tử precursors trong giai đoạn khí\n",
    "ads_phase_molecules = []       # Phân tử precursors đã hấp phụ\n",
    "number_gas_inhibitors = np.array([])  # Số lượng inhibitors trong giai đoạn khí\n",
    "number_ads_inhibitors = np.array([])  # Số lượng inhibitors đã hấp phụ\n",
    "number_gas_precursor = np.array([])   # Số lượng precursors trong giai đoạn khí\n",
    "number_ads_precursor = np.array([])   # Số lượng precursors đã hấp phụ\n",
    "\n",
    "# Định nghĩa z-offset cho hấp phụ ontop (Sn trên O)\n",
    "z_offset = 2.0  # Khoảng cách Sn-O, đơn vị Å (có thể điều chỉnh)\n",
    "\n",
    "for j in range(1, N+1):\n",
    "    print(f'Cycle {j}')\n",
    "    \n",
    "    if j == 1:\n",
    "        # 1. Giai đoạn khí của inhibitors (chỉ trong chu kỳ 1)\n",
    "        inhibitor_phase_molecules = []  # Reset danh sách\n",
    "        for i in range(1, N_gas+1):\n",
    "            print(f'Inhibitor: {i}')\n",
    "            \n",
    "            # Sao chép phân tử từ inhibitor_atoms\n",
    "            molecule = inhibitor_atoms.copy()\n",
    "            \n",
    "            # Tạo vị trí ngẫu nhiên và ma trận xoay\n",
    "            pos, rx, ry, rz = generate_random_position_and_rotation(slab, adsorption_sites, 0.2, angle_range=(1, 360))\n",
    "            \n",
    "            # Áp dụng xoay cho phân tử\n",
    "            molecule.rotate('x', np.arccos(rx[2, 2]), center=molecule[0].position)\n",
    "            molecule.rotate('y', np.arccos(ry[0, 0]), center=molecule[0].position)\n",
    "            molecule.rotate('z', np.arccos(rz[1, 1]), center=molecule[0].position)\n",
    "            \n",
    "            # Dịch phân tử đến vị trí ngẫu nhiên\n",
    "            offset = pos[0] - molecule[0].position\n",
    "            molecule.translate(offset)\n",
    "            \n",
    "            # Kiểm tra steric hindrance trong giai đoạn khí của inhibitors\n",
    "            no_overlap = False\n",
    "            if len(inhibitor_phase_molecules) > 0:\n",
    "                symbols = []\n",
    "                positions = []\n",
    "                for prev_molecule in inhibitor_phase_molecules:\n",
    "                    symbols.extend(prev_molecule.get_chemical_symbols())\n",
    "                    positions.extend(prev_molecule.get_positions())\n",
    "                all_gas_atoms = Atoms(symbols=symbols, positions=positions)\n",
    "                \n",
    "                distances = compute_distances_vectorized(molecule.positions, all_gas_atoms.positions)\n",
    "                symbols1 = molecule.get_chemical_symbols()\n",
    "                symbols2 = all_gas_atoms.get_chemical_symbols()\n",
    "                radii1 = np.array([radius[s] for s in symbols1])\n",
    "                radii2 = np.array([radius[s] for s in symbols2])\n",
    "                radii_sums = radii1[:, None] + radii2[None, :]\n",
    "                \n",
    "                if np.all(distances > radii_sums):\n",
    "                    no_overlap = True\n",
    "            else:\n",
    "                no_overlap = True\n",
    "            \n",
    "            if no_overlap:\n",
    "                print('Inhibitors Conditions Verified')\n",
    "                inhibitor_phase_molecules.append(molecule.copy())\n",
    "        \n",
    "        print('Inhibitors Gas Layer Completed')\n",
    "        \n",
    "        # 2. Giai đoạn hấp phụ của inhibitors (chỉ trong chu kỳ 1)\n",
    "        for i in tqdm(range(len(inhibitor_phase_molecules)), desc=\"Calculating Inhibitor Adsorption\"):\n",
    "            molecule = inhibitor_phase_molecules[i].copy()\n",
    "            \n",
    "            # Tìm vị trí hấp phụ gần nhất\n",
    "            distances, indices = cu_tree.query(molecule[0].position, k=min(MAX_SITES, len(adsorption_sites)))\n",
    "            \n",
    "            # Đảm bảo indices là mảng 1D\n",
    "            if isinstance(indices, (int, np.integer)):\n",
    "                indices = [indices]\n",
    "            \n",
    "            for k in indices:\n",
    "                if k >= len(adsorption_sites):  # Kiểm tra chỉ số hợp lệ\n",
    "                    continue\n",
    "                O_site = adsorption_sites[k]\n",
    "                ads_molecule = rotated_inhibitor.copy()\n",
    "                offset = O_site - ads_molecule[0].position\n",
    "                ads_molecule.translate(offset)\n",
    "                ads_molecule = rotate_molecule_z_axis(ads_molecule)\n",
    "                \n",
    "                # Kiểm tra steric hindrance với các inhibitors đã hấp phụ\n",
    "                no_overlap = False\n",
    "                if len(ads_inhibitor_molecules) > 0:\n",
    "                    symbols = []\n",
    "                    positions = []\n",
    "                    for prev_ads_molecule in ads_inhibitor_molecules:\n",
    "                        symbols.extend(prev_ads_molecule.get_chemical_symbols())\n",
    "                        positions.extend(prev_ads_molecule.get_positions())\n",
    "                    all_ads_atoms = Atoms(symbols=symbols, positions=positions)\n",
    "                    \n",
    "                    distances = compute_distances_vectorized(ads_molecule.positions, all_ads_atoms.positions)\n",
    "                    symbols1 = ads_molecule.get_chemical_symbols()\n",
    "                    symbols2 = all_ads_atoms.get_chemical_symbols()\n",
    "                    radii1 = np.array([radius[s] for s in symbols1])\n",
    "                    radii2 = np.array([radius[s] for s in symbols2])\n",
    "                    radii_sums = radii1[:, None] + radii2[None, :]\n",
    "                    \n",
    "                    if np.all(distances > radii_sums):\n",
    "                        no_overlap = True\n",
    "                else:\n",
    "                    no_overlap = True\n",
    "                \n",
    "                if no_overlap:\n",
    "                    print('Inhibitor Adsorption On Substrate Successfully')\n",
    "                    ads_inhibitor_molecules.append(ads_molecule.copy())\n",
    "                    break\n",
    "        \n",
    "        print('Inhibitors Adsorption On Substrate Completed')\n",
    "    \n",
    "    # 3. Giai đoạn khí của precursors\n",
    "    gas_phase_molecules = []  # Reset danh sách cho mỗi chu kỳ\n",
    "    for i in range(1, N_gas+1):\n",
    "        print(f'Precursor: {i}')\n",
    "        \n",
    "        # Sao chép phân tử từ atoms\n",
    "        molecule = atoms.copy()\n",
    "        \n",
    "        # Tạo vị trí ngẫu nhiên và ma trận xoay\n",
    "        pos, rx, ry, rz = generate_random_position_and_rotation(slab, adsorption_sites, 0.2, angle_range=(1, 360))\n",
    "        \n",
    "        # Áp dụng xoay cho phân tử\n",
    "        molecule.rotate('x', np.arccos(rx[2, 2]), center=molecule[0].position)\n",
    "        molecule.rotate('y', np.arccos(ry[0, 0]), center=molecule[0].position)\n",
    "        molecule.rotate('z', np.arccos(rz[1, 1]), center=molecule[0].position)\n",
    "        \n",
    "        # Dịch phân tử đến vị trí ngẫu nhiên\n",
    "        offset = pos[0] - molecule[0].position\n",
    "        molecule.translate(offset)\n",
    "        \n",
    "        # Kiểm tra steric hindrance trong giai đoạn khí của precursors\n",
    "        no_overlap = False\n",
    "        if len(gas_phase_molecules) > 0:\n",
    "            symbols = []\n",
    "            positions = []\n",
    "            for prev_molecule in gas_phase_molecules:\n",
    "                symbols.extend(prev_molecule.get_chemical_symbols())\n",
    "                positions.extend(prev_molecule.get_positions())\n",
    "            all_gas_atoms = Atoms(symbols=symbols, positions=positions)\n",
    "            \n",
    "            distances = compute_distances_vectorized(molecule.positions, all_gas_atoms.positions)\n",
    "            symbols1 = molecule.get_chemical_symbols()\n",
    "            symbols2 = all_gas_atoms.get_chemical_symbols()\n",
    "            radii1 = np.array([radius[s] for s in symbols1])\n",
    "            radii2 = np.array([radius[s] for s in symbols2])\n",
    "            radii_sums = radii1[:, None] + radii2[None, :]\n",
    "            \n",
    "            if np.all(distances > radii_sums):\n",
    "                no_overlap = True\n",
    "        else:\n",
    "            no_overlap = True\n",
    "        \n",
    "        if no_overlap:\n",
    "            print('Precursors Conditions Verified')\n",
    "            gas_phase_molecules.append(molecule.copy())\n",
    "    \n",
    "    print('Precursors Gas Layer Completed')\n",
    "    \n",
    "    # 4. Giai đoạn hấp phụ của precursors\n",
    "    if j == 1:\n",
    "        # Chu kỳ 1: Sử dụng adsorption_sites\n",
    "        adsorption_positions = adsorption_sites\n",
    "        cu_tree = cKDTree(adsorption_positions)  # Khởi tạo lại cu_tree\n",
    "    else:\n",
    "        # Chu kỳ 2 trở đi: Sử dụng vị trí của nguyên tử O từ ads_phase_molecules\n",
    "        adsorption_positions = []\n",
    "        for molecule in ads_phase_molecules:\n",
    "            symbols = molecule.get_chemical_symbols()\n",
    "            positions = molecule.get_positions()\n",
    "            for idx, symbol in enumerate(symbols):\n",
    "                if symbol == 'O':\n",
    "                    adsorption_positions.append(positions[idx])\n",
    "        adsorption_positions = np.array(adsorption_positions)\n",
    "        if len(adsorption_positions) == 0:\n",
    "            print(f\"Warning: No O atoms found for adsorption in cycle {j}. Skipping precursor adsorption.\")\n",
    "            number_gas_precursor = np.append(number_gas_precursor, len(gas_phase_molecules))\n",
    "            number_ads_precursor = np.append(number_ads_precursor, 0)\n",
    "            continue\n",
    "        cu_tree = cKDTree(adsorption_positions)  # Khởi tạo lại cu_tree với adsorption_positions mới\n",
    "    \n",
    "    new_ads_molecules = []  # Danh sách tạm để lưu trữ precursors hấp phụ trong chu kỳ này\n",
    "    for i in tqdm(range(len(gas_phase_molecules)), desc=\"Calculating Precursor Adsorption\"):\n",
    "        molecule = gas_phase_molecules[i].copy()\n",
    "        \n",
    "        # Tìm vị trí hấp phụ gần nhất\n",
    "        k = min(MAX_SITES, len(adsorption_positions))  # Giới hạn k\n",
    "        distances, indices = cu_tree.query(molecule[0].position, k=k)\n",
    "        \n",
    "        # Đảm bảo indices là mảng 1D\n",
    "        if isinstance(indices, (int, np.integer)):\n",
    "            indices = [indices]\n",
    "        \n",
    "        for k_idx in indices:\n",
    "            if k_idx >= len(adsorption_positions):  # Kiểm tra chỉ số hợp lệ\n",
    "                continue\n",
    "            O_site = adsorption_positions[k_idx]\n",
    "            ads_molecule = rotated_adsorbate.copy()\n",
    "            offset = O_site - ads_molecule[0].position\n",
    "            if j > 1:\n",
    "                offset += np.array([0, 0, z_offset])  # Thêm z-offset cho chu kỳ 2+\n",
    "            ads_molecule.translate(offset)\n",
    "            ads_molecule = rotate_molecule_z_axis(ads_molecule)\n",
    "            \n",
    "            # Kiểm tra steric hindrance chỉ với các precursors đã hấp phụ trong chu kỳ này\n",
    "            no_overlap = False\n",
    "            if len(new_ads_molecules) > 0:\n",
    "                symbols = []\n",
    "                positions = []\n",
    "                for prev_ads_molecule in new_ads_molecules:\n",
    "                    symbols.extend(prev_ads_molecule.get_chemical_symbols())\n",
    "                    positions.extend(prev_ads_molecule.get_positions())\n",
    "                all_ads_atoms = Atoms(symbols=symbols, positions=positions)\n",
    "                \n",
    "                distances = compute_distances_vectorized(ads_molecule.positions, all_ads_atoms.positions)\n",
    "                symbols1 = ads_molecule.get_chemical_symbols()\n",
    "                symbols2 = all_ads_atoms.get_chemical_symbols()\n",
    "                radii1 = np.array([radius[s] for s in symbols1])\n",
    "                radii2 = np.array([radius[s] for s in symbols2])\n",
    "                radii_sums = radii1[:, None] + radii2[None, :]\n",
    "                \n",
    "                if np.all(distances > radii_sums):\n",
    "                    no_overlap = True\n",
    "            else:\n",
    "                no_overlap = True\n",
    "            \n",
    "            if no_overlap:\n",
    "                print('Precursor Adsorption On Substrate Successfully')\n",
    "                new_ads_molecules.append(ads_molecule.copy())\n",
    "                break\n",
    "    \n",
    "    print('Precursors Adsorption On Substrate Completed')\n",
    "    \n",
    "    # 5. Giai đoạn phản ứng với H2O: Thay toàn bộ Cl bằng O\n",
    "    print('Starting H2O Reaction Phase')\n",
    "    for i in tqdm(range(len(new_ads_molecules)), desc=\"Processing H2O Reaction\"):\n",
    "        molecule = new_ads_molecules[i]\n",
    "        \n",
    "        # Thay toàn bộ Cl bằng O\n",
    "        symbols = molecule.get_chemical_symbols()\n",
    "        for idx, symbol in enumerate(symbols):\n",
    "            if symbol == 'Cl':\n",
    "                symbols[idx] = 'O'\n",
    "        molecule.set_chemical_symbols(symbols)\n",
    "        print(f'Replaced all Cl with O in molecule {i+1}')\n",
    "    \n",
    "    ads_phase_molecules.extend(new_ads_molecules)\n",
    "    print('H2O Reaction Phase Completed')\n",
    "    \n",
    "    # Cập nhật số lượng phân tử\n",
    "    number_gas_inhibitors = np.append(number_gas_inhibitors, len(inhibitor_phase_molecules) if j == 1 else 0)\n",
    "    number_ads_inhibitors = np.append(number_ads_inhibitors, len(ads_inhibitor_molecules))\n",
    "    number_gas_precursor = np.append(number_gas_precursor, len(gas_phase_molecules))\n",
    "    number_ads_precursor = np.append(number_ads_precursor, len(new_ads_molecules))\n"
   ]
  },
  {
   "cell_type": "code",
   "execution_count": null,
   "id": "d6596334",
   "metadata": {},
   "outputs": [],
   "source": [
    "# Hiển thị cấu trúc\n",
    "if len(ads_phase_molecules) == 0 and len(ads_inhibitor_molecules) == 0:\n",
    "    print(\"Warning: No adsorbed molecules (inhibitors or precursors) found. Visualization will only show the slab.\")\n",
    "    combined = slab.copy()\n",
    "else:\n",
    "    # Gộp tất cả các phân tử hấp phụ (inhibitors và precursors) thành một đối tượng Atoms\n",
    "    adsorbates = Atoms()\n",
    "    for molecule in ads_inhibitor_molecules + ads_phase_molecules:\n",
    "        adsorbates += molecule\n",
    "    \n",
    "    # Thiết lập ô đơn vị và điều kiện biên cho adsorbates\n",
    "    adsorbates.cell = slab.cell\n",
    "    adsorbates.pbc = slab.pbc\n",
    "\n",
    "    # Kết hợp slab và adsorbates\n",
    "    combined = slab + adsorbates\n",
    "\n",
    "# Hiển thị cấu trúc bằng ASE view với nglview\n",
    "view(combined, viewer='ngl')"
   ]
  }
 ],
 "metadata": {
  "kernelspec": {
   "display_name": "Python 3",
   "language": "python",
   "name": "python3"
  },
  "language_info": {
   "codemirror_mode": {
    "name": "ipython",
    "version": 3
   },
   "file_extension": ".py",
   "mimetype": "text/x-python",
   "name": "python",
   "nbconvert_exporter": "python",
   "pygments_lexer": "ipython3",
   "version": "3.13.3"
  }
 },
 "nbformat": 4,
 "nbformat_minor": 5
}
